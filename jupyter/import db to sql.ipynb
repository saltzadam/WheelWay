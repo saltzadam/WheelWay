{
 "cells": [
  {
   "cell_type": "code",
   "execution_count": null,
   "metadata": {},
   "outputs": [],
   "source": [
    "# CHANGE TABLE COLUMNS TO GOOD ONES FOR PGR"
   ]
  },
  {
   "cell_type": "code",
   "execution_count": 1,
   "metadata": {},
   "outputs": [],
   "source": [
    "import sqlalchemy as sql\n",
    "from sqlalchemy_utils import database_exists\n",
    "import psycopg2\n",
    "from geoalchemy2 import WKTElement, Geometry"
   ]
  },
  {
   "cell_type": "code",
   "execution_count": 2,
   "metadata": {},
   "outputs": [],
   "source": [
    "hostname = \"wheelway2.cgfv5tiyps6x.us-east-1.rds.amazonaws.com\"\n",
    "username = \"postgres\"\n",
    "with open('/home/adam/rdskey') as keyfile:\n",
    "    rds_key = keyfile.readline().strip()\n",
    "\n",
    "    \n"
   ]
  },
  {
   "cell_type": "code",
   "execution_count": 3,
   "metadata": {},
   "outputs": [],
   "source": [
    "con = psycopg2.connect(database = \"wheelway\", \n",
    "                       user=username, \n",
    "                       host=hostname, \n",
    "                       password=rds_key, \n",
    "                       port=5432\n",
    "                      )"
   ]
  },
  {
   "cell_type": "code",
   "execution_count": 4,
   "metadata": {},
   "outputs": [],
   "source": [
    "engine = sql.create_engine('postgresql+psycopg2://{user}:{pwd}@{host}:{port}/wheelway'.format(user=username,\n",
    "                                                                                     pwd=rds_key,\n",
    "                                                                                     host=hostname,\n",
    "                                                                                     port=5432\n",
    "                                                                                     ))\n",
    "con = engine.connect()"
   ]
  },
  {
   "cell_type": "code",
   "execution_count": 5,
   "metadata": {},
   "outputs": [],
   "source": [
    "import pickle as pkl\n",
    "import networkx as nx\n",
    "\n",
    "with open(\"../brighton_graph.pkl\", 'rb') as pklfile:\n",
    "    brighton_G = pkl.load(pklfile)"
   ]
  },
  {
   "cell_type": "code",
   "execution_count": 6,
   "metadata": {},
   "outputs": [],
   "source": [
    "import osmnx as ox \n",
    "_, gdf_edges = ox.graph_to_gdfs(brighton_G)"
   ]
  },
  {
   "cell_type": "code",
   "execution_count": 7,
   "metadata": {},
   "outputs": [],
   "source": [
    "#gdf_points['geom'] = gdf_points['geometry'].apply(lambda x: WKTElement(x.wkt, srid=4326))\n",
    "gdf_edges['geom'] = gdf_edges['geometry'].apply(lambda x: WKTElement(x.wkt, srid=4326))\n",
    "gdf_edges.drop(columns=['geometry'], inplace=True)"
   ]
  },
  {
   "cell_type": "code",
   "execution_count": 8,
   "metadata": {},
   "outputs": [],
   "source": [
    "gdf_edges.rename(columns = {'u':'source',\n",
    "                 'v':'target',\n",
    "                 'length_m':'cost'}, inplace=True)"
   ]
  },
  {
   "cell_type": "code",
   "execution_count": 14,
   "metadata": {},
   "outputs": [],
   "source": [
    "gdf_edges['osmid'] = gdf_edges['osmid'].map(lambda x : x if x < 1000000000 else x / 1000000 )"
   ]
  },
  {
   "cell_type": "code",
   "execution_count": 15,
   "metadata": {},
   "outputs": [
    {
     "data": {
      "text/plain": [
       "count    2.110460e+05\n",
       "mean     9.946978e+07\n",
       "std      1.592797e+08\n",
       "min      0.000000e+00\n",
       "25%      3.520525e+07\n",
       "50%      6.198700e+07\n",
       "75%      8.881875e+07\n",
       "max      9.999000e+08\n",
       "Name: osmid, dtype: float64"
      ]
     },
     "execution_count": 15,
     "metadata": {},
     "output_type": "execute_result"
    }
   ],
   "source": [
    "gdf_edges['osmid'].describe()"
   ]
  },
  {
   "cell_type": "code",
   "execution_count": 11,
   "metadata": {},
   "outputs": [],
   "source": [
    "ALPHA = 2/5\n",
    "gdf_edges['balanced_l'] = gdf_edges['cost'] * (1 + ALPHA * abs(gdf_edges['angle_deg'])/15)"
   ]
  },
  {
   "cell_type": "code",
   "execution_count": null,
   "metadata": {},
   "outputs": [],
   "source": [
    "len(gdf_edges['osmid'].unique())"
   ]
  },
  {
   "cell_type": "code",
   "execution_count": 16,
   "metadata": {},
   "outputs": [],
   "source": [
    "from sqlalchemy import Integer, Float, BigInteger\n",
    "gdf_edges.to_sql('my_edges', engine, if_exists='replace', index=False, method='multi', chunksize=1000,\n",
    "                 dtype={'geom': Geometry('LINESTRING', srid=4326),\n",
    "                                'angle_class': Integer,\n",
    "                                'balanced_l': Float,\n",
    "                                'cost': Float,\n",
    "                                'osmid': Integer,\n",
    "                                'source': Integer,\n",
    "                                'target': Integer})"
   ]
  }
 ],
 "metadata": {
  "kernelspec": {
   "display_name": "Python 3",
   "language": "python",
   "name": "python3"
  },
  "language_info": {
   "codemirror_mode": {
    "name": "ipython",
    "version": 3
   },
   "file_extension": ".py",
   "mimetype": "text/x-python",
   "name": "python",
   "nbconvert_exporter": "python",
   "pygments_lexer": "ipython3",
   "version": "3.7.6"
  }
 },
 "nbformat": 4,
 "nbformat_minor": 4
}
