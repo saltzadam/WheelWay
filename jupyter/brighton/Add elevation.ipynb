{
 "cells": [
  {
   "cell_type": "markdown",
   "metadata": {},
   "source": [
    "We start by importing the streets data and gdf.\n",
    "\n",
    "- Segment streets into pieces\n",
    "- Get grade of each piece\n",
    "- Draw perpendiculars from each endpoint to find sidewalk (say w/i 1.2 meters)\n",
    "- Cut sidewalk at those points\n",
    "-    find segment\n",
    "-    split in two (look at rounding.ipynb)\n",
    "-    be sure to add *unique* ids\n",
    "-    DO NOT REMOVE ANYTHING, just add \"grade\" column\n"
   ]
  },
  {
   "cell_type": "code",
   "execution_count": 2,
   "metadata": {},
   "outputs": [],
   "source": [
    "import geopandas as gpd\n",
    "import pandas as pd\n",
    "from shapely.geometry import Point, LineString, MultiLineString\n",
    "scipy.ndimage"
   ]
  },
  {
   "cell_type": "code",
   "execution_count": 3,
   "metadata": {},
   "outputs": [],
   "source": [
    "# the node names here are irrelevant\n",
    "brighton_streets = gpd.read_file(\"../../data/brighton/brighton_streets.shp\").to_crs(\"EPSG:26919\")\n",
    "brighton_sidewalks = gpd.read_file(\"../../data/brighton/brighton_sidewalks_diditwork.shp\")\n",
    "\n",
    "crs_global = \"EPSG:4326\"\n",
    "crs_local = \"EPSG:26919\""
   ]
  },
  {
   "cell_type": "code",
   "execution_count": 4,
   "metadata": {},
   "outputs": [],
   "source": [
    "def round_pt(pt):\n",
    "    a, b = pt\n",
    "    a = round(a,1)\n",
    "    b = round(b,1)\n",
    "    return Point(a,b)\n",
    "\n",
    "def round_edge(edge):\n",
    "    if type(edge) == MultiLineString:\n",
    "        edges = edge.geoms\n",
    "        return MultiLineString(list(map(round_edge, edges)))\n",
    "    else:\n",
    "        return LineString(map(round_pt, list(edge.coords)))\n",
    "\n",
    "brighton_streets.geometry = brighton_streets.geometry.map(round_edge)"
   ]
  },
  {
   "cell_type": "code",
   "execution_count": 5,
   "metadata": {},
   "outputs": [],
   "source": [
    "brighton_streets.drop(inplace=True, columns=['key','name','highway','sw_left','sw_right'])\n"
   ]
  },
  {
   "cell_type": "code",
   "execution_count": 6,
   "metadata": {},
   "outputs": [],
   "source": [
    "from shapely.ops import linemerge\n",
    "\n",
    "def safe_linemerge(line):\n",
    "    if type(line) == MultiLineString:\n",
    "        return linemerge(line.geoms)\n",
    "    else:\n",
    "        return line\n",
    "\n",
    "def safe_pre_explode(line):\n",
    "    if type(line) == MultiLineString:\n",
    "        return line.geoms\n",
    "    else:\n",
    "        return line\n",
    "    \n",
    "def safe_explode(gdf):\n",
    "    rows = []\n",
    "    old_rows =[]\n",
    "    for i, row in gdf.iterrows():\n",
    "        if type(row['geometry']) == MultiLineString:\n",
    "            mline = row.geometry\n",
    "            for line in mline:\n",
    "                new_row = row\n",
    "                new_row.geometry = line\n",
    "                rows.append(new_row)\n",
    "                old_rows.append(i)\n",
    "            \n",
    "    new_gdf = gpd.GeoDataFrame(rows)\n",
    "    new_gdf.crs = \"EPSG:26919\"\n",
    "    gdf = gdf.drop(old_rows)\n",
    "    gdf = gdf.append(new_gdf)\n",
    "    return gdf\n",
    " "
   ]
  },
  {
   "cell_type": "code",
   "execution_count": 7,
   "metadata": {},
   "outputs": [],
   "source": [
    "brighton_streets = safe_explode(brighton_streets).reset_index(drop=True)"
   ]
  },
  {
   "cell_type": "code",
   "execution_count": 8,
   "metadata": {},
   "outputs": [],
   "source": [
    "# Thank you Sean Gilles https://gist.github.com/sgillies/465156#file_cut.py\n",
    "from shapely.geometry import LineString, Point\n",
    "from copy import deepcopy\n",
    "def cut(line, distance):\n",
    "    # Cuts a line in two at a distance from its starting point\n",
    "    if distance <= 0.0 or distance >= line.length:\n",
    "        return [LineString(line)]\n",
    "    coords = list(line.coords)\n",
    "    for i, p in enumerate(coords):\n",
    "        pd = line.project(Point(p))\n",
    "        if pd == distance:\n",
    "            return [\n",
    "                LineString(coords[:i+1]),\n",
    "                LineString(coords[i:])]\n",
    "        if pd > distance:\n",
    "            cp = line.interpolate(distance)\n",
    "            return [\n",
    "                LineString(coords[:i] + [(cp.x, cp.y)]),\n",
    "                LineString([(cp.x, cp.y)] + coords[i:])]\n",
    "        \n",
    "\n",
    "# here's me\n",
    "def recursive_cut(line, distance):\n",
    "    if [line] == cut(line, distance):\n",
    "        return [line]\n",
    "    else:\n",
    "        segment, rest = cut(line, distance)\n",
    "        return [segment] + recursive_cut(rest, distance)\n",
    "    \n",
    "           \n",
    "def list_explode(gdf):\n",
    "    rows = []\n",
    "    old_rows = []\n",
    "    for i, row in gdf.iterrows():\n",
    "        mline = row['cut_geometry']\n",
    "        new_rows = [deepcopy(row) for i in range(len(row['cut_geometry']))]\n",
    "        for n, inline in enumerate(mline):\n",
    "            new_rows[n]['geometry'] = inline\n",
    "            old_rows.append(i)\n",
    "        rows.extend(new_rows)\n",
    "    new_gdf = gpd.GeoDataFrame(rows).reset_index(drop=True)\n",
    "    new_gdf.crs = \"EPSG:26919\"\n",
    "    return new_gdf\n"
   ]
  },
  {
   "cell_type": "code",
   "execution_count": 9,
   "metadata": {},
   "outputs": [],
   "source": [
    "CUT_LENGTH = 4\n",
    "brighton_streets['cut_geometry'] = brighton_streets.geometry.map(lambda x : recursive_cut(x, CUT_LENGTH))\n",
    "# brighton_streets.cut_geometry.map(len).sum() == 41900\n",
    "# len(list_explode(brighton_streets))\n",
    "\n"
   ]
  },
  {
   "cell_type": "code",
   "execution_count": 10,
   "metadata": {},
   "outputs": [],
   "source": [
    "brighton_streets = list_explode(brighton_streets).drop(columns=['cut_geometry','u','v','length'])"
   ]
  },
  {
   "cell_type": "code",
   "execution_count": 11,
   "metadata": {},
   "outputs": [],
   "source": [
    "brighton_streets.geometry = brighton_streets.geometry.map(round_edge)"
   ]
  },
  {
   "cell_type": "code",
   "execution_count": 12,
   "metadata": {},
   "outputs": [],
   "source": [
    "brighton_streets = brighton_streets.to_crs(\"EPSG:4326\")"
   ]
  },
  {
   "cell_type": "code",
   "execution_count": 13,
   "metadata": {},
   "outputs": [],
   "source": [
    "brighton_streets['p0'] = brighton_streets.geometry.map(lambda x : x.coords[0])\n",
    "brighton_streets['p1'] = brighton_streets.geometry.map(lambda x : x.coords[1])"
   ]
  },
  {
   "cell_type": "code",
   "execution_count": 14,
   "metadata": {},
   "outputs": [
    {
     "data": {
      "text/plain": [
       "(33373, 52090)"
      ]
     },
     "execution_count": 14,
     "metadata": {},
     "output_type": "execute_result"
    }
   ],
   "source": [
    "import numpy as np\n",
    "len(brighton_streets[brighton_streets.length > 0.00004]), len(brighton_streets)\n",
    "#len(set(np.concatenate(brighton_streets[['p0','p1']].values)))"
   ]
  },
  {
   "cell_type": "code",
   "execution_count": 15,
   "metadata": {},
   "outputs": [],
   "source": [
    "def linestring_heading(linestring):\n",
    "    # 0 is north, 90 is east\n",
    "    # so heading = 90 - usual_angle (in standard form)\n",
    "    \n",
    "    # usual points are in long/lat\n",
    "    \n",
    "    (l1,l2) = linestring_start(linestring)\n",
    "    (m1,m2) = linestring_end(linestring)\n",
    "    angle_deg = math.atan2(m2-l2, m1-l1) * 360 / (2 * math.pi)\n",
    "    heading_deg = int((90 - angle_deg) % 360)\n",
    "    return(heading_deg)"
   ]
  },
  {
   "cell_type": "code",
   "execution_count": 9,
   "metadata": {},
   "outputs": [],
   "source": [
    "import rasterio\n",
    "dataset = rasterio.open(\"../../data/brighton/elevation.tif\")"
   ]
  },
  {
   "cell_type": "code",
   "execution_count": 10,
   "metadata": {},
   "outputs": [
    {
     "data": {
      "text/plain": [
       "(CRS.from_epsg(4326),\n",
       " BoundingBox(left=-72.00013888888888, bottom=41.99986111111111, right=-70.9998611111111, top=43.000138888888884))"
      ]
     },
     "execution_count": 10,
     "metadata": {},
     "output_type": "execute_result"
    }
   ],
   "source": [
    "dataset.crs, dataset.bounds #hell yeah"
   ]
  },
  {
   "cell_type": "code",
   "execution_count": 11,
   "metadata": {},
   "outputs": [],
   "source": [
    "# get the first \"band\"\n",
    "# this is a numpy array\n",
    "# now dataset.index(lat, lon) gives the array index for that point\n",
    "band1 = dataset.read(1)\n"
   ]
  },
  {
   "cell_type": "code",
   "execution_count": 14,
   "metadata": {},
   "outputs": [],
   "source": [
    "brighton_sidewalks['cut_geometry'] = brighton_sidewalks.geometry.map(lambda x : recursive_cut(x, 4))\n",
    "brighton_sidewalks = list_explode(brighton_sidewalks)\n",
    "\n",
    "brigthon_sidewalks = brighton_sidewalks.to_crs(\"EPSG:4326\")"
   ]
  },
  {
   "cell_type": "code",
   "execution_count": 19,
   "metadata": {},
   "outputs": [],
   "source": [
    "brighton_streets['elevation_0'] = brighton_streets.geometry.map(lambda x : band1[dataset.index(x.coords[0][0], x.coords[0][1])])\n",
    "brighton_streets['elevation_1'] = brighton_streets.geometry.map(lambda x : band1[dataset.index(x.coords[1][0], x.coords[1][1])])"
   ]
  },
  {
   "cell_type": "code",
   "execution_count": 20,
   "metadata": {},
   "outputs": [],
   "source": [
    "brighton_streets = brighton_streets.to_crs(\"EPSG:26919\")\n",
    "brighton_streets['length_m'] = brighton_streets.length"
   ]
  },
  {
   "cell_type": "code",
   "execution_count": 21,
   "metadata": {},
   "outputs": [],
   "source": [
    "def slope(row):\n",
    "    rise = row['elevation_1'] - row['elevation_0']\n",
    "    run = row['length_m']\n",
    "    return rise/run\n",
    "\n",
    "brighton_streets_long = brighton_streets[brighton_streets['length_m'] > 1].copy(deep=True)\n",
    "brighton_streets_long['slope'] = brighton_streets_long.apply(slope, axis=1)"
   ]
  },
  {
   "cell_type": "code",
   "execution_count": 22,
   "metadata": {},
   "outputs": [],
   "source": [
    "import math\n",
    "brighton_streets_long['angle_deg'] = brighton_streets_long['slope'].map(lambda x : math.atan(x) * 360 / ( 2 * math.pi))"
   ]
  },
  {
   "cell_type": "code",
   "execution_count": 23,
   "metadata": {},
   "outputs": [],
   "source": [
    "# resolution is really bad\n",
    "# the minimum non-zero rise is 1\n",
    "# the run is 4\n",
    "# so the minimum non-zero angle is +-14 degrees!\n",
    "# math.atan(1/4) * 360 / (2 * math.pi)\n",
    "bad_segs = brighton_streets_long[(brighton_streets_long['angle_deg'] > 5) | (brighton_streets_long['angle_deg'] < -5)]"
   ]
  },
  {
   "cell_type": "code",
   "execution_count": 24,
   "metadata": {},
   "outputs": [
    {
     "data": {
      "text/plain": [
       "(0.12298957485563694, 0.12359988868900382)"
      ]
     },
     "execution_count": 24,
     "metadata": {},
     "output_type": "execute_result"
    }
   ],
   "source": [
    "len(bad_segs)/len(brighton_streets_long), bad_segs.length.sum()/brighton_streets_long.length.sum()"
   ]
  },
  {
   "cell_type": "code",
   "execution_count": 25,
   "metadata": {},
   "outputs": [],
   "source": [
    "# next steps:\n",
    "# given the left and right sides: find the nearest nodes (within some distance?)\n",
    "# find the shortest path between them (using only sidewalks? and also of capped distance?)\n",
    "# delete all those nodes!\n",
    "\n",
    "# first need to segment sidewalks"
   ]
  },
  {
   "cell_type": "code",
   "execution_count": 27,
   "metadata": {
    "scrolled": true
   },
   "outputs": [],
   "source": [
    "brighton_sidewalks['cut_geometry'] = brighton_sidewalks.geometry.map(lambda x : recursive_cut(x, 4))\n",
    "brighton_sidewalks = list_explode(brighton_sidewalks)\n"
   ]
  },
  {
   "cell_type": "code",
   "execution_count": 28,
   "metadata": {},
   "outputs": [],
   "source": [
    "brighton_sidewalks['length'] = brighton_sidewalks.length\n",
    "brighton_sidewalks.drop(inplace=True, columns=['cut_geometry'])"
   ]
  },
  {
   "cell_type": "code",
   "execution_count": 29,
   "metadata": {},
   "outputs": [],
   "source": [
    "brighton_sidewalks.geometry = brighton_sidewalks.geometry.map(round_edge)"
   ]
  },
  {
   "cell_type": "code",
   "execution_count": 30,
   "metadata": {},
   "outputs": [],
   "source": [
    "# setup routing\n",
    "import osmnx as ox \n",
    "points = list(map(Point, (list(set([point for ls in list(brighton_sidewalks.geometry.map(lambda x : list(x.coords)).values) for point in ls])))))\n",
    "brighton_sw_points = gpd.GeoDataFrame(points)\n",
    "brighton_sw_points.geometry = brighton_sw_points[0]\n",
    "len_sw = len(list(brighton_sw_points.geometry.map(lambda x : x.coords)))\n",
    "sw_coord_dict = dict(list(set(zip(list(brighton_sw_points.geometry.map(lambda x : tuple(x.coords)[0])), range(len_sw)))))\n",
    "\n",
    "sw_coords = sw_coord_dict.keys()\n",
    "\n",
    "from shapely.coords import CoordinateSequence\n",
    "brighton_sidewalks['u'] = brighton_sidewalks.geometry.map(lambda x : sw_coord_dict[x.coords[0]])\n",
    "brighton_sidewalks['v'] = brighton_sidewalks.geometry.map(lambda x : sw_coord_dict[x.coords[-1]])\n",
    "brighton_sidewalks['key'] = 0\n",
    "brighton_sidewalks['osmid'] = brighton_sidewalks.index.map(lambda x : 1000000000 * x)\n",
    "\n",
    "brighton_sw_points['id'] = brighton_sw_points.geometry.map(lambda x : sw_coord_dict[x.coords[0]])\n",
    "brighton_sw_points['osmid'] = brighton_sw_points.id\n",
    "\n",
    "brighton_sw_points['x'] = brighton_sw_points.geometry.map(lambda x : x.coords[0][1])\n",
    "brighton_sw_points['y'] = brighton_sw_points.geometry.map(lambda x : x.coords[0][0])\n",
    "\n",
    "def union_graph(points_gdfs, edges_gdfs, crs=None):\n",
    "    points_df = pd.concat([pd.DataFrame(gdf) for gdf in points_gdfs], ignore_index=True, sort=False)\n",
    "    edges_df = pd.concat([pd.DataFrame(gdf) for gdf in edges_gdfs], ignore_index=True, sort=False)\n",
    "    \n",
    "    if crs:\n",
    "        points_gdf = gpd.GeoDataFrame(points_df, crs = points_gdfs[0].crs).to_crs(crs)\n",
    "        edges_gdf = gpd.GeoDataFrame(edges_df, crs = edges_gdfs[0].crs).to_crs(crs)\n",
    "    else:\n",
    "        points_gdf = gpd.GeoDataFrame(points_df, crs = points_gdfs[0].crs)\n",
    "        edges_gdf = gpd.GeoDataFrame(edges_df, crs = edges_gdfs[0].crs)\n",
    "    return ox.utils_graph.graph_from_gdfs(points_gdf, edges_gdf)\n",
    "\n",
    "brighton_sidewalk_G = union_graph([brighton_sw_points], [brighton_sidewalks])\n",
    "#brighton_sidewalk_G = ox.utils_graph.get_largest_component(brighton_sidewalk_G, strongly=True) "
   ]
  },
  {
   "cell_type": "code",
   "execution_count": 31,
   "metadata": {},
   "outputs": [
    {
     "data": {
      "image/png": "[encoded data removed]",
      "text/plain": [
       "<Figure size 376.642x432 with 1 Axes>"
      ]
     },
     "metadata": {},
     "output_type": "display_data"
    },
    {
     "data": {
      "text/plain": [
       "(<Figure size 376.642x432 with 1 Axes>,\n",
       " <matplotlib.axes._subplots.AxesSubplot at 0x7fed3870a590>)"
      ]
     },
     "execution_count": 31,
     "metadata": {},
     "output_type": "execute_result"
    }
   ],
   "source": [
    "ox.plot.plot_graph(brighton_sidewalk_G)"
   ]
  },
  {
   "cell_type": "markdown",
   "metadata": {
    "scrolled": true
   },
   "source": [
    "import osmnx as ox\n",
    "import networkx as nx\n",
    "\n",
    "brighton_sidewalks['grade'] = 0\n",
    "\n",
    "# given a segment, find the perpendiculars from each end\n",
    "# thanks Georgy!\n",
    "# https://stackoverflow.com/a/57072678\n",
    "from shapely.ops import unary_union\n",
    "PERP_WIDTH = 1.3\n",
    "\n",
    "def get_perps(street_seg):\n",
    "    left_side = street_seg.parallel_offset(PERP_WIDTH, 'left')\n",
    "    right_side = street_seg.parallel_offset(PERP_WIDTH, 'right')\n",
    "    # keep them on the same side so you know that the two first coordinates are paired, etc.\n",
    "    perp0 = LineString([left_side.boundary[1], right_side.boundary[0]])\n",
    "    perp1 = LineString([left_side.boundary[0], right_side.boundary[1]])\n",
    "    return perp0, perp1\n",
    "\n",
    "def get_perp_points(street_seg):\n",
    "    perp0, perp1 = get_perps(street_seg)\n",
    "    left_points = (perp0.coords[0], perp1.coords[0])\n",
    "    right_points = (perp0.coords[1], perp1.coords[1])\n",
    "    return left_points, right_points\n",
    "\n",
    "def nearest_node(lat, lon, graph):\n",
    "    return ox.get_nearest_node(graph, (lat, lon), method='euclidean')  \n",
    "    \n",
    "# I've finally written an entirely impure function, lol\n",
    "def assign_route(row):\n",
    "    \n",
    "    street_seg = row['geometry']\n",
    "    grade = row['angle_deg']\n",
    "    left_points, right_points = get_perp_points(street_seg)\n",
    "    \n",
    "    left_nodes = [nearest_node(lat, lon, brighton_sidewalk_G) for lat, lon in left_points]\n",
    "    right_nodes = [nearest_node(lat, lon, brighton_sidewalk_G) for lat, lon in right_points]\n",
    "    \n",
    "    left_route = nx.shortest_path(brighton_sidewalk_G, left_nodes[0], left_nodes[1])\n",
    "    right_route = nx.shortest_path(brighton_sidewalk_G, right_nodes[0], right_nodes[1])\n",
    "    \n",
    "    left_route_pairs = zip(left_route[:-1], left_route[1:])\n",
    "    right_route_pairs = zip(right_route[:-1], right_route[1:])\n",
    "    #for (u,v) in left_route_pairs:\n",
    "    #    brighton_sidewalks.loc[ ((brighton_sidewalks['u'] == u) & (brighton_sidewalks['v'] == v)) | \n",
    "    #                            ((brighton_sidewalks['u'] == v) & (brighton_sidewalks['v'] == u)), 'grade' ] = grade\n",
    "    #for (u,v) in right_route_pairs:\n",
    "    #    brighton_sidewalks.loc[ ((brighton_sidewalks['u'] == u) & (brighton_sidewalks['v'] == v)) | \n",
    "    #                            ((brighton_sidewalks['u'] == v) & (brighton_sidewalks['v'] == u)), 'grade'] = grade\n",
    "    return (left_route_pairs, right_route_pairs)\n"
   ]
  },
  {
   "cell_type": "code",
   "execution_count": 32,
   "metadata": {},
   "outputs": [],
   "source": [
    "# let's try get_nearest_edge instead of get_nearest_node\n",
    "# TODO: combine the two approaches, use offsets from the endpoints and then get_nearest_edge\n",
    "PERP_WIDTH = 2\n",
    "def get_perps(street_seg, width=PERP_WIDTH):\n",
    "    left_side = street_seg.parallel_offset(width, 'left')\n",
    "    right_side = street_seg.parallel_offset(width, 'right')\n",
    "    return left_side, right_side\n",
    "\n",
    "def midpoint(linestring):\n",
    "    p0, p1 = linestring.coords[0], linestring.coords[-1]\n",
    "    x0, y0 = p0\n",
    "    x1, y1 = p1\n",
    "    return ((x1 + x0)/2, (y1 + y0)/2)\n",
    "\n",
    "def get_perp_midpoints(street_seg):\n",
    "    perp0, perp1 = get_perps(street_seg)\n",
    "    midpoint0 = midpoint(perp0)\n",
    "    midpoint1 = midpoint(perp1)\n",
    "    return [midpoint0, midpoint1]\n",
    "\n",
    "def get_relevant_edges(pt_list):\n",
    "    # would be nice to do this as batch but whatever\n",
    "    x_coords = [pt[0] for pt in pt_list]\n",
    "    y_coords = [pt[1] for pt in pt_list]\n",
    "    return ox.distance.get_nearest_edges(brighton_sidewalk_G, x_coords, y_coords, method='kdtree', dist=0.5)\n",
    "\n"
   ]
  },
  {
   "cell_type": "code",
   "execution_count": 33,
   "metadata": {},
   "outputs": [],
   "source": [
    "# rather than assign 'nearest_sidewalk' to each street, let's just gather all the coordinates we need to eliminate:\n",
    "bad_midpoints = brighton_streets_long[(brighton_streets_long['angle_deg'] > 4) \n",
    "                           | (brighton_streets_long['angle_deg'] < -4)].geometry.map(get_perp_midpoints)\n",
    "bad_midpoints = np.concatenate(bad_midpoints.values)\n",
    "bad_edges = get_relevant_edges(bad_midpoints)\n",
    "bad_edges = [(u,v) for u,v, _ in bad_edges.tolist()] + [(v,u) for u, v, _ in bad_edges.tolist()]"
   ]
  },
  {
   "cell_type": "markdown",
   "metadata": {},
   "source": [
    "In principle we don't need to check for both (u,v) and (v,u), double check with length\n",
    "\n",
    "`len(bad_edges) == 25388`"
   ]
  },
  {
   "cell_type": "code",
   "execution_count": 34,
   "metadata": {},
   "outputs": [
    {
     "name": "stdout",
     "output_type": "stream",
     "text": [
      "56597\n"
     ]
    },
    {
     "data": {
      "text/plain": [
       "48067"
      ]
     },
     "execution_count": 34,
     "metadata": {},
     "output_type": "execute_result"
    }
   ],
   "source": [
    "print(len(brighton_sidewalk_G.edges))\n",
    "brighton_sidewalk_G.remove_edges_from(bad_edges)\n",
    "len(brighton_sidewalk_G.edges)\n"
   ]
  },
  {
   "cell_type": "markdown",
   "metadata": {},
   "source": [
    "`(56597 - 48067)/56597 == 0.1507`\n",
    "Checks out -- about 15% of sidewalks not usable"
   ]
  },
  {
   "cell_type": "code",
   "execution_count": 50,
   "metadata": {},
   "outputs": [
    {
     "data": {
      "text/plain": [
       "48067"
      ]
     },
     "execution_count": 50,
     "metadata": {},
     "output_type": "execute_result"
    }
   ],
   "source": [
    "len(brighton_sidewalk_G.edges)\n"
   ]
  },
  {
   "cell_type": "code",
   "execution_count": 48,
   "metadata": {},
   "outputs": [],
   "source": [
    "brighton_sidewalk_pts, brighton_sidewalk_edges = ox.graph_to_gdfs(brighton_sidewalk_G)\n",
    "brighton_sidewalk_pts.crs = \"EPSG:26919\"\n",
    "brighton_sidewalk_edges.crs = \"EPSG:26919\"\n",
    "brighton_sidewalk_pts = brighton_sidewalk_pts.to_crs(\"EPSG:4326\")\n",
    "brighton_sidewalk_edges = brighton_sidewalk_edges.to_crs(\"EPSG:4326\")\n",
    "brighton_sidewalk_G = ox.graph_from_gdfs(brighton_sidewalk_pts, brighton_sidewalk_edges)"
   ]
  },
  {
   "cell_type": "code",
   "execution_count": 55,
   "metadata": {},
   "outputs": [
    {
     "data": {
      "text/plain": [
       "8661"
      ]
     },
     "execution_count": 55,
     "metadata": {},
     "output_type": "execute_result"
    }
   ],
   "source": [
    "import networkx as nx\n",
    "nx.number_connected_components(brighton_sidewalk_G.to_undirected())"
   ]
  },
  {
   "cell_type": "code",
   "execution_count": 73,
   "metadata": {},
   "outputs": [],
   "source": [
    "ccs =  [brighton_sidewalk_G.subgraph(c).copy() for c in nx.connected_components(brighton_sidewalk_G.to_undirected())]"
   ]
  },
  {
   "cell_type": "code",
   "execution_count": 79,
   "metadata": {
    "scrolled": false
   },
   "outputs": [],
   "source": [
    "def length_graph(G):\n",
    "    return sum([edge[2] for edge in G.edges(data='length')])"
   ]
  },
  {
   "cell_type": "code",
   "execution_count": 80,
   "metadata": {},
   "outputs": [],
   "source": [
    "length_dict = {cc: length_graph(cc) for cc in ccs}"
   ]
  },
  {
   "cell_type": "code",
   "execution_count": 95,
   "metadata": {},
   "outputs": [
    {
     "data": {
      "text/plain": [
       "count    8661.000000\n",
       "mean       19.215956\n",
       "std        20.868596\n",
       "min         0.000000\n",
       "50%        16.103718\n",
       "90%        42.855939\n",
       "max       193.266277\n",
       "dtype: float64"
      ]
     },
     "execution_count": 95,
     "metadata": {},
     "output_type": "execute_result"
    }
   ],
   "source": [
    "pd.Series(list(length_dict.values())).describe(percentiles=[.9])\n"
   ]
  },
  {
   "cell_type": "markdown",
   "metadata": {},
   "source": [
    "Declare a good segment to be 50ft/16m. so that we can delete at ~50%."
   ]
  },
  {
   "cell_type": "code",
   "execution_count": 96,
   "metadata": {},
   "outputs": [],
   "source": [
    "ccs_long = [cc for cc in ccs if length_graph(cc) > 16 ]"
   ]
  },
  {
   "cell_type": "code",
   "execution_count": 97,
   "metadata": {},
   "outputs": [
    {
     "data": {
      "text/plain": [
       "4571"
      ]
     },
     "execution_count": 97,
     "metadata": {},
     "output_type": "execute_result"
    }
   ],
   "source": [
    "len(ccs_long)"
   ]
  },
  {
   "cell_type": "code",
   "execution_count": 108,
   "metadata": {},
   "outputs": [],
   "source": [
    "temp = nx.MultiGraph()\n",
    "for cc in ccs_long:\n",
    "    temp.add_nodes_from(cc.nodes(data=True))\n",
    "    temp.add_edges_from(cc.edges(data=True))"
   ]
  },
  {
   "cell_type": "code",
   "execution_count": 110,
   "metadata": {},
   "outputs": [],
   "source": [
    "temp.graph['crs'] = \"EPSG:4326\""
   ]
  },
  {
   "cell_type": "code",
   "execution_count": 124,
   "metadata": {},
   "outputs": [
    {
     "data": {
      "text/plain": [
       "(None, 193.26627663298476)"
      ]
     },
     "execution_count": 124,
     "metadata": {},
     "output_type": "execute_result"
    },
    {
     "data": {
      "image/png": "[encoded data removed]",
      "text/plain": [
       "<Figure size 432x288 with 1 Axes>"
      ]
     },
     "metadata": {},
     "output_type": "display_data"
    }
   ],
   "source": [
    "big = sorted(ccs_long, key=length_graph, reverse=True)[0]\n",
    "nx.draw(big), length_graph(big)"
   ]
  },
  {
   "cell_type": "code",
   "execution_count": 117,
   "metadata": {},
   "outputs": [
    {
     "name": "stderr",
     "output_type": "stream",
     "text": [
      "/home/adam/.local/lib/python3.7/site-packages/networkx/drawing/nx_pylab.py:563: MatplotlibDeprecationWarning: \n",
      "The iterable function was deprecated in Matplotlib 3.1 and will be removed in 3.3. Use np.iterable instead.\n",
      "  if not cb.iterable(width):\n",
      "/home/adam/.local/lib/python3.7/site-packages/networkx/drawing/nx_pylab.py:660: MatplotlibDeprecationWarning: \n",
      "The iterable function was deprecated in Matplotlib 3.1 and will be removed in 3.3. Use np.iterable instead.\n",
      "  if cb.iterable(node_size):  # many node sizes\n"
     ]
    },
    {
     "data": {
      "image/png": "[encoded data removed]",
      "text/plain": [
       "<Figure size 432x288 with 1 Axes>"
      ]
     },
     "metadata": {},
     "output_type": "display_data"
    }
   ],
   "source": []
  },
  {
   "cell_type": "code",
   "execution_count": null,
   "metadata": {},
   "outputs": [],
   "source": []
  }
 ],
 "metadata": {
  "kernelspec": {
   "display_name": "Python 3",
   "language": "python",
   "name": "python3"
  },
  "language_info": {
   "codemirror_mode": {
    "name": "ipython",
    "version": 3
   },
   "file_extension": ".py",
   "mimetype": "text/x-python",
   "name": "python",
   "nbconvert_exporter": "python",
   "pygments_lexer": "ipython3",
   "version": "3.7.6"
  }
 },
 "nbformat": 4,
 "nbformat_minor": 4
}
