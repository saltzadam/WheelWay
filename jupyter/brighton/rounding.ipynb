{
 "cells": [
  {
   "cell_type": "code",
   "execution_count": null,
   "metadata": {},
   "outputs": [],
   "source": [
    "import geopandas as gpd\n",
    "import pandas as pd\n",
    "import osmnx as ox\n",
    "pd.options.display.max_rows = 10\n",
    "\n",
    "from shapely.ops import snap, unary_union\n",
    "from shapely.geometry import Point, LineString, MultiLineString\n"
   ]
  },
  {
   "cell_type": "code",
   "execution_count": null,
   "metadata": {},
   "outputs": [],
   "source": [
    "#brighton_points = gpd.read_file(\"../insight_project_dc/brighton/brighton_points.shp\")\n",
    "brighton_sidewalks = gpd.read_file(\"../insight_project_dc/brighton/brighton_sidewalks/brighton_sidewalks.shp\")\n",
    "EPSG_26919 = \"EPSG:26919\"\n",
    "\n",
    "from shapely.ops import snap, unary_union\n",
    "from shapely.geometry import Point, LineString, MultiLineString\n",
    "\n",
    "def ls_to_mls(linestring):\n",
    "    linelist = linestring.coords\n",
    "    pairlist = list(zip(linelist, linelist[1:]))\n",
    "    return MultiLineString(pairlist)\n",
    "    \n",
    "\n",
    "brighton_sidewalks['geometry'] = brighton_sidewalks.geometry.map(ls_to_mls)\n",
    "brighton_sidewalks = brighton_sidewalks.explode().reset_index(drop=True)\n",
    "brighton_sidewalks[brighton_sidewalks.geometry.map(lambda x : len(x.coords)) != 2]"
   ]
  },
  {
   "cell_type": "code",
   "execution_count": null,
   "metadata": {},
   "outputs": [],
   "source": [
    "def snap_endpoints(linestring, geom, tol):\n",
    "    linelist = linestring.coords\n",
    "    assert len(linelist) == 2\n",
    "    p0 = snap(Point(linelist[0]), geom, tol)\n",
    "    p1 = snap(Point(linelist[-1]), geom, tol)  \n",
    "    #return LineString([Point(p0)] + list(map(Point, linelist[1:-1])) + [Point(pn)])\n",
    "    return LineString([Point(p0), Point(p1)])\n",
    "bright_sidewalks = brighton_sidewalks.to_crs(EPSG_26919)"
   ]
  },
  {
   "cell_type": "code",
   "execution_count": null,
   "metadata": {},
   "outputs": [],
   "source": [
    "all_sidewalks = unary_union(pd.Series(brighton_sidewalks.geometry))\n",
    "brighton_sidewalks[brighton_sidewalks.geometry.map(lambda x : len(x.coords)) != 2]"
   ]
  },
  {
   "cell_type": "code",
   "execution_count": null,
   "metadata": {},
   "outputs": [],
   "source": [
    "brighton_sidewalks.geometry = brighton_sidewalks.geometry.apply(lambda x: snap_endpoints(x, all_sidewalks, .5))\n",
    "brighton_sidewalks[brighton_sidewalks.geometry.map(lambda x : len(x.coords)) != 2]"
   ]
  },
  {
   "cell_type": "code",
   "execution_count": null,
   "metadata": {},
   "outputs": [],
   "source": [
    "brighton_sidewalks.to_file(\"brighton_sidewalks_processed_26169.shp\")"
   ]
  },
  {
   "cell_type": "code",
   "execution_count": null,
   "metadata": {},
   "outputs": [],
   "source": [
    "import pickle as pkl\n",
    "brighton_sidewalks = gpd.read_file(\"brighton_sidewalks_processed_26169.shp\")\n",
    "        \n",
    "#all_sidewalks = unary_union(brighton_sidewalks.geometry)\n",
    "#brighton_crosswalks.geometry = brighton_crosswalks.geometry.apply(lambda x: snap_endpoints(x, all_sidewalks, .5))\n",
    "brighton_sidewalks[brighton_sidewalks.geometry.map(lambda x : len(x.coords)) != 2]"
   ]
  },
  {
   "cell_type": "code",
   "execution_count": null,
   "metadata": {},
   "outputs": [],
   "source": [
    "def round_pt(pt):\n",
    "    a, b = pt\n",
    "    a = round(a,1)\n",
    "    b = round(b,1)\n",
    "    return Point(a,b)\n",
    "\n",
    "def round_edge(edge):\n",
    "    a, b = tuple(edge.coords)\n",
    "    a = round_pt(a)\n",
    "    b = round_pt(b)\n",
    "    return LineString([a,b])\n",
    "    \n",
    "brighton_sidewalks.geometry = brighton_sidewalks.geometry.map(round_edge)\n",
    "brighton_sidewalks"
   ]
  },
  {
   "cell_type": "code",
   "execution_count": null,
   "metadata": {},
   "outputs": [],
   "source": [
    "all_sidewalks =  unary_union(brighton_sidewalks.geometry)\n",
    "sidewalks = brighton_sidewalks.geometry\n",
    "all_sidewalks"
   ]
  },
  {
   "cell_type": "code",
   "execution_count": null,
   "metadata": {},
   "outputs": [],
   "source": [
    "brighton_crosswalks.geometry = brighton_crosswalks.geometry.map(round_edge)\n"
   ]
  },
  {
   "cell_type": "code",
   "execution_count": null,
   "metadata": {},
   "outputs": [],
   "source": [
    "from shapely.geometry import Point\n",
    "points = list(map(Point, (list(set([point for ls in list(brighton_sidewalks.geometry.map(lambda x : list(x.coords)).values) for point in ls])))))\n",
    "brighton_sw_points = gpd.GeoDataFrame(points)\n",
    "brighton_sw_points.crs = EPSG_26919\n",
    "brighton_sw_points.geometry = brighton_sw_points[0]\n",
    "len_sw = len(list(brighton_sw_points.geometry.map(lambda x : x.coords)))\n",
    "sw_coord_dict = dict(list(set(zip(list(brighton_sw_points.geometry.map(lambda x : tuple(x.coords)[0])), range(len_sw)))))\n",
    "sw_coords = sw_coord_dict.keys()"
   ]
  },
  {
   "cell_type": "code",
   "execution_count": null,
   "metadata": {},
   "outputs": [],
   "source": [
    "all_sw_points = unary_union(brighton_sw_points.geometry)"
   ]
  },
  {
   "cell_type": "code",
   "execution_count": null,
   "metadata": {},
   "outputs": [],
   "source": [
    "# can't just use split because some crosswalks will be too short\n",
    "# good news: every crosswalk is a single segment\n",
    "# >> brighton_crosswalks[brighton_crosswalks.geometry.map(lambda x : len(x.coords)) != 2]\n",
    "# for each segment:\n",
    "## for each endpoint:\n",
    "### find the nearest point on the sidewalks\n",
    "### split the sidewalk at that point\n",
    "## replace crosswalk with a segment between the new points\n",
    "import shapely.ops as ops\n",
    "from shapely.geometry import GeometryCollection\n",
    "\n",
    "\n",
    "def fix_endpoint(endpt):\n",
    "    return ops.nearest_points(endpt,all_sw_points)[1]\n",
    "    \n",
    "\n",
    "# named because sw segments get 'fixed' by fix_endpoint\n",
    "def fix_cw_segment(seg):\n",
    "    p0,p1 = seg.coords\n",
    "    new_p0 = fix_endpoint(Point(p0))\n",
    "    new_p1 = fix_endpoint(Point(p1))\n",
    "    return(LineString([new_p0, new_p1]))\n",
    "\n",
    "brighton_crosswalks.geometry = brighton_crosswalks.geometry.map(fix_cw_segment)"
   ]
  },
  {
   "cell_type": "code",
   "execution_count": null,
   "metadata": {},
   "outputs": [],
   "source": [
    "def progressive_snap_to_sidewalks(pt, tol):\n",
    "#    print(\"snapping\")\n",
    "    while True:\n",
    "        snapped = snap(pt, all_sidewalks, tol)\n",
    "        if snapped == pt:\n",
    "            tol = tol * 1.1\n",
    "#            print(tol)\n",
    "        else:\n",
    "            break\n",
    "    assert snapped.touches(all_sidewalks), (snapped.distance(all_sidewalks), str(pt))\n",
    "    return snapped\n",
    "        \n",
    "def snap_edge(edge, tol):\n",
    "    p0,p1 = edge.coords\n",
    "    new_p0 = progressive_snap_to_sidewalks(Point(p0), tol)\n",
    "    new_p1 = progressive_snap_to_sidewalks(Point(p1), tol)\n",
    "    return LineString([new_p0, new_p1])"
   ]
  },
  {
   "cell_type": "code",
   "execution_count": null,
   "metadata": {},
   "outputs": [],
   "source": [
    "brighton_crosswalks.geometry = snapped_cw"
   ]
  },
  {
   "cell_type": "code",
   "execution_count": null,
   "metadata": {},
   "outputs": [],
   "source": [
    "brighton_crosswalks.to_file(\"brighton_crosswalks_diditwork.shp\")\n",
    "brighton_sidewalks.to_file(\"brighton_sidewalks_diditwork.shp\")"
   ]
  },
  {
   "cell_type": "markdown",
   "metadata": {},
   "source": [
    "# IT WORKED"
   ]
  },
  {
   "cell_type": "code",
   "execution_count": 1,
   "metadata": {},
   "outputs": [],
   "source": [
    "import geopandas as gpd\n",
    "import pandas as pd\n",
    "import osmnx as ox\n",
    "pd.options.display.max_rows = 10\n",
    "\n",
    "from shapely.ops import snap, unary_union\n",
    "from shapely.geometry import Point, LineString, MultiLineString\n",
    "\n",
    "\n",
    "brighton_crosswalks = gpd.read_file(\"brighton_crosswalks_diditwork.shp\")\n",
    "brighton_sidewalks = gpd.read_file(\"brighton_sidewalks_diditwork.shp\")\n",
    "\n",
    "\n"
   ]
  },
  {
   "cell_type": "code",
   "execution_count": 2,
   "metadata": {},
   "outputs": [],
   "source": [
    "points = list(map(Point, (list(set([point for ls in list(brighton_sidewalks.geometry.map(lambda x : list(x.coords)).values) for point in ls])))))\n",
    "brighton_sw_points = gpd.GeoDataFrame(points)\n",
    "brighton_sw_points.geometry = brighton_sw_points[0]\n",
    "len_sw = len(list(brighton_sw_points.geometry.map(lambda x : x.coords)))\n",
    "sw_coord_dict = dict(list(set(zip(list(brighton_sw_points.geometry.map(lambda x : tuple(x.coords)[0])), range(len_sw)))))\n",
    "sw_coords = sw_coord_dict.keys()\n"
   ]
  },
  {
   "cell_type": "code",
   "execution_count": 5,
   "metadata": {},
   "outputs": [],
   "source": [
    "from shapely.coords import CoordinateSequence\n",
    "brighton_sidewalks['u'] = brighton_sidewalks.geometry.map(lambda x : sw_coord_dict[x.coords[0]])\n",
    "brighton_sidewalks['v'] = brighton_sidewalks.geometry.map(lambda x : sw_coord_dict[x.coords[-1]])\n",
    "brighton_sidewalks['key'] = 0\n",
    "\n",
    "brighton_crosswalks['u'] = brighton_crosswalks.geometry.map(lambda x : sw_coord_dict[x.coords[0]])\n",
    "brighton_crosswalks['v'] = brighton_crosswalks.geometry.map(lambda x : sw_coord_dict[x.coords[-1]])\n",
    "brighton_crosswalks['key'] = 1\n",
    "brighton_sw_points['id'] = brighton_sw_points.geometry.map(lambda x : sw_coord_dict[x.coords[0]])\n",
    "brighton_sw_points['osmid'] = brighton_sw_points.id\n",
    "brighton_crosswalks['osmid'] = brighton_crosswalks.index.map(lambda x : 10000 * x)\n",
    "brighton_sidewalks['osmid'] = brighton_sidewalks.index.map(lambda x : 1000000000 * x)"
   ]
  },
  {
   "cell_type": "code",
   "execution_count": 6,
   "metadata": {},
   "outputs": [],
   "source": [
    "brighton_sidewalks = brighton_sidewalks.to_crs(\"EPSG:4326\")\n",
    "brighton_crosswalks = brighton_crosswalks.to_crs(\"EPSG:4326\")\n",
    "brighton_sw_points.crs = \"EPSG:26919\"\n",
    "\n",
    "brighton_sw_points = brighton_sw_points.to_crs(\"EPSG:4326\")\n",
    "brighton_sw_points['x'] = brighton_sw_points.geometry.map(lambda x : x.coords[0][1])\n",
    "brighton_sw_points['y'] = brighton_sw_points.geometry.map(lambda x : x.coords[0][0])"
   ]
  },
  {
   "cell_type": "code",
   "execution_count": 7,
   "metadata": {},
   "outputs": [],
   "source": [
    "brighton_sidewalks['length'] = brighton_sidewalks.length\n",
    "brighton_crosswalks['length'] = brighton_crosswalks.length"
   ]
  },
  {
   "cell_type": "code",
   "execution_count": 40,
   "metadata": {},
   "outputs": [],
   "source": [
    "def union_graph(points_gdfs, edges_gdfs, crs=None):\n",
    "    points_df = pd.concat([pd.DataFrame(gdf) for gdf in points_gdfs], ignore_index=True, sort=False)\n",
    "    edges_df = pd.concat([pd.DataFrame(gdf) for gdf in edges_gdfs], ignore_index=True, sort=False)\n",
    "    \n",
    "    if crs:\n",
    "        points_gdf = gpd.GeoDataFrame(points_df, crs = points_gdfs[0].crs).to_crs(crs)\n",
    "        edges_gdf = gpd.GeoDataFrame(edges_df, crs = edges_gdfs[0].crs).to_crs(crs)\n",
    "    else:\n",
    "        points_gdf = gpd.GeoDataFrame(points_df, crs = points_gdfs[0].crs)\n",
    "        edges_gdf = gpd.GeoDataFrame(edges_df, crs = edges_gdfs[0].crs)\n",
    "    return ox.utils_graph.graph_from_gdfs(points_gdf, edges_gdf)\n",
    "\n",
    "\n",
    "brighton_G = union_graph([brighton_sw_points], [brighton_crosswalks, brighton_sidewalks])\n",
    "brighton_G = ox.utils_graph.get_largest_component(brighton_G,strongly=True)"
   ]
  },
  {
   "cell_type": "code",
   "execution_count": 42,
   "metadata": {},
   "outputs": [],
   "source": [
    "import pickle as pkl\n",
    "with open(\"brighton_graph.pkl\", 'wb') as pklfile:\n",
    "    pkl.dump(brighton_G, pklfile)"
   ]
  },
  {
   "cell_type": "code",
   "execution_count": 37,
   "metadata": {
    "scrolled": true
   },
   "outputs": [
    {
     "data": {
      "text/plain": [
       "((-71.14555578169282, 42.3441889),\n",
       " 483,\n",
       " 43.159379695352584,\n",
       " (-71.1540759, 42.3493367),\n",
       " 2801,\n",
       " 9.132937508625108)"
      ]
     },
     "execution_count": 37,
     "metadata": {},
     "output_type": "execute_result"
    }
   ],
   "source": [
    "import geocoder\n",
    "g1 = geocoder.osm(\"34 Claymoss Rd, Boston, MA\")\n",
    "g2 = geocoder.osm(\"371 Washington St, Brighton, MA 02135\")\n",
    "g3 = geocoder.osm(\"90 monastery rd, Boston, MA\")\n",
    "p1 = Point(g1.json['lng'], g1.json['lat']).coords[0]\n",
    "p2 = Point(g2.json['lng'], g2.json['lat']).coords[0]\n",
    "p3 = Point(g3.json['lng'], g3.json['lat']).coords[0]\n",
    "n1, d1 = ox.get_nearest_node(brighton_G, p1, method='haversine', return_dist=True)\n",
    "n2, d2 = ox.get_nearest_node(brighton_G, p2, method='haversine', return_dist=True)\n",
    "n3, d3 = ox.get_nearest_node(brighton_G, p3, method='haversine', return_dist=True)\n",
    "p1, n1, d1, p2, n2, d2"
   ]
  },
  {
   "cell_type": "code",
   "execution_count": 38,
   "metadata": {},
   "outputs": [],
   "source": [
    "import networkx as nx\n",
    "route = nx.shortest_path(brighton_G, n1, n2)\n"
   ]
  },
  {
   "cell_type": "code",
   "execution_count": 39,
   "metadata": {},
   "outputs": [
    {
     "data": {
      "text/html": [
       "<div style=\"width:100%;\"><div style=\"position:relative;width:100%;height:0;padding-bottom:60%;\"><span style=\"color:#565656\">Make this Notebook Trusted to load map: File -> Trust Notebook</span><iframe src=\"about:blank\" style=\"position:absolute;width:100%;height:100%;left:0;top:0;border:none !important;\" data-html=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 onload=\"this.contentDocument.open();this.contentDocument.write(atob(this.getAttribute('data-html')));this.contentDocument.close();\" allowfullscreen webkitallowfullscreen mozallowfullscreen></iframe></div></div>"
      ],
      "text/plain": [
       "<folium.folium.Map at 0x7fe0a55c0890>"
      ]
     },
     "execution_count": 39,
     "metadata": {},
     "output_type": "execute_result"
    }
   ],
   "source": [
    "ox.plot_route_folium(G, route)\n"
   ]
  },
  {
   "cell_type": "code",
   "execution_count": 25,
   "metadata": {},
   "outputs": [],
   "source": [
    "gdf_edges = ox.graph_to_gdfs(G, nodes=False)"
   ]
  },
  {
   "cell_type": "code",
   "execution_count": 27,
   "metadata": {},
   "outputs": [
    {
     "data": {
      "text/html": [
       "<div>\n",
       "<style scoped>\n",
       "    .dataframe tbody tr th:only-of-type {\n",
       "        vertical-align: middle;\n",
       "    }\n",
       "\n",
       "    .dataframe tbody tr th {\n",
       "        vertical-align: top;\n",
       "    }\n",
       "\n",
       "    .dataframe thead th {\n",
       "        text-align: right;\n",
       "    }\n",
       "</style>\n",
       "<table border=\"1\" class=\"dataframe\">\n",
       "  <thead>\n",
       "    <tr style=\"text-align: right;\">\n",
       "      <th></th>\n",
       "      <th>footway</th>\n",
       "      <th>forward</th>\n",
       "      <th>from</th>\n",
       "      <th>geometry</th>\n",
       "      <th>highway</th>\n",
       "      <th>key</th>\n",
       "      <th>layer</th>\n",
       "      <th>length</th>\n",
       "      <th>osmid</th>\n",
       "      <th>street_id</th>\n",
       "      <th>to</th>\n",
       "      <th>u</th>\n",
       "      <th>v</th>\n",
       "    </tr>\n",
       "  </thead>\n",
       "  <tbody>\n",
       "    <tr>\n",
       "      <th>11707</th>\n",
       "      <td>NaN</td>\n",
       "      <td>1.0</td>\n",
       "      <td>4507</td>\n",
       "      <td>LINESTRING (-71.14567137170724 42.345517859304...</td>\n",
       "      <td>NaN</td>\n",
       "      <td>0</td>\n",
       "      <td>NaN</td>\n",
       "      <td>0.000307</td>\n",
       "      <td>3422000000000</td>\n",
       "      <td>149701299.0</td>\n",
       "      <td>4110</td>\n",
       "      <td>4507</td>\n",
       "      <td>4110</td>\n",
       "    </tr>\n",
       "    <tr>\n",
       "      <th>16911</th>\n",
       "      <td>NaN</td>\n",
       "      <td>1.0</td>\n",
       "      <td>4110</td>\n",
       "      <td>LINESTRING (-71.14587229470713 42.345750042578...</td>\n",
       "      <td>NaN</td>\n",
       "      <td>0</td>\n",
       "      <td>NaN</td>\n",
       "      <td>0.000328</td>\n",
       "      <td>3423000000000</td>\n",
       "      <td>149701299.0</td>\n",
       "      <td>6529</td>\n",
       "      <td>6529</td>\n",
       "      <td>4110</td>\n",
       "    </tr>\n",
       "  </tbody>\n",
       "</table>\n",
       "</div>"
      ],
      "text/plain": [
       "      footway  forward  from  \\\n",
       "11707     NaN      1.0  4507   \n",
       "16911     NaN      1.0  4110   \n",
       "\n",
       "                                                geometry highway  key  layer  \\\n",
       "11707  LINESTRING (-71.14567137170724 42.345517859304...     NaN    0    NaN   \n",
       "16911  LINESTRING (-71.14587229470713 42.345750042578...     NaN    0    NaN   \n",
       "\n",
       "         length          osmid    street_id    to     u     v  \n",
       "11707  0.000307  3422000000000  149701299.0  4110  4507  4110  \n",
       "16911  0.000328  3423000000000  149701299.0  6529  6529  4110  "
      ]
     },
     "execution_count": 27,
     "metadata": {},
     "output_type": "execute_result"
    }
   ],
   "source": [
    "gdf_edges[(gdf_edges[''] == 4110)] #& (gdf_edges['v'] == 4110)]"
   ]
  },
  {
   "cell_type": "code",
   "execution_count": 23,
   "metadata": {},
   "outputs": [],
   "source": [
    "G=ox.utils_graph.get_largest_component(brighton_G.to_directed(),strongly=True)"
   ]
  },
  {
   "cell_type": "code",
   "execution_count": 24,
   "metadata": {},
   "outputs": [
    {
     "data": {
      "image/png": "[encoded data removed]",
      "text/plain": [
       "<Figure size 496.077x432 with 1 Axes>"
      ]
     },
     "metadata": {},
     "output_type": "display_data"
    },
    {
     "data": {
      "text/plain": [
       "(<Figure size 496.077x432 with 1 Axes>,\n",
       " <matplotlib.axes._subplots.AxesSubplot at 0x7fe0a50b0a10>)"
      ]
     },
     "execution_count": 24,
     "metadata": {},
     "output_type": "execute_result"
    }
   ],
   "source": [
    "ox.plot_graph(G)"
   ]
  },
  {
   "cell_type": "code",
   "execution_count": 48,
   "metadata": {},
   "outputs": [],
   "source": [
    "node_pd = ox.graph_to_gdfs(G, edges=False, nodes=True)"
   ]
  },
  {
   "cell_type": "code",
   "execution_count": 76,
   "metadata": {},
   "outputs": [],
   "source": [
    "pts = list(map(lambda x : list(node_pd[node_pd['id'] == x].geometry.map(lambda x : x.coords[0]))[0] , route))"
   ]
  },
  {
   "cell_type": "code",
   "execution_count": 80,
   "metadata": {},
   "outputs": [
    {
     "data": {
      "text/html": [
       "<div>\n",
       "<style scoped>\n",
       "    .dataframe tbody tr th:only-of-type {\n",
       "        vertical-align: middle;\n",
       "    }\n",
       "\n",
       "    .dataframe tbody tr th {\n",
       "        vertical-align: top;\n",
       "    }\n",
       "\n",
       "    .dataframe thead th {\n",
       "        text-align: right;\n",
       "    }\n",
       "</style>\n",
       "<table border=\"1\" class=\"dataframe\">\n",
       "  <thead>\n",
       "    <tr style=\"text-align: right;\">\n",
       "      <th></th>\n",
       "      <th>lat</th>\n",
       "      <th>lng</th>\n",
       "    </tr>\n",
       "  </thead>\n",
       "  <tbody>\n",
       "    <tr>\n",
       "      <th>0</th>\n",
       "      <td>42.345197</td>\n",
       "      <td>-71.145345</td>\n",
       "    </tr>\n",
       "    <tr>\n",
       "      <th>1</th>\n",
       "      <td>42.345407</td>\n",
       "      <td>-71.145569</td>\n",
       "    </tr>\n",
       "    <tr>\n",
       "      <th>2</th>\n",
       "      <td>42.345518</td>\n",
       "      <td>-71.145671</td>\n",
       "    </tr>\n",
       "    <tr>\n",
       "      <th>3</th>\n",
       "      <td>42.345528</td>\n",
       "      <td>-71.145651</td>\n",
       "    </tr>\n",
       "    <tr>\n",
       "      <th>4</th>\n",
       "      <td>42.345759</td>\n",
       "      <td>-71.145852</td>\n",
       "    </tr>\n",
       "    <tr>\n",
       "      <th>...</th>\n",
       "      <td>...</td>\n",
       "      <td>...</td>\n",
       "    </tr>\n",
       "    <tr>\n",
       "      <th>39</th>\n",
       "      <td>42.349100</td>\n",
       "      <td>-71.153443</td>\n",
       "    </tr>\n",
       "    <tr>\n",
       "      <th>40</th>\n",
       "      <td>42.349120</td>\n",
       "      <td>-71.154024</td>\n",
       "    </tr>\n",
       "    <tr>\n",
       "      <th>41</th>\n",
       "      <td>42.349128</td>\n",
       "      <td>-71.154181</td>\n",
       "    </tr>\n",
       "    <tr>\n",
       "      <th>42</th>\n",
       "      <td>42.349146</td>\n",
       "      <td>-71.154180</td>\n",
       "    </tr>\n",
       "    <tr>\n",
       "      <th>43</th>\n",
       "      <td>42.349138</td>\n",
       "      <td>-71.154025</td>\n",
       "    </tr>\n",
       "  </tbody>\n",
       "</table>\n",
       "<p>44 rows × 2 columns</p>\n",
       "</div>"
      ],
      "text/plain": [
       "          lat        lng\n",
       "0   42.345197 -71.145345\n",
       "1   42.345407 -71.145569\n",
       "2   42.345518 -71.145671\n",
       "3   42.345528 -71.145651\n",
       "4   42.345759 -71.145852\n",
       "..        ...        ...\n",
       "39  42.349100 -71.153443\n",
       "40  42.349120 -71.154024\n",
       "41  42.349128 -71.154181\n",
       "42  42.349146 -71.154180\n",
       "43  42.349138 -71.154025\n",
       "\n",
       "[44 rows x 2 columns]"
      ]
     },
     "execution_count": 80,
     "metadata": {},
     "output_type": "execute_result"
    }
   ],
   "source": [
    "pd.DataFrame(pts).rename({0:'lat',1:'lng'},axis=1)"
   ]
  },
  {
   "cell_type": "code",
   "execution_count": null,
   "metadata": {},
   "outputs": [],
   "source": []
  }
 ],
 "metadata": {
  "kernelspec": {
   "display_name": "Python 3",
   "language": "python",
   "name": "python3"
  },
  "language_info": {
   "codemirror_mode": {
    "name": "ipython",
    "version": 3
   },
   "file_extension": ".py",
   "mimetype": "text/x-python",
   "name": "python",
   "nbconvert_exporter": "python",
   "pygments_lexer": "ipython3",
   "version": "3.7.6"
  }
 },
 "nbformat": 4,
 "nbformat_minor": 4
}
