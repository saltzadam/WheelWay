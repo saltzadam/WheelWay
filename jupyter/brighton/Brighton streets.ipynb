{
 "cells": [
  {
   "cell_type": "code",
   "execution_count": 1,
   "metadata": {},
   "outputs": [
    {
     "ename": "ModuleNotFoundError",
     "evalue": "No module named 'sidewalkify'",
     "output_type": "error",
     "traceback": [
      "\u001b[0;31m---------------------------------------------------------------------------\u001b[0m",
      "\u001b[0;31mModuleNotFoundError\u001b[0m                       Traceback (most recent call last)",
      "\u001b[0;32m<ipython-input-1-bbffa1950380>\u001b[0m in \u001b[0;36m<module>\u001b[0;34m\u001b[0m\n\u001b[0;32m----> 1\u001b[0;31m \u001b[0;32mimport\u001b[0m \u001b[0msidewalkify\u001b[0m \u001b[0;32mas\u001b[0m \u001b[0mswky\u001b[0m\u001b[0;34m\u001b[0m\u001b[0;34m\u001b[0m\u001b[0m\n\u001b[0m\u001b[1;32m      2\u001b[0m \u001b[0;32mimport\u001b[0m \u001b[0mosmnx\u001b[0m \u001b[0;32mas\u001b[0m \u001b[0mox\u001b[0m\u001b[0;34m\u001b[0m\u001b[0;34m\u001b[0m\u001b[0m\n\u001b[1;32m      3\u001b[0m \u001b[0;32mimport\u001b[0m \u001b[0mnumpy\u001b[0m \u001b[0;32mas\u001b[0m \u001b[0mnp\u001b[0m\u001b[0;34m\u001b[0m\u001b[0;34m\u001b[0m\u001b[0m\n\u001b[1;32m      4\u001b[0m \u001b[0;32mimport\u001b[0m \u001b[0mpandas\u001b[0m \u001b[0;32mas\u001b[0m \u001b[0mpd\u001b[0m\u001b[0;34m\u001b[0m\u001b[0;34m\u001b[0m\u001b[0m\n\u001b[1;32m      5\u001b[0m \u001b[0;32mimport\u001b[0m \u001b[0mnetworkx\u001b[0m \u001b[0;32mas\u001b[0m \u001b[0mnx\u001b[0m\u001b[0;34m\u001b[0m\u001b[0;34m\u001b[0m\u001b[0m\n",
      "\u001b[0;31mModuleNotFoundError\u001b[0m: No module named 'sidewalkify'"
     ]
    }
   ],
   "source": [
    "import sidewalkify as swky\n",
    "import osmnx as ox\n",
    "import numpy as np\n",
    "import pandas as pd\n",
    "import networkx as nx\n",
    "import shapely as shapely\n",
    "import geopandas as gpd\n"
   ]
  },
  {
   "cell_type": "code",
   "execution_count": 2,
   "metadata": {},
   "outputs": [
    {
     "name": "stderr",
     "output_type": "stream",
     "text": [
      "<ipython-input-2-7721cd5e3608>:1: TqdmDeprecationWarning: This function will be removed in tqdm==5.0.0\n",
      "Please use `tqdm.notebook.*` instead of `tqdm._tqdm_notebook.*`\n",
      "  from tqdm._tqdm_notebook import tqdm_notebook\n",
      "/home/adam/.local/lib/python3.8/site-packages/tqdm/std.py:658: FutureWarning: The Panel class is removed from pandas. Accessing it from the top-level namespace will also be removed in the next version\n",
      "  from pandas import Panel\n"
     ]
    }
   ],
   "source": [
    "from tqdm._tqdm_notebook import tqdm_notebook\n",
    "tqdm_notebook.pandas()"
   ]
  },
  {
   "cell_type": "markdown",
   "metadata": {},
   "source": [
    "## Get the initial road map\n",
    "Here's what osmnx thinks of as 'walking':"
   ]
  },
  {
   "cell_type": "code",
   "execution_count": 3,
   "metadata": {},
   "outputs": [
    {
     "data": {
      "text/plain": [
       "'[\"area\"!~\"yes\"][\"highway\"!~\"cycleway|motor|proposed|construction|abandoned|platform|raceway\"][\"foot\"!~\"no\"][\"service\"!~\"private\"][\"access\"!~\"private\"]'"
      ]
     },
     "execution_count": 3,
     "metadata": {},
     "output_type": "execute_result"
    }
   ],
   "source": [
    "ox.downloader._get_osm_filter(\"walk\")"
   ]
  },
  {
   "cell_type": "code",
   "execution_count": 4,
   "metadata": {},
   "outputs": [],
   "source": [
    "brighton_streets = gpd.read_file(\"brighton_streets.shp\")"
   ]
  },
  {
   "cell_type": "code",
   "execution_count": 5,
   "metadata": {},
   "outputs": [
    {
     "data": {
      "text/html": [
       "<div>\n",
       "<style scoped>\n",
       "    .dataframe tbody tr th:only-of-type {\n",
       "        vertical-align: middle;\n",
       "    }\n",
       "\n",
       "    .dataframe tbody tr th {\n",
       "        vertical-align: top;\n",
       "    }\n",
       "\n",
       "    .dataframe thead th {\n",
       "        text-align: right;\n",
       "    }\n",
       "</style>\n",
       "<table border=\"1\" class=\"dataframe\">\n",
       "  <thead>\n",
       "    <tr style=\"text-align: right;\">\n",
       "      <th></th>\n",
       "      <th>u</th>\n",
       "      <th>v</th>\n",
       "      <th>key</th>\n",
       "      <th>id</th>\n",
       "      <th>name</th>\n",
       "      <th>highway</th>\n",
       "      <th>length</th>\n",
       "      <th>sw_left</th>\n",
       "      <th>sw_right</th>\n",
       "      <th>geometry</th>\n",
       "    </tr>\n",
       "  </thead>\n",
       "  <tbody>\n",
       "    <tr>\n",
       "      <th>0</th>\n",
       "      <td>61341700</td>\n",
       "      <td>61501744</td>\n",
       "      <td>0</td>\n",
       "      <td>8647362</td>\n",
       "      <td>Arlington Street</td>\n",
       "      <td>residential</td>\n",
       "      <td>76.015</td>\n",
       "      <td>1</td>\n",
       "      <td>1</td>\n",
       "      <td>LINESTRING (-71.15443 42.35240, -71.15377 42.3...</td>\n",
       "    </tr>\n",
       "    <tr>\n",
       "      <th>1</th>\n",
       "      <td>61341700</td>\n",
       "      <td>61364860</td>\n",
       "      <td>0</td>\n",
       "      <td>8647362</td>\n",
       "      <td>Arlington Street</td>\n",
       "      <td>residential</td>\n",
       "      <td>74.786</td>\n",
       "      <td>1</td>\n",
       "      <td>1</td>\n",
       "      <td>LINESTRING (-71.15443 42.35240, -71.15494 42.3...</td>\n",
       "    </tr>\n",
       "    <tr>\n",
       "      <th>2</th>\n",
       "      <td>61341700</td>\n",
       "      <td>61341804</td>\n",
       "      <td>0</td>\n",
       "      <td>8652176</td>\n",
       "      <td>Parsons Street</td>\n",
       "      <td>residential</td>\n",
       "      <td>64.389</td>\n",
       "      <td>1</td>\n",
       "      <td>1</td>\n",
       "      <td>LINESTRING (-71.15443 42.35240, -71.15423 42.3...</td>\n",
       "    </tr>\n",
       "    <tr>\n",
       "      <th>3</th>\n",
       "      <td>61341700</td>\n",
       "      <td>61465472</td>\n",
       "      <td>0</td>\n",
       "      <td>8652176</td>\n",
       "      <td>Parsons Street</td>\n",
       "      <td>residential</td>\n",
       "      <td>97.572</td>\n",
       "      <td>1</td>\n",
       "      <td>1</td>\n",
       "      <td>LINESTRING (-71.15443 42.35240, -71.15479 42.3...</td>\n",
       "    </tr>\n",
       "    <tr>\n",
       "      <th>4</th>\n",
       "      <td>61341708</td>\n",
       "      <td>61456343</td>\n",
       "      <td>0</td>\n",
       "      <td>8639525</td>\n",
       "      <td>Camelot Court</td>\n",
       "      <td>residential</td>\n",
       "      <td>210.911</td>\n",
       "      <td>1</td>\n",
       "      <td>1</td>\n",
       "      <td>MULTILINESTRING ((-71.14007 42.35033, -71.1402...</td>\n",
       "    </tr>\n",
       "    <tr>\n",
       "      <th>...</th>\n",
       "      <td>...</td>\n",
       "      <td>...</td>\n",
       "      <td>...</td>\n",
       "      <td>...</td>\n",
       "      <td>...</td>\n",
       "      <td>...</td>\n",
       "      <td>...</td>\n",
       "      <td>...</td>\n",
       "      <td>...</td>\n",
       "      <td>...</td>\n",
       "    </tr>\n",
       "    <tr>\n",
       "      <th>2047</th>\n",
       "      <td>61341692</td>\n",
       "      <td>61341752</td>\n",
       "      <td>0</td>\n",
       "      <td>591284846</td>\n",
       "      <td>Faneuil Street</td>\n",
       "      <td>tertiary</td>\n",
       "      <td>34.195</td>\n",
       "      <td>1</td>\n",
       "      <td>1</td>\n",
       "      <td>LINESTRING (-71.16472 42.35211, -71.16510 42.3...</td>\n",
       "    </tr>\n",
       "    <tr>\n",
       "      <th>2048</th>\n",
       "      <td>61341692</td>\n",
       "      <td>61456997</td>\n",
       "      <td>0</td>\n",
       "      <td>8636146</td>\n",
       "      <td>Dunboy Street</td>\n",
       "      <td>residential</td>\n",
       "      <td>122.939</td>\n",
       "      <td>1</td>\n",
       "      <td>1</td>\n",
       "      <td>LINESTRING (-71.16472 42.35211, -71.16478 42.3...</td>\n",
       "    </tr>\n",
       "    <tr>\n",
       "      <th>2049</th>\n",
       "      <td>61341693</td>\n",
       "      <td>61342144</td>\n",
       "      <td>0</td>\n",
       "      <td>591284846</td>\n",
       "      <td>Faneuil Street</td>\n",
       "      <td>tertiary</td>\n",
       "      <td>23.184</td>\n",
       "      <td>1</td>\n",
       "      <td>1</td>\n",
       "      <td>LINESTRING (-71.16318 42.35241, -71.16290 42.3...</td>\n",
       "    </tr>\n",
       "    <tr>\n",
       "      <th>2050</th>\n",
       "      <td>61341693</td>\n",
       "      <td>61342336</td>\n",
       "      <td>0</td>\n",
       "      <td>591284846</td>\n",
       "      <td>Faneuil Street</td>\n",
       "      <td>tertiary</td>\n",
       "      <td>37.354</td>\n",
       "      <td>1</td>\n",
       "      <td>1</td>\n",
       "      <td>LINESTRING (-71.16318 42.35241, -71.16362 42.3...</td>\n",
       "    </tr>\n",
       "    <tr>\n",
       "      <th>2051</th>\n",
       "      <td>61341693</td>\n",
       "      <td>61341816</td>\n",
       "      <td>0</td>\n",
       "      <td>591284848</td>\n",
       "      <td>Brooks Street</td>\n",
       "      <td>tertiary</td>\n",
       "      <td>61.641</td>\n",
       "      <td>1</td>\n",
       "      <td>1</td>\n",
       "      <td>LINESTRING (-71.16318 42.35241, -71.16311 42.3...</td>\n",
       "    </tr>\n",
       "  </tbody>\n",
       "</table>\n",
       "<p>2052 rows × 10 columns</p>\n",
       "</div>"
      ],
      "text/plain": [
       "             u         v  key         id              name      highway  \\\n",
       "0     61341700  61501744    0    8647362  Arlington Street  residential   \n",
       "1     61341700  61364860    0    8647362  Arlington Street  residential   \n",
       "2     61341700  61341804    0    8652176    Parsons Street  residential   \n",
       "3     61341700  61465472    0    8652176    Parsons Street  residential   \n",
       "4     61341708  61456343    0    8639525     Camelot Court  residential   \n",
       "...        ...       ...  ...        ...               ...          ...   \n",
       "2047  61341692  61341752    0  591284846    Faneuil Street     tertiary   \n",
       "2048  61341692  61456997    0    8636146     Dunboy Street  residential   \n",
       "2049  61341693  61342144    0  591284846    Faneuil Street     tertiary   \n",
       "2050  61341693  61342336    0  591284846    Faneuil Street     tertiary   \n",
       "2051  61341693  61341816    0  591284848     Brooks Street     tertiary   \n",
       "\n",
       "       length  sw_left  sw_right  \\\n",
       "0      76.015        1         1   \n",
       "1      74.786        1         1   \n",
       "2      64.389        1         1   \n",
       "3      97.572        1         1   \n",
       "4     210.911        1         1   \n",
       "...       ...      ...       ...   \n",
       "2047   34.195        1         1   \n",
       "2048  122.939        1         1   \n",
       "2049   23.184        1         1   \n",
       "2050   37.354        1         1   \n",
       "2051   61.641        1         1   \n",
       "\n",
       "                                               geometry  \n",
       "0     LINESTRING (-71.15443 42.35240, -71.15377 42.3...  \n",
       "1     LINESTRING (-71.15443 42.35240, -71.15494 42.3...  \n",
       "2     LINESTRING (-71.15443 42.35240, -71.15423 42.3...  \n",
       "3     LINESTRING (-71.15443 42.35240, -71.15479 42.3...  \n",
       "4     MULTILINESTRING ((-71.14007 42.35033, -71.1402...  \n",
       "...                                                 ...  \n",
       "2047  LINESTRING (-71.16472 42.35211, -71.16510 42.3...  \n",
       "2048  LINESTRING (-71.16472 42.35211, -71.16478 42.3...  \n",
       "2049  LINESTRING (-71.16318 42.35241, -71.16290 42.3...  \n",
       "2050  LINESTRING (-71.16318 42.35241, -71.16362 42.3...  \n",
       "2051  LINESTRING (-71.16318 42.35241, -71.16311 42.3...  \n",
       "\n",
       "[2052 rows x 10 columns]"
      ]
     },
     "execution_count": 5,
     "metadata": {},
     "output_type": "execute_result"
    }
   ],
   "source": [
    "brighton_streets"
   ]
  },
  {
   "cell_type": "code",
   "execution_count": 6,
   "metadata": {},
   "outputs": [
    {
     "data": {
      "text/plain": [
       "<matplotlib.axes._subplots.AxesSubplot at 0x7f3758c011f0>"
      ]
     },
     "execution_count": 6,
     "metadata": {},
     "output_type": "execute_result"
    },
    {
     "data": {
      "image/png": "[encoded data removed]",
      "text/plain": [
       "<Figure size 432x288 with 1 Axes>"
      ]
     },
     "metadata": {
      "needs_background": "light"
     },
     "output_type": "display_data"
    }
   ],
   "source": [
    "brighton_streets.plot()"
   ]
  },
  {
   "cell_type": "code",
   "execution_count": 7,
   "metadata": {},
   "outputs": [
    {
     "name": "stdout",
     "output_type": "stream",
     "text": [
      "epsg:4326\n"
     ]
    }
   ],
   "source": [
    "print(brighton_streets.crs)\n",
    "EPSG_4326 = brighton_streets.crs"
   ]
  },
  {
   "cell_type": "code",
   "execution_count": 8,
   "metadata": {},
   "outputs": [
    {
     "data": {
      "text/html": [
       "<div>\n",
       "<style scoped>\n",
       "    .dataframe tbody tr th:only-of-type {\n",
       "        vertical-align: middle;\n",
       "    }\n",
       "\n",
       "    .dataframe tbody tr th {\n",
       "        vertical-align: top;\n",
       "    }\n",
       "\n",
       "    .dataframe thead th {\n",
       "        text-align: right;\n",
       "    }\n",
       "</style>\n",
       "<table border=\"1\" class=\"dataframe\">\n",
       "  <thead>\n",
       "    <tr style=\"text-align: right;\">\n",
       "      <th></th>\n",
       "      <th>u</th>\n",
       "      <th>v</th>\n",
       "      <th>key</th>\n",
       "      <th>id</th>\n",
       "      <th>name</th>\n",
       "      <th>highway</th>\n",
       "      <th>length</th>\n",
       "      <th>sw_left</th>\n",
       "      <th>sw_right</th>\n",
       "      <th>geometry</th>\n",
       "    </tr>\n",
       "  </thead>\n",
       "  <tbody>\n",
       "    <tr>\n",
       "      <th>0</th>\n",
       "      <td>61341700</td>\n",
       "      <td>61501744</td>\n",
       "      <td>0</td>\n",
       "      <td>8647362</td>\n",
       "      <td>Arlington Street</td>\n",
       "      <td>residential</td>\n",
       "      <td>76.015</td>\n",
       "      <td>1</td>\n",
       "      <td>1</td>\n",
       "      <td>LINESTRING (-71.15443 42.35240, -71.15377 42.3...</td>\n",
       "    </tr>\n",
       "    <tr>\n",
       "      <th>1</th>\n",
       "      <td>61341700</td>\n",
       "      <td>61364860</td>\n",
       "      <td>0</td>\n",
       "      <td>8647362</td>\n",
       "      <td>Arlington Street</td>\n",
       "      <td>residential</td>\n",
       "      <td>74.786</td>\n",
       "      <td>1</td>\n",
       "      <td>1</td>\n",
       "      <td>LINESTRING (-71.15443 42.35240, -71.15494 42.3...</td>\n",
       "    </tr>\n",
       "    <tr>\n",
       "      <th>2</th>\n",
       "      <td>61341700</td>\n",
       "      <td>61341804</td>\n",
       "      <td>0</td>\n",
       "      <td>8652176</td>\n",
       "      <td>Parsons Street</td>\n",
       "      <td>residential</td>\n",
       "      <td>64.389</td>\n",
       "      <td>1</td>\n",
       "      <td>1</td>\n",
       "      <td>LINESTRING (-71.15443 42.35240, -71.15423 42.3...</td>\n",
       "    </tr>\n",
       "    <tr>\n",
       "      <th>3</th>\n",
       "      <td>61341700</td>\n",
       "      <td>61465472</td>\n",
       "      <td>0</td>\n",
       "      <td>8652176</td>\n",
       "      <td>Parsons Street</td>\n",
       "      <td>residential</td>\n",
       "      <td>97.572</td>\n",
       "      <td>1</td>\n",
       "      <td>1</td>\n",
       "      <td>LINESTRING (-71.15443 42.35240, -71.15479 42.3...</td>\n",
       "    </tr>\n",
       "    <tr>\n",
       "      <th>4</th>\n",
       "      <td>61341708</td>\n",
       "      <td>61456343</td>\n",
       "      <td>0</td>\n",
       "      <td>8639525</td>\n",
       "      <td>Camelot Court</td>\n",
       "      <td>residential</td>\n",
       "      <td>210.911</td>\n",
       "      <td>1</td>\n",
       "      <td>1</td>\n",
       "      <td>LINESTRING (-71.14007 42.35033, -71.14023 42.3...</td>\n",
       "    </tr>\n",
       "    <tr>\n",
       "      <th>...</th>\n",
       "      <td>...</td>\n",
       "      <td>...</td>\n",
       "      <td>...</td>\n",
       "      <td>...</td>\n",
       "      <td>...</td>\n",
       "      <td>...</td>\n",
       "      <td>...</td>\n",
       "      <td>...</td>\n",
       "      <td>...</td>\n",
       "      <td>...</td>\n",
       "    </tr>\n",
       "    <tr>\n",
       "      <th>2047</th>\n",
       "      <td>61341692</td>\n",
       "      <td>61341752</td>\n",
       "      <td>0</td>\n",
       "      <td>591284846</td>\n",
       "      <td>Faneuil Street</td>\n",
       "      <td>tertiary</td>\n",
       "      <td>34.195</td>\n",
       "      <td>1</td>\n",
       "      <td>1</td>\n",
       "      <td>LINESTRING (-71.16472 42.35211, -71.16510 42.3...</td>\n",
       "    </tr>\n",
       "    <tr>\n",
       "      <th>2048</th>\n",
       "      <td>61341692</td>\n",
       "      <td>61456997</td>\n",
       "      <td>0</td>\n",
       "      <td>8636146</td>\n",
       "      <td>Dunboy Street</td>\n",
       "      <td>residential</td>\n",
       "      <td>122.939</td>\n",
       "      <td>1</td>\n",
       "      <td>1</td>\n",
       "      <td>LINESTRING (-71.16472 42.35211, -71.16478 42.3...</td>\n",
       "    </tr>\n",
       "    <tr>\n",
       "      <th>2049</th>\n",
       "      <td>61341693</td>\n",
       "      <td>61342144</td>\n",
       "      <td>0</td>\n",
       "      <td>591284846</td>\n",
       "      <td>Faneuil Street</td>\n",
       "      <td>tertiary</td>\n",
       "      <td>23.184</td>\n",
       "      <td>1</td>\n",
       "      <td>1</td>\n",
       "      <td>LINESTRING (-71.16318 42.35241, -71.16290 42.3...</td>\n",
       "    </tr>\n",
       "    <tr>\n",
       "      <th>2050</th>\n",
       "      <td>61341693</td>\n",
       "      <td>61342336</td>\n",
       "      <td>0</td>\n",
       "      <td>591284846</td>\n",
       "      <td>Faneuil Street</td>\n",
       "      <td>tertiary</td>\n",
       "      <td>37.354</td>\n",
       "      <td>1</td>\n",
       "      <td>1</td>\n",
       "      <td>LINESTRING (-71.16318 42.35241, -71.16362 42.3...</td>\n",
       "    </tr>\n",
       "    <tr>\n",
       "      <th>2051</th>\n",
       "      <td>61341693</td>\n",
       "      <td>61341816</td>\n",
       "      <td>0</td>\n",
       "      <td>591284848</td>\n",
       "      <td>Brooks Street</td>\n",
       "      <td>tertiary</td>\n",
       "      <td>61.641</td>\n",
       "      <td>1</td>\n",
       "      <td>1</td>\n",
       "      <td>LINESTRING (-71.16318 42.35241, -71.16311 42.3...</td>\n",
       "    </tr>\n",
       "  </tbody>\n",
       "</table>\n",
       "<p>2064 rows × 10 columns</p>\n",
       "</div>"
      ],
      "text/plain": [
       "             u         v  key         id              name      highway  \\\n",
       "0     61341700  61501744    0    8647362  Arlington Street  residential   \n",
       "1     61341700  61364860    0    8647362  Arlington Street  residential   \n",
       "2     61341700  61341804    0    8652176    Parsons Street  residential   \n",
       "3     61341700  61465472    0    8652176    Parsons Street  residential   \n",
       "4     61341708  61456343    0    8639525     Camelot Court  residential   \n",
       "...        ...       ...  ...        ...               ...          ...   \n",
       "2047  61341692  61341752    0  591284846    Faneuil Street     tertiary   \n",
       "2048  61341692  61456997    0    8636146     Dunboy Street  residential   \n",
       "2049  61341693  61342144    0  591284846    Faneuil Street     tertiary   \n",
       "2050  61341693  61342336    0  591284846    Faneuil Street     tertiary   \n",
       "2051  61341693  61341816    0  591284848     Brooks Street     tertiary   \n",
       "\n",
       "       length  sw_left  sw_right  \\\n",
       "0      76.015        1         1   \n",
       "1      74.786        1         1   \n",
       "2      64.389        1         1   \n",
       "3      97.572        1         1   \n",
       "4     210.911        1         1   \n",
       "...       ...      ...       ...   \n",
       "2047   34.195        1         1   \n",
       "2048  122.939        1         1   \n",
       "2049   23.184        1         1   \n",
       "2050   37.354        1         1   \n",
       "2051   61.641        1         1   \n",
       "\n",
       "                                               geometry  \n",
       "0     LINESTRING (-71.15443 42.35240, -71.15377 42.3...  \n",
       "1     LINESTRING (-71.15443 42.35240, -71.15494 42.3...  \n",
       "2     LINESTRING (-71.15443 42.35240, -71.15423 42.3...  \n",
       "3     LINESTRING (-71.15443 42.35240, -71.15479 42.3...  \n",
       "4     LINESTRING (-71.14007 42.35033, -71.14023 42.3...  \n",
       "...                                                 ...  \n",
       "2047  LINESTRING (-71.16472 42.35211, -71.16510 42.3...  \n",
       "2048  LINESTRING (-71.16472 42.35211, -71.16478 42.3...  \n",
       "2049  LINESTRING (-71.16318 42.35241, -71.16290 42.3...  \n",
       "2050  LINESTRING (-71.16318 42.35241, -71.16362 42.3...  \n",
       "2051  LINESTRING (-71.16318 42.35241, -71.16311 42.3...  \n",
       "\n",
       "[2064 rows x 10 columns]"
      ]
     },
     "execution_count": 8,
     "metadata": {},
     "output_type": "execute_result"
    }
   ],
   "source": [
    "def multis_to_lines(ls_or_mls):\n",
    "    if type(ls_or_mls) == shapely.geometry.LineString:\n",
    "        return [ls_or_mls]\n",
    "    else:\n",
    "        return list(ls_or_mls)\n",
    "    \n",
    "df_temp = pd.DataFrame(brighton_streets)\n",
    "df_temp['geometry'] = df_temp['geometry'].map(multis_to_lines)\n",
    "df_temp = df_temp.explode('geometry')\n",
    "brighton_streets = gpd.GeoDataFrame(df_temp, geometry='geometry')\n",
    "brighton_streets.crs = EPSG_4326\n",
    "brighton_streets"
   ]
  },
  {
   "cell_type": "code",
   "execution_count": 9,
   "metadata": {},
   "outputs": [],
   "source": [
    "EPSG_26919 = \"EPSG:26919\"\n",
    "brighton_streets = brighton_streets.to_crs(EPSG_26919)"
   ]
  },
  {
   "cell_type": "code",
   "execution_count": 10,
   "metadata": {},
   "outputs": [],
   "source": [
    "sidewalk_paths = swky.graph.graph_workflow(brighton_streets)"
   ]
  },
  {
   "cell_type": "code",
   "execution_count": 11,
   "metadata": {
    "scrolled": true
   },
   "outputs": [
    {
     "name": "stderr",
     "output_type": "stream",
     "text": [
      "  4%|▍         | 12/302 [00:00<00:16, 17.34it/s]\n",
      "ERROR:root:Internal Python error in the inspect module.\n",
      "Below is the traceback from this internal error.\n",
      "\n"
     ]
    },
    {
     "name": "stdout",
     "output_type": "stream",
     "text": [
      "Traceback (most recent call last):\n",
      "  File \"/home/adam/anaconda3/envs/insight_project_dc/lib/python3.8/site-packages/IPython/core/interactiveshell.py\", line 3331, in run_code\n",
      "    exec(code_obj, self.user_global_ns, self.user_ns)\n",
      "  File \"<ipython-input-11-2db9d62cac41>\", line 1, in <module>\n",
      "    brighton_sidewalks = swky.draw.draw_sidewalks(sidewalk_paths)\n",
      "  File \"/home/adam/anaconda3/envs/insight_project_dc/lib/python3.8/site-packages/sidewalkify/draw/draw.py\", line 26, in draw_sidewalks\n",
      "    edge['sidewalk'] = edge_to_sidewalk_geom(edge)\n",
      "  File \"/home/adam/anaconda3/envs/insight_project_dc/lib/python3.8/site-packages/sidewalkify/draw/draw.py\", line 10, in edge_to_sidewalk_geom\n",
      "    geom = edge['geometry'].parallel_offset(offset, 'left',\n",
      "  File \"/home/adam/.local/lib/python3.8/site-packages/shapely/geometry/linestring.py\", line 145, in parallel_offset\n",
      "    return geom_factory(self.impl['parallel_offset'](\n",
      "  File \"/home/adam/.local/lib/python3.8/site-packages/shapely/topology.py\", line 78, in __call__\n",
      "    return self.fn(this._geom, *args)\n",
      "  File \"/home/adam/.local/lib/python3.8/site-packages/shapely/geos.py\", line 838, in parallel_offset\n",
      "    return self.GEOSOffsetCurve(\n",
      "KeyboardInterrupt\n",
      "\n",
      "During handling of the above exception, another exception occurred:\n",
      "\n",
      "Traceback (most recent call last):\n",
      "  File \"/home/adam/anaconda3/envs/insight_project_dc/lib/python3.8/site-packages/IPython/core/interactiveshell.py\", line 2044, in showtraceback\n",
      "    stb = value._render_traceback_()\n",
      "AttributeError: 'KeyboardInterrupt' object has no attribute '_render_traceback_'\n",
      "\n",
      "During handling of the above exception, another exception occurred:\n",
      "\n",
      "Traceback (most recent call last):\n",
      "  File \"/home/adam/anaconda3/envs/insight_project_dc/lib/python3.8/site-packages/IPython/core/ultratb.py\", line 1148, in get_records\n",
      "    return _fixed_getinnerframes(etb, number_of_lines_of_context, tb_offset)\n",
      "  File \"/home/adam/anaconda3/envs/insight_project_dc/lib/python3.8/site-packages/IPython/core/ultratb.py\", line 316, in wrapped\n",
      "    return f(*args, **kwargs)\n",
      "  File \"/home/adam/anaconda3/envs/insight_project_dc/lib/python3.8/site-packages/IPython/core/ultratb.py\", line 350, in _fixed_getinnerframes\n",
      "    records = fix_frame_records_filenames(inspect.getinnerframes(etb, context))\n",
      "  File \"/home/adam/anaconda3/envs/insight_project_dc/lib/python3.8/inspect.py\", line 1503, in getinnerframes\n",
      "    frameinfo = (tb.tb_frame,) + getframeinfo(tb, context)\n",
      "  File \"/home/adam/anaconda3/envs/insight_project_dc/lib/python3.8/inspect.py\", line 1461, in getframeinfo\n",
      "    filename = getsourcefile(frame) or getfile(frame)\n",
      "  File \"/home/adam/anaconda3/envs/insight_project_dc/lib/python3.8/inspect.py\", line 708, in getsourcefile\n",
      "    if getattr(getmodule(object, filename), '__loader__', None) is not None:\n",
      "  File \"/home/adam/anaconda3/envs/insight_project_dc/lib/python3.8/inspect.py\", line 754, in getmodule\n",
      "    os.path.realpath(f)] = module.__name__\n",
      "  File \"/home/adam/anaconda3/envs/insight_project_dc/lib/python3.8/posixpath.py\", line 391, in realpath\n",
      "    path, ok = _joinrealpath(filename[:0], filename, {})\n",
      "  File \"/home/adam/anaconda3/envs/insight_project_dc/lib/python3.8/posixpath.py\", line 415, in _joinrealpath\n",
      "    if name == pardir:\n",
      "KeyboardInterrupt\n"
     ]
    },
    {
     "ename": "KeyboardInterrupt",
     "evalue": "",
     "output_type": "error",
     "traceback": [
      "\u001b[0;31m---------------------------------------------------------------------------\u001b[0m"
     ]
    }
   ],
   "source": [
    "brighton_sidewalks = swky.draw.draw_sidewalks(sidewalk_paths)\n",
    "brighton_sidewalks.crs=EPSG_26919"
   ]
  },
  {
   "cell_type": "code",
   "execution_count": null,
   "metadata": {},
   "outputs": [],
   "source": [
    "brighton_sidewalks.to_file(\"brighton_sidewalks\")\n",
    "brighton_streets.to_file(\"brighton_streets_26919\")"
   ]
  },
  {
   "cell_type": "code",
   "execution_count": null,
   "metadata": {},
   "outputs": [],
   "source": [
    "import math\n",
    "def linestring_start(linestring):\n",
    "    (l1,l2) = list(linestring.coords)[0]\n",
    "    return (l1,l2)\n",
    "\n",
    "def linestring_end(linestring):\n",
    "    (l1,l2) = list(linestring.coords)[1]\n",
    "    return (l1,l2)\n",
    "\n",
    "def linestring_heading(linestring):\n",
    "    # 0 is true north, 90 is east\n",
    "    # so heading = 90 - usual_angle (in standard form)\n",
    "    (l1,l2) = linestring_start(linestring)\n",
    "    (m1,m2) = linestring_end(linestring)\n",
    "    angle_deg = math.atan2(m2-l2, m1-l1) * 360 / (2 * math.pi)\n",
    "    heading_deg = int((90 - angle_deg) % 360)\n",
    "    return(heading_deg)\n",
    "\n",
    "# probably need to rework this for GSV, ok\n",
    "brighton_streets['heading'] = brighton_streets.geometry.map(linestring_heading)\n"
   ]
  },
  {
   "cell_type": "markdown",
   "metadata": {},
   "source": [
    "Let's segment."
   ]
  },
  {
   "cell_type": "code",
   "execution_count": null,
   "metadata": {},
   "outputs": [],
   "source": [
    "brighton_streets"
   ]
  },
  {
   "cell_type": "code",
   "execution_count": null,
   "metadata": {},
   "outputs": [],
   "source": [
    "brighton_streets = brighton_streets.to_crs(EPSG_4326)\n",
    "brighton_streets['length'] = brighton_streets.to_crs(\"EPSG:26919\").length\n",
    "brighton_streets['ratio'] = brighton_streets.length/brighton_streets['length']\n",
    "brighton_streets['ratio'].describe()"
   ]
  },
  {
   "cell_type": "markdown",
   "metadata": {},
   "source": [
    "0.000011 seems reasonable"
   ]
  },
  {
   "cell_type": "code",
   "execution_count": null,
   "metadata": {},
   "outputs": [],
   "source": [
    "import math\n",
    "CUT_LENGTH_METERS = 8\n",
    "CUT_LENGTH = 0.000011 * CUT_LENGTH_METERS\n",
    "sum((brighton_streets.length/CUT_LENGTH).map(math.ceil))"
   ]
  },
  {
   "cell_type": "code",
   "execution_count": null,
   "metadata": {},
   "outputs": [],
   "source": [
    "brighton_streets = brighton_streets.drop(columns=['ratio','highway','key'])"
   ]
  },
  {
   "cell_type": "code",
   "execution_count": null,
   "metadata": {},
   "outputs": [],
   "source": [
    "brighton_streets"
   ]
  },
  {
   "cell_type": "code",
   "execution_count": null,
   "metadata": {},
   "outputs": [],
   "source": [
    "# Thank you Sean Gilles https://gist.github.com/sgillies/465156#file_cut.py\n",
    "from shapely.geometry import LineString, Point\n",
    "\n",
    "def cut(line, distance):\n",
    "    # Cuts a line in two at a distance from its starting point\n",
    "    if distance <= 0.0 or distance >= line.length:\n",
    "        return [LineString(line)]\n",
    "    coords = list(line.coords)\n",
    "    for i, p in enumerate(coords):\n",
    "        pd = line.project(Point(p))\n",
    "        if pd == distance:\n",
    "            return [\n",
    "                LineString(coords[:i+1]),\n",
    "                LineString(coords[i:])]\n",
    "        if pd > distance:\n",
    "            cp = line.interpolate(distance)\n",
    "            return [\n",
    "                LineString(coords[:i] + [(cp.x, cp.y)]),\n",
    "                LineString([(cp.x, cp.y)] + coords[i:])]\n",
    "        \n",
    "\n",
    "# here's me\n",
    "def recursive_cut(line, distance):\n",
    "    if [line] == cut(line, distance):\n",
    "        return [line]\n",
    "    else:\n",
    "        segment, rest = cut(line, distance)\n",
    "        return [segment] + recursive_cut(rest, distance)"
   ]
  },
  {
   "cell_type": "code",
   "execution_count": null,
   "metadata": {},
   "outputs": [],
   "source": [
    "# now we recursive_cut streets\n",
    "brighton_streets_segmented = brighton_streets.copy()\n",
    "brighton_streets_segmented['segments'] = brighton_streets.geometry.map(lambda x : recursive_cut(x,CUT_LENGTH))\n",
    "\n",
    "df_temp = pd.DataFrame(brighton_streets_segmented)\n",
    "df_temp = df_temp.explode('segments').drop(columns=['geometry'])\n",
    "brighton_streets_segmented = gpd.GeoDataFrame(df_temp, geometry = 'segments')\n",
    "brighton_streets_segmented.crs = EPSG_4326"
   ]
  },
  {
   "cell_type": "code",
   "execution_count": null,
   "metadata": {},
   "outputs": [],
   "source": [
    "brighton_streets_segmented.length"
   ]
  },
  {
   "cell_type": "code",
   "execution_count": null,
   "metadata": {},
   "outputs": [],
   "source": [
    "# get midpoints to figure out where to take photo\n",
    "def midpoint(linestring):\n",
    "    (x1,y1) = linestring_start(linestring)\n",
    "    (x2,y2) = linestring_end(linestring)\n",
    "    x_mid = (x2 + x1)/2\n",
    "    y_mid = (y2 + y1)/2\n",
    "    return Point(x_mid, y_mid)\n",
    "\n",
    "brighton_streets_segmented['midpoints'] = brighton_streets_segmented.geometry.map(midpoint)"
   ]
  },
  {
   "cell_type": "code",
   "execution_count": null,
   "metadata": {},
   "outputs": [],
   "source": [
    "list(brighton_streets_segmented.head(1)['segments'].values[0].coords)"
   ]
  },
  {
   "cell_type": "markdown",
   "metadata": {},
   "source": [
    "Plan:\n",
    "* feed each row to selenium\n",
    "* * two pics, left and right\n",
    "* * cut off for 'short' ones -- can add 'length_4269' to see where\n",
    "* project little lines out and clip/delete bad sidewalks"
   ]
  },
  {
   "cell_type": "code",
   "execution_count": null,
   "metadata": {},
   "outputs": [],
   "source": [
    "brighton_crosswalks = gpd.read_file(\"brighton_crosswalks/brighton_crosswalks.shp\")"
   ]
  },
  {
   "cell_type": "code",
   "execution_count": null,
   "metadata": {
    "scrolled": true
   },
   "outputs": [],
   "source": [
    "brighton_crosswalks"
   ]
  },
  {
   "cell_type": "code",
   "execution_count": 2,
   "metadata": {},
   "outputs": [
    {
     "name": "stdout",
     "output_type": "stream",
     "text": [
      "/home/adam/anaconda3/envs/insight_dash/bin/python\r\n"
     ]
    }
   ],
   "source": [
    "!which python"
   ]
  },
  {
   "cell_type": "code",
   "execution_count": null,
   "metadata": {},
   "outputs": [],
   "source": []
  }
 ],
 "metadata": {
  "kernelspec": {
   "display_name": "Python 3",
   "language": "python",
   "name": "python3"
  },
  "language_info": {
   "codemirror_mode": {
    "name": "ipython",
    "version": 3
   },
   "file_extension": ".py",
   "mimetype": "text/x-python",
   "name": "python",
   "nbconvert_exporter": "python",
   "pygments_lexer": "ipython3",
   "version": "3.7.6"
  }
 },
 "nbformat": 4,
 "nbformat_minor": 4
}
