{
 "cells": [
  {
   "cell_type": "code",
   "execution_count": null,
   "metadata": {},
   "outputs": [],
   "source": [
    "import sidewalkify as swky\n",
    "import osmnx as ox\n",
    "import numpy as np\n",
    "import pandas as pd\n",
    "import networkx as nx\n",
    "import shapely as shapely\n",
    "import geopandas as gpd\n"
   ]
  },
  {
   "cell_type": "code",
   "execution_count": null,
   "metadata": {},
   "outputs": [],
   "source": [
    "from tqdm._tqdm_notebook import tqdm_notebook\n",
    "tqdm_notebook.pandas()"
   ]
  },
  {
   "cell_type": "markdown",
   "metadata": {},
   "source": [
    "## Get the initial road map\n",
    "Here's what osmnx thinks of as 'walking':"
   ]
  },
  {
   "cell_type": "code",
   "execution_count": null,
   "metadata": {},
   "outputs": [],
   "source": [
    "ox.downloader._get_osm_filter(\"walk\")"
   ]
  },
  {
   "cell_type": "code",
   "execution_count": null,
   "metadata": {},
   "outputs": [],
   "source": [
    "brighton_streets = gpd.read_file(\"brighton_streets.shp\")"
   ]
  },
  {
   "cell_type": "code",
   "execution_count": null,
   "metadata": {},
   "outputs": [],
   "source": [
    "brighton_streets"
   ]
  },
  {
   "cell_type": "code",
   "execution_count": null,
   "metadata": {},
   "outputs": [],
   "source": [
    "brighton_streets.plot()"
   ]
  },
  {
   "cell_type": "code",
   "execution_count": null,
   "metadata": {},
   "outputs": [],
   "source": [
    "print(brighton_streets.crs)\n",
    "EPSG_4326 = brighton_streets.crs"
   ]
  },
  {
   "cell_type": "code",
   "execution_count": null,
   "metadata": {},
   "outputs": [],
   "source": [
    "def multis_to_lines(ls_or_mls):\n",
    "    if type(ls_or_mls) == shapely.geometry.LineString:\n",
    "        return [ls_or_mls]\n",
    "    else:\n",
    "        return list(ls_or_mls)\n",
    "    \n",
    "df_temp = pd.DataFrame(brighton_streets)\n",
    "df_temp['geometry'] = df_temp['geometry'].map(multis_to_lines)\n",
    "df_temp = df_temp.explode('geometry')\n",
    "brighton_streets = gpd.GeoDataFrame(df_temp, geometry='geometry')\n",
    "brighton_streets.crs = EPSG_4326\n",
    "brighton_streets"
   ]
  },
  {
   "cell_type": "code",
   "execution_count": null,
   "metadata": {},
   "outputs": [],
   "source": [
    "EPSG_26919 = \"EPSG:26919\"\n",
    "brighton_streets = brighton_streets.to_crs(EPSG_26919)"
   ]
  },
  {
   "cell_type": "code",
   "execution_count": null,
   "metadata": {},
   "outputs": [],
   "source": [
    "sidewalk_paths = swky.graph.graph_workflow(brighton_streets)"
   ]
  },
  {
   "cell_type": "code",
   "execution_count": null,
   "metadata": {
    "scrolled": true
   },
   "outputs": [],
   "source": [
    "brighton_sidewalks = swky.draw.draw_sidewalks(sidewalk_paths)\n",
    "brighton_sidewalks.crs=EPSG_26919"
   ]
  },
  {
   "cell_type": "code",
   "execution_count": null,
   "metadata": {},
   "outputs": [],
   "source": [
    "brighton_sidewalks.to_file(\"brighton_sidewalks\")\n",
    "brighton_streets.to_file(\"brighton_streets_26919\")"
   ]
  },
  {
   "cell_type": "code",
   "execution_count": null,
   "metadata": {},
   "outputs": [],
   "source": [
    "import math\n",
    "def linestring_start(linestring):\n",
    "    (l1,l2) = list(linestring.coords)[0]\n",
    "    return (l1,l2)\n",
    "\n",
    "def linestring_end(linestring):\n",
    "    (l1,l2) = list(linestring.coords)[1]\n",
    "    return (l1,l2)\n",
    "\n",
    "def linestring_heading(linestring):\n",
    "    # 0 is true north, 90 is east\n",
    "    # so heading = 90 - usual_angle (in standard form)\n",
    "    (l1,l2) = linestring_start(linestring)\n",
    "    (m1,m2) = linestring_end(linestring)\n",
    "    angle_deg = math.atan2(m2-l2, m1-l1) * 360 / (2 * math.pi)\n",
    "    heading_deg = int((90 - angle_deg) % 360)\n",
    "    return(heading_deg)\n",
    "\n",
    "# probably need to rework this for GSV, ok\n",
    "brighton_streets['heading'] = brighton_streets.geometry.map(linestring_heading)\n"
   ]
  },
  {
   "cell_type": "markdown",
   "metadata": {},
   "source": [
    "Let's segment."
   ]
  },
  {
   "cell_type": "code",
   "execution_count": null,
   "metadata": {},
   "outputs": [],
   "source": [
    "brighton_streets"
   ]
  },
  {
   "cell_type": "code",
   "execution_count": null,
   "metadata": {},
   "outputs": [],
   "source": [
    "brighton_streets = brighton_streets.to_crs(EPSG_4326)\n",
    "brighton_streets['length'] = brighton_streets.to_crs(\"EPSG:26919\").length\n",
    "brighton_streets['ratio'] = brighton_streets.length/brighton_streets['length']\n",
    "brighton_streets['ratio'].describe()"
   ]
  },
  {
   "cell_type": "markdown",
   "metadata": {},
   "source": [
    "0.000011 seems reasonable"
   ]
  },
  {
   "cell_type": "code",
   "execution_count": null,
   "metadata": {},
   "outputs": [],
   "source": [
    "import math\n",
    "CUT_LENGTH_METERS = 8\n",
    "CUT_LENGTH = 0.000011 * CUT_LENGTH_METERS\n",
    "sum((brighton_streets.length/CUT_LENGTH).map(math.ceil))"
   ]
  },
  {
   "cell_type": "code",
   "execution_count": null,
   "metadata": {},
   "outputs": [],
   "source": [
    "brighton_streets = brighton_streets.drop(columns=['ratio','highway','key'])"
   ]
  },
  {
   "cell_type": "code",
   "execution_count": null,
   "metadata": {},
   "outputs": [],
   "source": [
    "def safe_linemerge(line):\n",
    "    if type(line) == MultiLineString:\n",
    "        return linemerge(line)\n",
    "    else:\n",
    "        return line\n",
    "\n",
    "brighton_streets.geometry = brighton_streets.geometry.map(lambda x : safe_linemerge)"
   ]
  },
  {
   "cell_type": "code",
   "execution_count": null,
   "metadata": {},
   "outputs": [],
   "source": [
    "# Thank you Sean Gilles https://gist.github.com/sgillies/465156#file_cut.py\n",
    "from shapely.geometry import LineString, Point\n",
    "\n",
    "def cut(line, distance):\n",
    "    # Cuts a line in two at a distance from its starting point\n",
    "    if distance <= 0.0 or distance >= line.length:\n",
    "        return [LineString(line)]\n",
    "    coords = list(line.coords)\n",
    "    for i, p in enumerate(coords):\n",
    "        pd = line.project(Point(p))\n",
    "        if pd == distance:\n",
    "            return [\n",
    "                LineString(coords[:i+1]),\n",
    "                LineString(coords[i:])]\n",
    "        if pd > distance:\n",
    "            cp = line.interpolate(distance)\n",
    "            return [\n",
    "                LineString(coords[:i] + [(cp.x, cp.y)]),\n",
    "                LineString([(cp.x, cp.y)] + coords[i:])]\n",
    "        \n",
    "\n",
    "# here's me\n",
    "def recursive_cut(line, distance):\n",
    "    if [line] == cut(line, distance):\n",
    "        return [line]\n",
    "    else:\n",
    "        segment, rest = cut(line, distance)\n",
    "        return [segment] + recursive_cut(rest, distance)"
   ]
  },
  {
   "cell_type": "code",
   "execution_count": null,
   "metadata": {},
   "outputs": [],
   "source": [
    "# now we recursive_cut streets\n",
    "brighton_streets_segmented = brighton_streets.copy()\n",
    "brighton_streets_segmented['segments'] = brighton_streets.geometry.map(lambda x : recursive_cut(x,CUT_LENGTH))\n",
    "\n",
    "df_temp = pd.DataFrame(brighton_streets_segmented)\n",
    "df_temp = df_temp.explode('segments').drop(columns=['geometry'])\n",
    "brighton_streets_segmented = gpd.GeoDataFrame(df_temp, geometry = 'segments')\n",
    "brighton_streets_segmented.crs = EPSG_4326"
   ]
  },
  {
   "cell_type": "code",
   "execution_count": null,
   "metadata": {},
   "outputs": [],
   "source": [
    "brighton_streets_segmented.length"
   ]
  },
  {
   "cell_type": "code",
   "execution_count": null,
   "metadata": {},
   "outputs": [],
   "source": [
    "# get midpoints to figure out where to take photo\n",
    "def midpoint(linestring):\n",
    "    (x1,y1) = linestring_start(linestring)\n",
    "    (x2,y2) = linestring_end(linestring)\n",
    "    x_mid = (x2 + x1)/2\n",
    "    y_mid = (y2 + y1)/2\n",
    "    return Point(x_mid, y_mid)\n",
    "\n",
    "brighton_streets_segmented['midpoints'] = brighton_streets_segmented.geometry.map(midpoint)"
   ]
  },
  {
   "cell_type": "code",
   "execution_count": null,
   "metadata": {},
   "outputs": [],
   "source": [
    "list(brighton_streets_segmented.head(1)['segments'].values[0].coords)"
   ]
  },
  {
   "cell_type": "markdown",
   "metadata": {},
   "source": [
    "Plan:\n",
    "* feed each row to selenium\n",
    "* * two pics, left and right\n",
    "* * cut off for 'short' ones -- can add 'length_4269' to see where\n",
    "* project little lines out and clip/delete bad sidewalks"
   ]
  },
  {
   "cell_type": "code",
   "execution_count": null,
   "metadata": {},
   "outputs": [],
   "source": [
    "brighton_crosswalks = gpd.read_file(\"brighton_crosswalks/brighton_crosswalks.shp\")"
   ]
  },
  {
   "cell_type": "code",
   "execution_count": null,
   "metadata": {
    "scrolled": true
   },
   "outputs": [],
   "source": [
    "brighton_crosswalks"
   ]
  },
  {
   "cell_type": "code",
   "execution_count": null,
   "metadata": {},
   "outputs": [],
   "source": [
    "!which python"
   ]
  },
  {
   "cell_type": "code",
   "execution_count": null,
   "metadata": {},
   "outputs": [],
   "source": []
  }
 ],
 "metadata": {
  "kernelspec": {
   "display_name": "Python 3",
   "language": "python",
   "name": "python3"
  },
  "language_info": {
   "codemirror_mode": {
    "name": "ipython",
    "version": 3
   },
   "file_extension": ".py",
   "mimetype": "text/x-python",
   "name": "python",
   "nbconvert_exporter": "python",
   "pygments_lexer": "ipython3",
   "version": "3.7.6"
  }
 },
 "nbformat": 4,
 "nbformat_minor": 4
}
