{
 "cells": [
  {
   "cell_type": "code",
   "execution_count": 1,
   "metadata": {},
   "outputs": [],
   "source": [
    "import geopandas as gpd\n",
    "import pandas as pd"
   ]
  },
  {
   "cell_type": "code",
   "execution_count": 2,
   "metadata": {},
   "outputs": [],
   "source": [
    "brighton_points = gpd.read_file(\"../insight_project_dc/brighton/brighton_points.shp\")\n",
    "brighton_sidewalks = gpd.read_file(\"../insight_project_dc/brighton/brighton_sidewalks/brighton_sidewalks.shp\")\n",
    "brighton_crosswalks = gpd.read_file(\"../insight_project_dc/brighton/brighton_crosswalks/brighton_crosswalks.shp\")"
   ]
  },
  {
   "cell_type": "code",
   "execution_count": 3,
   "metadata": {},
   "outputs": [],
   "source": [
    "EPSG_4326 = brighton_crosswalks.crs\n",
    "EPSG_26919 = brighton_sidewalks.crs"
   ]
  },
  {
   "cell_type": "code",
   "execution_count": 4,
   "metadata": {},
   "outputs": [],
   "source": [
    "brighton_sidewalks = brighton_sidewalks.to_crs(EPSG_4326)"
   ]
  },
  {
   "cell_type": "code",
   "execution_count": null,
   "metadata": {},
   "outputs": [],
   "source": [
    "brighton_sidewalks['SW'] = True\n",
    "brighton_sidewalks['CW'] = False\n",
    "brighton_crosswalks['CW'] = True\n",
    "brighton_crosswalks['SW'] = False\n",
    "brighton_sidewalks_crosswalks = brighton_sidewalks.append(brighton_crosswalks, sort=False)\n"
   ]
  },
  {
   "cell_type": "code",
   "execution_count": null,
   "metadata": {},
   "outputs": [],
   "source": [
    "coord_list = list(brighton_sidewalks_crosswalks.geometry.map(lambda x : list(x.coords)))"
   ]
  },
  {
   "cell_type": "code",
   "execution_count": null,
   "metadata": {},
   "outputs": [],
   "source": [
    "from shapely.geometry import Point\n",
    "nodes = list(map(lambda p : Point(p[0],p[1]), [p for ps in coord_list for p in ps]))"
   ]
  },
  {
   "cell_type": "code",
   "execution_count": null,
   "metadata": {},
   "outputs": [],
   "source": [
    "import networkx as nx\n",
    "import momepy as my\n",
    "import osmnx as ox"
   ]
  },
  {
   "cell_type": "code",
   "execution_count": null,
   "metadata": {},
   "outputs": [],
   "source": [
    "brighton = gpd.read_file(\"/home/adam/brighton.shp\")\n",
    "brighton_poly = brighton.to_crs(EPSG_4326).geometry[0]"
   ]
  },
  {
   "cell_type": "code",
   "execution_count": null,
   "metadata": {},
   "outputs": [],
   "source": [
    "brighton_sw_points = gpd.GeoDataFrame([Point(point) for ls in list(brighton_sidewalks_crosswalks.geometry.map(lambda x : list(x.coords)).values) for point in ls ])"
   ]
  },
  {
   "cell_type": "code",
   "execution_count": null,
   "metadata": {},
   "outputs": [],
   "source": [
    "brighton_sw_points.geometry = brighton_sw_points[0]"
   ]
  },
  {
   "cell_type": "code",
   "execution_count": null,
   "metadata": {},
   "outputs": [],
   "source": [
    "brighton_sw_points['id'] = brighton_sw_points.index"
   ]
  },
  {
   "cell_type": "code",
   "execution_count": null,
   "metadata": {},
   "outputs": [],
   "source": [
    "coord_dict = dict(zip(list(brighton_sw_points.geometry.map(lambda x : tuple(x.coords)[0])), range(len(list(brighton_sw_points.geometry.map(lambda x : x.coords))))))"
   ]
  },
  {
   "cell_type": "code",
   "execution_count": null,
   "metadata": {},
   "outputs": [],
   "source": [
    "from shapely.coords import CoordinateSequence\n",
    "brighton_sidewalks_crosswalks['u'] = brighton_sidewalks_crosswalks.geometry.map(lambda x : coord_dict[x.coords[0]])\n",
    "brighton_sidewalks_crosswalks['v'] = brighton_sidewalks_crosswalks.geometry.map(lambda x : coord_dict[x.coords[1]])\n",
    "brighton_sidewalks_crosswalks['key'] = brighton_sidewalks_crosswalks['SW'].map(lambda x : int(x))"
   ]
  },
  {
   "cell_type": "code",
   "execution_count": null,
   "metadata": {},
   "outputs": [],
   "source": [
    "brighton_sidewalks_crosswalks.crs"
   ]
  },
  {
   "cell_type": "code",
   "execution_count": null,
   "metadata": {},
   "outputs": [],
   "source": [
    "brighton_sw_points['x'] = brighton_sw_points.geometry.map(lambda x : x.coords[0][0])\n",
    "brighton_sw_points['y'] = brighton_sw_points.geometry.map(lambda x : x.coords[0][1])"
   ]
  },
  {
   "cell_type": "code",
   "execution_count": null,
   "metadata": {},
   "outputs": [],
   "source": [
    "brighton_sw_points.crs = EPSG_4326\n",
    "brighton_sidewalks_crosswalks.crs = EPSG_4326"
   ]
  },
  {
   "cell_type": "code",
   "execution_count": null,
   "metadata": {
    "scrolled": true
   },
   "outputs": [],
   "source": [
    "brighton_G = ox.utils_graph.graph_from_gdfs(brighton_sw_points, brighton_sidewalks_crosswalks)\n",
    "streets_per_node = ox.utils_graph.count_streets_per_node(brighton_G_proj)\n",
    "null_nodes = [node for node, count in streets_per_node.items() if count == 0]\n",
    "dead_nodes = [node for node, count in streets_per_node.items() if count == 1]\n",
    "brighton_G.remove_nodes_from(null_nodes)\n",
    "len(brighton_G.nodes)"
   ]
  },
  {
   "cell_type": "code",
   "execution_count": null,
   "metadata": {},
   "outputs": [],
   "source": [
    "#brighton_G_u = ox.utils_graph.get_undirected(ox.utils_graph.graph_from_gdfs(brighton_sw_points, brighton_sidewalks_crosswalks))\n",
    "brighton_G_u = ox.utils_graph.get_undirected(brighton_G)\n",
    "print(len(brighton_G_u.nodes))\n",
    "#streets_per_node = ox.utils_graph.count_streets_per_node(brighton_G_u)\n",
    "#null_nodes = [node for node, count in streets_per_node.items() if count == 0]\n",
    "#dead_nodes = [node for node, count in streets_per_node.items() if count == 1]\n",
    "\n",
    "brighton_G_proj =ox.project_graph(brighton_G, to_crs = EPSG_26919)\n",
    "brighton_G_proj_u =  ox.utils_graph.get_undirected(brighton_G_proj)"
   ]
  },
  {
   "cell_type": "code",
   "execution_count": null,
   "metadata": {},
   "outputs": [],
   "source": [
    "import geocoder\n",
    "g1 = geocoder.osm(\"34 Claymoss Rd, Boston, MA\")\n",
    "g3 = geocoder.osm(\"90 monastery rd, Boston, MA\")"
   ]
  },
  {
   "cell_type": "code",
   "execution_count": null,
   "metadata": {},
   "outputs": [],
   "source": [
    "g1"
   ]
  },
  {
   "cell_type": "code",
   "execution_count": null,
   "metadata": {},
   "outputs": [],
   "source": [
    "p1 = ox.projection.project_geometry(Point(g1.json['lng'], g1.json['lat']), to_crs=EPSG_26919)[0].coords[0]\n",
    "p2 = ox.projection.project_geometry(Point(g3.json['lng'], g3.json['lat']), to_crs=EPSG_26919)[0].coords[0]"
   ]
  },
  {
   "cell_type": "code",
   "execution_count": null,
   "metadata": {},
   "outputs": [],
   "source": [
    "p1 = (g1.json['lng'], g1.json['lat'])\n",
    "p3 = (g3.json['lng'], g3.json['lat'])\n",
    "p1, p3"
   ]
  },
  {
   "cell_type": "code",
   "execution_count": null,
   "metadata": {},
   "outputs": [],
   "source": [
    "len(brighton_G_u.nodes)"
   ]
  },
  {
   "cell_type": "code",
   "execution_count": null,
   "metadata": {},
   "outputs": [],
   "source": [
    "n1 = ox.get_nearest_node(brighton_G_proj_u,p1, method='euclidean')\n",
    "n2 = ox.get_nearest_node(brighton_G_proj_u,p2, method='euclidean')\n",
    "n3 = ox.get_nearest_node(brighton_G_proj_u,p3, method='euclidean')\n",
    "n1, n2, n3"
   ]
  },
  {
   "cell_type": "code",
   "execution_count": null,
   "metadata": {},
   "outputs": [],
   "source": [
    "streets_per_node = ox.utils_graph.count_streets_per_node(brighton_G_proj)"
   ]
  },
  {
   "cell_type": "code",
   "execution_count": null,
   "metadata": {
    "scrolled": true
   },
   "outputs": [],
   "source": [
    "len(brighton_G_proj.nodes)"
   ]
  },
  {
   "cell_type": "code",
   "execution_count": null,
   "metadata": {},
   "outputs": [],
   "source": [
    "nx.shortest_path(brighton_G_proj_u, n1)"
   ]
  },
  {
   "cell_type": "code",
   "execution_count": null,
   "metadata": {},
   "outputs": [],
   "source": []
  },
  {
   "cell_type": "code",
   "execution_count": null,
   "metadata": {},
   "outputs": [],
   "source": [
    "pt = (G.nodes[610]['x'], G.nodes[610]['y'])"
   ]
  },
  {
   "cell_type": "code",
   "execution_count": null,
   "metadata": {},
   "outputs": [],
   "source": [
    "from shapely.ops import nearest_points\n",
    "G = brighton_G_proj_u\n",
    "def get_nearest_pt(ID):\n",
    "    pt = (G.nodes[ID]['x'], G.nodes[ID]['y'])\n",
    "    near_edge_id = ox.get_nearest_edge(G, pt, return_geom=True)\n",
    "    return nearest_points(near_edge_id[3], Point(pt))[0]\n"
   ]
  },
  {
   "cell_type": "code",
   "execution_count": null,
   "metadata": {},
   "outputs": [],
   "source": [
    "streets_per_node = ox.utils_graph.count_streets_per_node(brighton_G_proj)\n",
    "#null_nodes = [node for node, count in streets_per_node.items() if count == 0]\n",
    "dead_nodes = [node for node, count in streets_per_node.items() if count == 1]\n",
    "gdf_edges = ox.utils_graph.graph_to_gdfs(G, nodes=False, fill_edge_geometry=True)\n",
    "gdf_edges.columns\n"
   ]
  },
  {
   "cell_type": "code",
   "execution_count": null,
   "metadata": {},
   "outputs": [],
   "source": [
    "from shapely.ops import split\n",
    "for node in dead_nodes:\n",
    "    pt = (G.nodes[node]['y'], G.nodes[node]['x'])\n",
    "    u,v,key,geom,dist = ox.get_nearest_edge(G, pt, return_dist=True,return_geom=True)\n",
    "    if dist < 0.3:\n",
    "        new_geom = split(geom,get_nearest_pt(node))\n",
    "        split_edge_id = list(gdf_edges[gdf_edges['geometry']==geom].index)[0]\n",
    "        split_edge = gdf_edges.iloc[split_edge_id]['geometry']\n",
    "        gdf_edges.iloc[split_edge_id]['geometry'] = new_geom[0]\n",
    "        new_row = split_edge\n",
    "        new_row.geometry = new_geom[1]\n",
    "        gdf_edges.append(gpd.GeoDataFrame(new_row))\n",
    "    else:\n",
    "        print(dist)    "
   ]
  },
  {
   "cell_type": "code",
   "execution_count": null,
   "metadata": {},
   "outputs": [],
   "source": [
    "list(brighton_G_proj_u.edges)"
   ]
  },
  {
   "cell_type": "code",
   "execution_count": null,
   "metadata": {},
   "outputs": [],
   "source": []
  }
 ],
 "metadata": {
  "kernelspec": {
   "display_name": "Python 3",
   "language": "python",
   "name": "python3"
  },
  "language_info": {
   "codemirror_mode": {
    "name": "ipython",
    "version": 3
   },
   "file_extension": ".py",
   "mimetype": "text/x-python",
   "name": "python",
   "nbconvert_exporter": "python",
   "pygments_lexer": "ipython3",
   "version": "3.7.6"
  }
 },
 "nbformat": 4,
 "nbformat_minor": 4
}
