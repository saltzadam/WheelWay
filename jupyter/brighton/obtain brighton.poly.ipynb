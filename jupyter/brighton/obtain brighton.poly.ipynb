{
 "cells": [
  {
   "cell_type": "code",
   "execution_count": null,
   "metadata": {},
   "outputs": [],
   "source": [
    "brighton = gpd.read_file(\"/home/adam/brighton\")\n",
    "brighton_poly = brighton.to_crs(EPSG_4326).geometry[0]\n",
    "for tup in list(brighton_poly.exterior.coords):\n",
    "    print (str(tup[0]) + \" \" + str(tup[1]))"
   ]
  }
 ],
 "metadata": {
  "kernelspec": {
   "display_name": "Python 3",
   "language": "python",
   "name": "python3"
  },
  "language_info": {
   "codemirror_mode": {
    "name": "ipython",
    "version": 3
   },
   "file_extension": ".py",
   "mimetype": "text/x-python",
   "name": "python",
   "nbconvert_exporter": "python",
   "pygments_lexer": "ipython3",
   "version": "3.7.6"
  }
 },
 "nbformat": 4,
 "nbformat_minor": 4
}
