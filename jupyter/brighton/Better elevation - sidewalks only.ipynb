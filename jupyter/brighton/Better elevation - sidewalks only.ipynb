{
 "cells": [
  {
   "cell_type": "code",
   "execution_count": 1,
   "metadata": {},
   "outputs": [],
   "source": [
    "import geopandas as gpd\n",
    "import pandas as pd\n",
    "from shapely.geometry import Point, LineString, MultiLineString\n",
    "from scipy import ndimage, array, interpolate\n",
    "from matplotlib import pyplot as plt\n",
    "import numpy as np"
   ]
  },
  {
   "cell_type": "code",
   "execution_count": 2,
   "metadata": {},
   "outputs": [
    {
     "data": {
      "text/plain": [
       "<Projected CRS: EPSG:26919>\n",
       "Name: NAD83 / UTM zone 19N\n",
       "Axis Info [cartesian]:\n",
       "- E[east]: Easting (metre)\n",
       "- N[north]: Northing (metre)\n",
       "Area of Use:\n",
       "- name: North America - 72°W to 66°W and NAD83 by country\n",
       "- bounds: (-72.0, 14.92, -66.0, 84.0)\n",
       "Coordinate Operation:\n",
       "- name: UTM zone 19N\n",
       "- method: Transverse Mercator\n",
       "Datum: North American Datum 1983\n",
       "- Ellipsoid: GRS 1980\n",
       "- Prime Meridian: Greenwich"
      ]
     },
     "execution_count": 2,
     "metadata": {},
     "output_type": "execute_result"
    }
   ],
   "source": [
    "\n",
    "# the node names here are irrelevant\n",
    "#brighton_streets = gpd.read_file(\"../../data/brighton/brighton_streets.shp\").to_crs(\"EPSG:26919\")\n",
    "brighton_sidewalks = gpd.read_file(\"../../data/brighton/brighton_sidewalks_diditwork.shp\")\n",
    "\n",
    "crs_global = \"EPSG:4326\"\n",
    "crs_local = \"EPSG:26919\"\n",
    "brighton_sidewalks.crs"
   ]
  },
  {
   "cell_type": "code",
   "execution_count": 3,
   "metadata": {},
   "outputs": [],
   "source": [
    "def round_pt(pt):\n",
    "    a, b = pt\n",
    "    a = round(a,1)\n",
    "    b = round(b,1)\n",
    "    return Point(a,b)\n",
    "\n",
    "def round_edge(edge):\n",
    "    if type(edge) == MultiLineString:\n",
    "        edges = edge.geoms\n",
    "        return MultiLineString(list(map(round_edge, edges)))\n",
    "    else:\n",
    "        return LineString(map(round_pt, list(edge.coords)))\n",
    "\n",
    "from shapely.ops import linemerge\n",
    "\n",
    "def safe_linemerge(line):\n",
    "    if type(line) == MultiLineString:\n",
    "        return linemerge(line.geoms)\n",
    "    else:\n",
    "        return line\n",
    "\n",
    "def safe_pre_explode(line):\n",
    "    if type(line) == MultiLineString:\n",
    "        return line.geoms\n",
    "    else:\n",
    "        return line\n",
    "    \n",
    "def safe_explode(gdf):\n",
    "    rows = []\n",
    "    old_rows =[]\n",
    "    for i, row in gdf.iterrows():\n",
    "        if type(row['geometry']) == MultiLineString:\n",
    "            mline = row.geometry\n",
    "            for line in mline:\n",
    "                new_row = row\n",
    "                new_row.geometry = line\n",
    "                rows.append(new_row)\n",
    "                old_rows.append(i)\n",
    "            \n",
    "    new_gdf = gpd.GeoDataFrame(rows)\n",
    "    new_gdf.crs = \"EPSG:26919\"\n",
    "    gdf = gdf.drop(old_rows)\n",
    "    gdf = gdf.append(new_gdf)\n",
    "    return gdf\n",
    " "
   ]
  },
  {
   "cell_type": "code",
   "execution_count": 4,
   "metadata": {},
   "outputs": [],
   "source": [
    "brighton_sidewalks.geometry = brighton_sidewalks.geometry.map(round_edge)\n",
    "brighton_sidewalks = safe_explode(brighton_sidewalks).reset_index(drop=True)"
   ]
  },
  {
   "cell_type": "code",
   "execution_count": 5,
   "metadata": {},
   "outputs": [],
   "source": [
    "# Thank you Sean Gilles https://gist.github.com/sgillies/465156#file_cut.py\n",
    "from shapely.geometry import LineString, Point\n",
    "from copy import deepcopy\n",
    "def cut(line, distance):\n",
    "    # Cuts a line in two at a distance from its starting point\n",
    "    if distance <= 0.0 or distance >= line.length:\n",
    "        return [LineString(line)]\n",
    "    coords = list(line.coords)\n",
    "    for i, p in enumerate(coords):\n",
    "        pd = line.project(Point(p))\n",
    "        if pd == distance:\n",
    "            return [\n",
    "                LineString(coords[:i+1]),\n",
    "                LineString(coords[i:])]\n",
    "        if pd > distance:\n",
    "            cp = line.interpolate(distance)\n",
    "            return [\n",
    "                LineString(coords[:i] + [(cp.x, cp.y)]),\n",
    "                LineString([(cp.x, cp.y)] + coords[i:])]\n",
    "        \n",
    "\n",
    "# here's me\n",
    "def recursive_cut(line, distance):\n",
    "    if [line] == cut(line, distance):\n",
    "        return [line]\n",
    "    else:\n",
    "        segment, rest = cut(line, distance)\n",
    "        return [segment] + recursive_cut(rest, distance)\n",
    "    \n",
    "           \n",
    "def list_explode(gdf):\n",
    "    rows = []\n",
    "    old_rows = []\n",
    "    for i, row in gdf.iterrows():\n",
    "        mline = row['cut_geometry']\n",
    "        new_rows = [deepcopy(row) for i in range(len(row['cut_geometry']))]\n",
    "        for n, inline in enumerate(mline):\n",
    "            new_rows[n]['geometry'] = inline\n",
    "            old_rows.append(i)\n",
    "        rows.extend(new_rows)\n",
    "    new_gdf = gpd.GeoDataFrame(rows).reset_index(drop=True)\n",
    "    new_gdf.crs = \"EPSG:26919\"\n",
    "    return new_gdf\n"
   ]
  },
  {
   "cell_type": "code",
   "execution_count": 6,
   "metadata": {},
   "outputs": [],
   "source": [
    "import rasterio\n",
    "dataset = rasterio.open(\"../../data/brighton/elevation.tif\")"
   ]
  },
  {
   "cell_type": "code",
   "execution_count": 7,
   "metadata": {},
   "outputs": [
    {
     "data": {
      "text/plain": [
       "(CRS.from_epsg(4326),\n",
       " BoundingBox(left=-72.00013888888888, bottom=41.99986111111111, right=-70.9998611111111, top=43.000138888888884))"
      ]
     },
     "execution_count": 7,
     "metadata": {},
     "output_type": "execute_result"
    }
   ],
   "source": [
    "dataset.crs, dataset.bounds #hell yeah"
   ]
  },
  {
   "cell_type": "code",
   "execution_count": 8,
   "metadata": {},
   "outputs": [],
   "source": [
    "# get the first \"band\"\n",
    "# this is a numpy array\n",
    "# now dataset.index(lat, lon) gives the array index for that point\n",
    "band1 = dataset.read(1)\n"
   ]
  },
  {
   "cell_type": "code",
   "execution_count": 9,
   "metadata": {},
   "outputs": [],
   "source": [
    "# need to flip lngs because the top of the image has greater lng\n",
    "lats = np.arange(dataset.bounds.left, dataset.bounds.right, (dataset.bounds.right - dataset.bounds.left)/3601)\n",
    "lngs = np.arange( dataset.bounds.top, dataset.bounds.bottom, -(dataset.bounds.top - dataset.bounds.bottom)/3601)\n",
    "\n",
    "fn = band1 #array([band1[x,y] for x in range(3601) for y in range(3601)])\n",
    "\n",
    "new_x = np.arange(dataset.bounds.left, dataset.bounds.right, (dataset.bounds.right - dataset.bounds.left)/360100)\n",
    "new_y = np.arange(dataset.bounds.bottom, dataset.bounds.top, (dataset.bounds.top - dataset.bounds.bottom)/360100)\n",
    "\n",
    "# takes lat lng and gives interpolated height\n",
    "interp_elev = interpolate.interp2d(lats, lngs, band1, kind='cubic')"
   ]
  },
  {
   "cell_type": "code",
   "execution_count": 10,
   "metadata": {},
   "outputs": [
    {
     "data": {
      "text/plain": [
       "<function matplotlib.pyplot.show(*args, **kw)>"
      ]
     },
     "execution_count": 10,
     "metadata": {},
     "output_type": "execute_result"
    },
    {
     "data": {
      "image/png": "[encoded data removed]",
      "text/plain": [
       "<Figure size 432x288 with 1 Axes>"
      ]
     },
     "metadata": {
      "needs_background": "light"
     },
     "output_type": "display_data"
    }
   ],
   "source": [
    "interp_elev(-72, 42), band1[dataset.index(-72, 42)]\n",
    "plt.imshow(band1[0:1000, 0:1000])\n",
    "plt.show\n",
    "# compare with interp"
   ]
  },
  {
   "cell_type": "code",
   "execution_count": 11,
   "metadata": {},
   "outputs": [],
   "source": [
    "def get_elev(lat, lon):\n",
    "    return interp_elev(lat,lon)[0]"
   ]
  },
  {
   "cell_type": "code",
   "execution_count": 12,
   "metadata": {},
   "outputs": [],
   "source": [
    "brighton_sidewalks['cut_geometry'] = brighton_sidewalks.geometry.map(lambda x : recursive_cut(x, 2))\n",
    "brighton_sidewalks = list_explode(brighton_sidewalks)\n",
    "brighton_sidewalks = brighton_sidewalks.to_crs(crs_global)\n",
    "\n"
   ]
  },
  {
   "cell_type": "code",
   "execution_count": 13,
   "metadata": {},
   "outputs": [],
   "source": [
    "# get elevations\n",
    "\n",
    "brighton_sidewalks['elevation_0'] = brighton_sidewalks.geometry.map(lambda x : get_elev(x.coords[0][0], x.coords[0][1]))\n",
    "brighton_sidewalks['elevation_1'] = brighton_sidewalks.geometry.map(lambda x : get_elev(x.coords[1][0], x.coords[1][1]))"
   ]
  },
  {
   "cell_type": "code",
   "execution_count": 14,
   "metadata": {},
   "outputs": [],
   "source": [
    "def get_slope(row):\n",
    "    rise = row['elevation_1'] - row['elevation_0']\n",
    "    run = row['length_m']\n",
    "    return rise/run"
   ]
  },
  {
   "cell_type": "code",
   "execution_count": 15,
   "metadata": {
    "scrolled": true
   },
   "outputs": [],
   "source": [
    "from math import atan, pi\n",
    "#brighton_sidewalks.drop(inplace=True, columns=['cut_geometry'])\n",
    "brighton_sidewalks = brighton_sidewalks.to_crs(crs_local)\n",
    "brighton_sidewalks['length_m'] = brighton_sidewalks.length\n",
    "brighton_sidewalks = brighton_sidewalks[brighton_sidewalks.length != 0]\n",
    "brighton_sidewalks['slope'] = brighton_sidewalks.apply(get_slope, axis=1)\n",
    "brighton_sidewalks['angle_deg'] = brighton_sidewalks['slope'].map(lambda x : atan(x) * 360 / (2 * pi))"
   ]
  },
  {
   "cell_type": "code",
   "execution_count": 16,
   "metadata": {},
   "outputs": [
    {
     "data": {
      "text/plain": [
       "0.1440923023538257"
      ]
     },
     "execution_count": 16,
     "metadata": {},
     "output_type": "execute_result"
    }
   ],
   "source": [
    "def is_steep(row):\n",
    "    return (row['angle_deg'] > 5) or (row['angle_deg'] < -5)\n",
    "\n",
    "len(brighton_sidewalks[(brighton_sidewalks['angle_deg'] > 5) | (brighton_sidewalks['angle_deg'] < -5)])/len(brighton_sidewalks)"
   ]
  },
  {
   "cell_type": "code",
   "execution_count": 17,
   "metadata": {},
   "outputs": [],
   "source": [
    "brighton_sidewalks.drop(inplace=True, columns=['elevation_0','elevation_1','slope','cut_geometry'])\n",
    "brighton_sidewalks = brighton_sidewalks.to_crs(crs_global)"
   ]
  },
  {
   "cell_type": "code",
   "execution_count": 18,
   "metadata": {},
   "outputs": [],
   "source": [
    "import osmnx as ox\n",
    "import networkx as nx"
   ]
  },
  {
   "cell_type": "code",
   "execution_count": 19,
   "metadata": {},
   "outputs": [],
   "source": [
    "brighton_sidewalks = brighton_sidewalks.to_crs(crs_local)\n",
    "brighton_sidewalks.geometry = brighton_sidewalks.geometry.map(round_edge)"
   ]
  },
  {
   "cell_type": "code",
   "execution_count": 20,
   "metadata": {},
   "outputs": [],
   "source": [
    "# add routing\n",
    "points = list(map(Point, (list(set([point for ls in list(brighton_sidewalks.geometry.map(lambda x : list(x.coords)).values) for point in ls])))))\n",
    "brighton_sw_points = gpd.GeoDataFrame(points)\n",
    "brighton_sw_points.geometry = brighton_sw_points[0]\n",
    "len_sw = len(list(brighton_sw_points.geometry.map(lambda x : x.coords)))\n",
    "sw_coord_dict = dict(list(set(zip(list(brighton_sw_points.geometry.map(lambda x : tuple(x.coords)[0])), range(len_sw)))))\n",
    "sw_coords = sw_coord_dict.keys()\n",
    "\n",
    "from shapely.coords import CoordinateSequence\n",
    "brighton_sidewalks['u'] = brighton_sidewalks.geometry.map(lambda x : sw_coord_dict[x.coords[0]])\n",
    "brighton_sidewalks['v'] = brighton_sidewalks.geometry.map(lambda x : sw_coord_dict[x.coords[-1]])\n",
    "brighton_sidewalks['key'] = 0\n",
    "\n",
    "brighton_sw_points['id'] = brighton_sw_points.geometry.map(lambda x : sw_coord_dict[x.coords[0]])\n",
    "brighton_sw_points['osmid'] = brighton_sw_points.id\n",
    "brighton_sidewalks['osmid'] = brighton_sidewalks.index.map(lambda x : 1000000000 * x)"
   ]
  },
  {
   "cell_type": "code",
   "execution_count": 21,
   "metadata": {},
   "outputs": [],
   "source": [
    "brighton_sidewalks = brighton_sidewalks.to_crs(crs_global)\n",
    "brighton_sw_points.crs = crs_local\n",
    "\n",
    "brighton_sw_points = brighton_sw_points.to_crs(crs_global)\n",
    "brighton_sw_points['x'] = brighton_sw_points.geometry.map(lambda x : x.coords[0][1])\n",
    "brighton_sw_points['y'] = brighton_sw_points.geometry.map(lambda x : x.coords[0][0])"
   ]
  },
  {
   "cell_type": "code",
   "execution_count": 22,
   "metadata": {},
   "outputs": [],
   "source": [
    "def get_angle_class(angle):\n",
    "    angle = abs(angle)\n",
    "    if angle < 1:\n",
    "        return 0\n",
    "    elif angle < 2:\n",
    "        return 1\n",
    "    elif angle < 3:\n",
    "        return 2\n",
    "    elif angle < 4:\n",
    "        return 3\n",
    "    else:\n",
    "        return 4\n",
    "brighton_sidewalks['angle_class'] = brighton_sidewalks['angle_deg'].map(get_angle_class)"
   ]
  },
  {
   "cell_type": "code",
   "execution_count": 23,
   "metadata": {},
   "outputs": [],
   "source": [
    "import pickle as pkl\n",
    "\n",
    "with open('../../data/brighton/brighton_sidewalks_only.pkl', 'wb') as pklfile:\n",
    "    pkl.dump(brighton_sidewalks, pklfile)"
   ]
  },
  {
   "cell_type": "code",
   "execution_count": 24,
   "metadata": {},
   "outputs": [],
   "source": [
    "def union_graph(points_gdfs, edges_gdfs, crs=None):\n",
    "    points_df = pd.concat([pd.DataFrame(gdf) for gdf in points_gdfs], ignore_index=True, sort=False)\n",
    "    edges_df = pd.concat([pd.DataFrame(gdf) for gdf in edges_gdfs], ignore_index=True, sort=False)\n",
    "    \n",
    "    if crs:\n",
    "        points_gdf = gpd.GeoDataFrame(points_df, crs = points_gdfs[0].crs).to_crs(crs)\n",
    "        edges_gdf = gpd.GeoDataFrame(edges_df, crs = edges_gdfs[0].crs).to_crs(crs)\n",
    "    else:\n",
    "        points_gdf = gpd.GeoDataFrame(points_df, crs = points_gdfs[0].crs)\n",
    "        edges_gdf = gpd.GeoDataFrame(edges_df, crs = edges_gdfs[0].crs)\n",
    "    return ox.utils_graph.graph_from_gdfs(points_gdf, edges_gdf)\n",
    "\n",
    "\n",
    "brighton_G = union_graph([brighton_sw_points], [brighton_sidewalks])\n",
    "#brighton_G = ox.utils_graph.get_largest_component(brighton_G,strongly=True)"
   ]
  },
  {
   "cell_type": "code",
   "execution_count": 25,
   "metadata": {},
   "outputs": [],
   "source": [
    "import pickle as pkl\n",
    "with open(\"../../data/brighton/brighton_graph_sidewalks_only.pkl\", 'wb') as pklfile:\n",
    "    pkl.dump(brighton_G, pklfile)"
   ]
  },
  {
   "cell_type": "code",
   "execution_count": null,
   "metadata": {},
   "outputs": [],
   "source": [
    "import geocoder\n",
    "g1 = geocoder.osm(\"32 Claymoss Rd, Boston, MA\")\n",
    "g2 = geocoder.osm(\"371 Washington St, Brighton, MA 02135\")\n",
    "g3 = geocoder.osm(\"90 monastery rd, Boston, MA\")\n",
    "p1 = Point(g1.json['lng'], g1.json['lat']).coords[0]\n",
    "p2 = Point(g2.json['lng'], g2.json['lat']).coords[0]\n",
    "p3 = Point(g3.json['lng'], g3.json['lat']).coords[0]\n",
    "n1, d1 = ox.get_nearest_node(brighton_G, p1, method='haversine', return_dist=True)\n",
    "n2, d2 = ox.get_nearest_node(brighton_G, p2, method='haversine', return_dist=True)\n",
    "n3, d3 = ox.get_nearest_node(brighton_G, p3, method='haversine', return_dist=True)\n",
    "p1, n1, d1, p2, n2, d2"
   ]
  },
  {
   "cell_type": "code",
   "execution_count": null,
   "metadata": {},
   "outputs": [],
   "source": [
    "route = nx.shortest_path(brighton_G, n1, n2)\n",
    "map1 = ox.plot_route_folium(brighton_G, route, route_width = 2)\n"
   ]
  },
  {
   "cell_type": "code",
   "execution_count": null,
   "metadata": {},
   "outputs": [],
   "source": [
    "print(display(map1))"
   ]
  },
  {
   "cell_type": "code",
   "execution_count": null,
   "metadata": {},
   "outputs": [],
   "source": [
    "map1.save('map.html')"
   ]
  },
  {
   "cell_type": "code",
   "execution_count": null,
   "metadata": {},
   "outputs": [],
   "source": []
  }
 ],
 "metadata": {
  "kernelspec": {
   "display_name": "Python 3",
   "language": "python",
   "name": "python3"
  },
  "language_info": {
   "codemirror_mode": {
    "name": "ipython",
    "version": 3
   },
   "file_extension": ".py",
   "mimetype": "text/x-python",
   "name": "python",
   "nbconvert_exporter": "python",
   "pygments_lexer": "ipython3",
   "version": "3.7.6"
  }
 },
 "nbformat": 4,
 "nbformat_minor": 4
}
