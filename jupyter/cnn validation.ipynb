{
 "cells": [
  {
   "cell_type": "code",
   "execution_count": 1,
   "metadata": {},
   "outputs": [],
   "source": [
    "import pandas as pd"
   ]
  },
  {
   "cell_type": "code",
   "execution_count": 2,
   "metadata": {},
   "outputs": [],
   "source": [
    "polygon_pt_counts = pd.Series([1840, 1618, 1646, 1464, 1658, 1564, 1600, 1814, 1652, 1592, 1748, 1754, 1636, 1730,\n",
    "                              1650, 1666, 1752, 2158, 1992, 1758, 1798])"
   ]
  },
  {
   "cell_type": "code",
   "execution_count": 4,
   "metadata": {},
   "outputs": [
    {
     "data": {
      "text/plain": [
       "count      21.000000\n",
       "mean     1718.571429\n",
       "std       151.573273\n",
       "min      1464.000000\n",
       "25%      1636.000000\n",
       "50%      1666.000000\n",
       "75%      1758.000000\n",
       "max      2158.000000\n",
       "dtype: float64"
      ]
     },
     "execution_count": 4,
     "metadata": {},
     "output_type": "execute_result"
    }
   ],
   "source": [
    "polygon_pt_counts.describe()"
   ]
  },
  {
   "cell_type": "code",
   "execution_count": 5,
   "metadata": {},
   "outputs": [],
   "source": [
    "import csv"
   ]
  },
  {
   "cell_type": "code",
   "execution_count": 8,
   "metadata": {},
   "outputs": [],
   "source": [
    "points_divided_df = pd.read_csv(\"../points_in_polys_validation.csv\")"
   ]
  },
  {
   "cell_type": "code",
   "execution_count": 21,
   "metadata": {},
   "outputs": [],
   "source": [
    "# PNTCNT is a unique identifier!\n",
    "points_in_polys = {poly: points_divided_df[points_divided_df['PNTCNT'] == poly] \n",
    "                  for poly in points_divided_df['PNTCNT'].unique()}"
   ]
  },
  {
   "cell_type": "code",
   "execution_count": 28,
   "metadata": {},
   "outputs": [],
   "source": [
    "samples = {poly: points_in_polys[poly].sample(n=10) for poly in points_in_polys}"
   ]
  },
  {
   "cell_type": "code",
   "execution_count": 35,
   "metadata": {},
   "outputs": [],
   "source": [
    "samples = {poly: samples[poly][['x','y']] for poly in points_in_polys}"
   ]
  },
  {
   "cell_type": "code",
   "execution_count": 43,
   "metadata": {},
   "outputs": [
    {
     "data": {
      "text/plain": [
       "42.3516856583"
      ]
     },
     "execution_count": 43,
     "metadata": {},
     "output_type": "execute_result"
    }
   ],
   "source": [
    "samples[1600]['y'][1229]"
   ]
  },
  {
   "cell_type": "code",
   "execution_count": 56,
   "metadata": {},
   "outputs": [
    {
     "name": "stdout",
     "output_type": "stream",
     "text": [
      "x   -71.165279\n",
      "y    42.350975\n",
      "Name: 2595, dtype: float64\n",
      "x   -71.161673\n",
      "y    42.353339\n",
      "Name: 4110, dtype: float64\n",
      "x   -71.158853\n",
      "y    42.353638\n",
      "Name: 7112, dtype: float64\n",
      "x   -71.158926\n",
      "y    42.354190\n",
      "Name: 7016, dtype: float64\n",
      "x   -71.151084\n",
      "y    42.340326\n",
      "Name: 8617, dtype: float64\n",
      "x   -71.150516\n",
      "y    42.353896\n",
      "Name: 14109, dtype: float64\n",
      "x   -71.150548\n",
      "y    42.353844\n",
      "Name: 14305, dtype: float64\n",
      "x   -71.147010\n",
      "y    42.354358\n",
      "Name: 21109, dtype: float64\n",
      "x   -71.147770\n",
      "y    42.354036\n",
      "Name: 20806, dtype: float64\n"
     ]
    }
   ],
   "source": [
    "import glob\n",
    "import shutil\n",
    "import random\n",
    "for poly in samples:\n",
    "    for _, sample in samples[poly].iterrows():\n",
    "        # want to get rid of rounding error when these were truncated\n",
    "        # but leave enough digits to find the photo\n",
    "        for i in range(10):\n",
    "            y = str(sample['y'])[:-i]\n",
    "            matches = glob.glob(\"../data/streetphotos/42/\" + y + \"*\")\n",
    "            if len(matches) != 2:\n",
    "                continue\n",
    "            else:\n",
    "                break\n",
    "\n",
    "        if len(matches) != 2:\n",
    "            print(sample)\n",
    "            continue\n",
    "        # choose left or right at random\n",
    "        \n",
    "        match = random.choice(matches)\n",
    "        match_name = match.split('/')[-1]\n",
    "        shutil.copyfile(match, \"../data/streetphotos/validation_sample/\" + match_name)\n",
    "        \n",
    "        "
   ]
  },
  {
   "cell_type": "code",
   "execution_count": 85,
   "metadata": {},
   "outputs": [],
   "source": [
    "validation_df = pd.read_csv(\"../data/streetphotos/validation_sample/validation_hand.csv\", names=[\"label\"])"
   ]
  },
  {
   "cell_type": "code",
   "execution_count": 86,
   "metadata": {},
   "outputs": [
    {
     "data": {
      "text/html": [
       "<div>\n",
       "<style scoped>\n",
       "    .dataframe tbody tr th:only-of-type {\n",
       "        vertical-align: middle;\n",
       "    }\n",
       "\n",
       "    .dataframe tbody tr th {\n",
       "        vertical-align: top;\n",
       "    }\n",
       "\n",
       "    .dataframe thead th {\n",
       "        text-align: right;\n",
       "    }\n",
       "</style>\n",
       "<table border=\"1\" class=\"dataframe\">\n",
       "  <thead>\n",
       "    <tr style=\"text-align: right;\">\n",
       "      <th></th>\n",
       "      <th>label</th>\n",
       "    </tr>\n",
       "  </thead>\n",
       "  <tbody>\n",
       "    <tr>\n",
       "      <th>count</th>\n",
       "      <td>200</td>\n",
       "    </tr>\n",
       "    <tr>\n",
       "      <th>unique</th>\n",
       "      <td>4</td>\n",
       "    </tr>\n",
       "    <tr>\n",
       "      <th>top</th>\n",
       "      <td>nn</td>\n",
       "    </tr>\n",
       "    <tr>\n",
       "      <th>freq</th>\n",
       "      <td>85</td>\n",
       "    </tr>\n",
       "  </tbody>\n",
       "</table>\n",
       "</div>"
      ],
      "text/plain": [
       "       label\n",
       "count    200\n",
       "unique     4\n",
       "top       nn\n",
       "freq      85"
      ]
     },
     "execution_count": 86,
     "metadata": {},
     "output_type": "execute_result"
    }
   ],
   "source": [
    "validation_df.describe()"
   ]
  },
  {
   "cell_type": "code",
   "execution_count": 62,
   "metadata": {},
   "outputs": [],
   "source": [
    "import os.path"
   ]
  },
  {
   "cell_type": "code",
   "execution_count": 74,
   "metadata": {},
   "outputs": [
    {
     "data": {
      "text/plain": [
       "['42.33336888249258,-71.15434008381818_left.jpg',\n",
       " '42.33356217596173,-71.1664137688052_left.jpg',\n",
       " '42.33381764166408,-71.16411340150124_right.jpg',\n",
       " '42.33393767008582,-71.15408701685091_right.jpg',\n",
       " '42.33400945441064,-71.16224555852912_right.jpg',\n",
       " '42.336201581096645,-71.15045532729124_left.jpg',\n",
       " '42.33627987039613,-71.15065697630948_right.jpg',\n",
       " '42.33634223370323,-71.14918461293868_left.jpg',\n",
       " '42.33643862627871,-71.16254879451807_right.jpg',\n",
       " '42.33755744991838,-71.15271796149143_left.jpg',\n",
       " '42.33763646510774,-71.16432911960659_left.jpg',\n",
       " '42.337966548274665,-71.1535147838182_right.jpg',\n",
       " '42.33840833596196,-71.15360927527627_right.jpg',\n",
       " '42.338923177416284,-71.14675696049002_left.jpg',\n",
       " '42.33908024075782,-71.14695120966272_right.jpg',\n",
       " '42.33912256300553,-71.15652097392953_left.jpg',\n",
       " '42.339195348076956,-71.16601665261385_right.jpg',\n",
       " '42.33942794216536,-71.15688682136036_right.jpg',\n",
       " '42.33960314472628,-71.14838152971132_right.jpg',\n",
       " '42.339631313065325,-71.15814114049101_left.jpg',\n",
       " '42.33973064882453,-71.15187482841682_left.jpg',\n",
       " '42.339818696982604,-71.1447403386229_left.jpg',\n",
       " '42.339829120466746,-71.15915312483247_right.jpg',\n",
       " '42.34001143479774,-71.15056476891365_left.jpg',\n",
       " '42.34001143479774,-71.15056476891365_right.jpg',\n",
       " '42.340058453480566,-71.16431951463423_left.jpg',\n",
       " '42.340110788836796,-71.16613960067073_left.jpg',\n",
       " '42.34013206477148,-71.15618455401335_right.jpg',\n",
       " '42.3401469211128,-71.16127505095255_right.jpg',\n",
       " '42.34022236436053,-71.16383577961098_left.jpg',\n",
       " '42.34039497430703,-71.15141082866327_left.jpg',\n",
       " '42.34092034910254,-71.1504102894057_left.jpg',\n",
       " '42.34092836429921,-71.15927347682975_left.jpg',\n",
       " '42.34093740838715,-71.1539660769669_left.jpg',\n",
       " '42.34115662386471,-71.1569335626269_right.jpg',\n",
       " '42.341377907652486,-71.14910623825946_right.jpg',\n",
       " '42.34144318520765,-71.14678948672879_right.jpg',\n",
       " '42.34188342892172,-71.1459934762074_left.jpg',\n",
       " '42.34194953340395,-71.15567183469221_left.jpg',\n",
       " '42.34197300658512,-71.14348063518158_left.jpg',\n",
       " '42.34197638897486,-71.14876413090838_left.jpg',\n",
       " '42.342013018343195,-71.14509873411222_left.jpg',\n",
       " '42.34201385747291,-71.15688954233583_left.jpg',\n",
       " '42.34207866095657,-71.159291120705_right.jpg',\n",
       " '42.342113660804756,-71.15857618658399_left.jpg',\n",
       " '42.342186441183415,-71.15648508172015_right.jpg',\n",
       " '42.34231777682963,-71.15756795366383_left.jpg',\n",
       " '42.34267319358091,-71.14006513533522_left.jpg',\n",
       " '42.34273981746195,-71.1433874125976_left.jpg',\n",
       " '42.34279916924643,-71.1563569455557_right.jpg',\n",
       " '42.34353918879421,-71.15783857542465_right.jpg',\n",
       " '42.34361491208615,-71.13889509672615_left.jpg',\n",
       " '42.34363604360601,-71.14309405744112_right.jpg',\n",
       " '42.34413542850313,-71.15347406118201_right.jpg',\n",
       " '42.34424110373147,-71.14497238594353_left.jpg',\n",
       " '42.34451711683209,-71.14044373592628_right.jpg',\n",
       " '42.344559430508795,-71.15002292376855_right.jpg',\n",
       " '42.34465940153009,-71.14459679492344_right.jpg',\n",
       " '42.344766045111484,-71.14201107722172_left.jpg',\n",
       " '42.3449742934827,-71.14629372255615_left.jpg',\n",
       " '42.345020951787156,-71.14808790798403_left.jpg',\n",
       " '42.345351375700375,-71.15192258995627_left.jpg',\n",
       " '42.345893445965885,-71.15157940887322_right.jpg',\n",
       " '42.34591610898507,-71.14827963439834_right.jpg',\n",
       " '42.345916816761694,-71.15256694878602_right.jpg',\n",
       " '42.346072590445075,-71.13579191533124_left.jpg',\n",
       " '42.346078296055836,-71.16234732473286_left.jpg',\n",
       " '42.34614922880089,-71.13727319724848_left.jpg',\n",
       " '42.346277670373695,-71.15233325419376_left.jpg',\n",
       " '42.346656378323075,-71.15053941752201_left.jpg',\n",
       " '42.34668367199464,-71.16825127436974_right.jpg',\n",
       " '42.346703926227924,-71.16935253770595_right.jpg',\n",
       " '42.34686171013891,-71.1406343081928_left.jpg',\n",
       " '42.34694338048391,-71.16172174253984_right.jpg',\n",
       " '42.34695673554222,-71.16171269550429_left.jpg',\n",
       " '42.347077762904405,-71.16833226263361_left.jpg',\n",
       " '42.34708687465542,-71.16834662055942_right.jpg',\n",
       " '42.34709336056005,-71.16686521079669_right.jpg',\n",
       " '42.34710356439225,-71.15148280244193_left.jpg',\n",
       " '42.34718316935884,-71.15995804367645_left.jpg',\n",
       " '42.347272775881734,-71.14083470064435_right.jpg',\n",
       " '42.34764415466894,-71.16959542758555_right.jpg',\n",
       " '42.3477449626194,-71.14077136784802_left.jpg',\n",
       " '42.34788210681033,-71.15536609984761_right.jpg',\n",
       " '42.34789682450946,-71.15750437917158_right.jpg',\n",
       " '42.347929089205195,-71.14051010012184_right.jpg',\n",
       " '42.34812803827217,-71.14068424809022_left.jpg',\n",
       " '42.34835510286678,-71.158163861986_right.jpg',\n",
       " '42.348714377951524,-71.15355499719567_left.jpg',\n",
       " '42.3489061582616,-71.16021894494732_left.jpg',\n",
       " '42.348953739611396,-71.15915974897776_right.jpg',\n",
       " '42.34904803425798,-71.15059817334412_left.jpg',\n",
       " '42.34915099105808,-71.16213226919359_left.jpg',\n",
       " '42.34923629392341,-71.16777085614174_left.jpg',\n",
       " '42.34931850399005,-71.1719282821398_right.jpg',\n",
       " '42.34937698817007,-71.16555503323355_left.jpg',\n",
       " '42.34946966050729,-71.16306688001698_right.jpg',\n",
       " '42.349585607131814,-71.16629966055356_right.jpg',\n",
       " '42.34970684927812,-71.14829044481671_left.jpg',\n",
       " '42.34978334342405,-71.13999508474308_left.jpg',\n",
       " '42.349918459195806,-71.15931679793312_right.jpg',\n",
       " '42.35008064060587,-71.15887073341042_right.jpg',\n",
       " '42.35018550615358,-71.17407297781975_right.jpg',\n",
       " '42.3501963281968,-71.16119956171752_left.jpg',\n",
       " '42.350249354151146,-71.16535201392087_left.jpg',\n",
       " '42.35025689061492,-71.16537818930615_left.jpg',\n",
       " '42.35032948677438,-71.14778594306878_right.jpg',\n",
       " '42.350436492534655,-71.17042623840945_right.jpg',\n",
       " '42.35058319374966,-71.14860419894754_left.jpg',\n",
       " '42.350619164590924,-71.15543604798964_left.jpg',\n",
       " '42.35066414460553,-71.16036915466819_right.jpg',\n",
       " '42.350794881007445,-71.14759741579405_right.jpg',\n",
       " '42.3508884022263,-71.16875361923351_left.jpg',\n",
       " '42.35097408391967,-71.16452361404953_right.jpg',\n",
       " '42.35134594052961,-71.15394604601337_left.jpg',\n",
       " '42.35145324480462,-71.14810271929079_left.jpg',\n",
       " '42.3515513318261,-71.15473239306613_right.jpg',\n",
       " '42.35162890629978,-71.14862163912298_left.jpg',\n",
       " '42.35168565829571,-71.16763558962846_right.jpg',\n",
       " '42.351753176406184,-71.15571438058063_left.jpg',\n",
       " '42.35209911567522,-71.1687509119503_left.jpg',\n",
       " '42.35228365436624,-71.15404380987633_left.jpg',\n",
       " '42.352382935387126,-71.15806466436368_left.jpg',\n",
       " '42.352409882180034,-71.17034209435276_left.jpg',\n",
       " '42.35271401414245,-71.17259509653101_right.jpg',\n",
       " '42.35278504005794,-71.14799237749764_left.jpg',\n",
       " '42.352926366940935,-71.1723892132191_right.jpg',\n",
       " '42.35297865865846,-71.17092889800463_right.jpg',\n",
       " '42.35310002588443,-71.17096449207523_right.jpg',\n",
       " '42.35341880611886,-71.148977571188_right.jpg',\n",
       " '42.353519297714456,-71.16487310326295_right.jpg',\n",
       " '42.35373413010801,-71.1672762657623_left.jpg',\n",
       " '42.353809298105844,-71.14873343210988_left.jpg',\n",
       " '42.35421281136376,-71.14568238640624_right.jpg',\n",
       " '42.35427103560293,-71.15937434913532_left.jpg',\n",
       " '42.35428971880056,-71.16745765877047_right.jpg',\n",
       " '42.354512024920155,-71.14261553450231_left.jpg',\n",
       " '42.3546449263768,-71.14313698450215_right.jpg',\n",
       " '42.35468757230751,-71.14330426668367_left.jpg',\n",
       " '42.354904032088726,-71.16686223411955_right.jpg',\n",
       " '42.35493796126252,-71.17143260421219_left.jpg',\n",
       " '42.35494344489946,-71.15141995105478_left.jpg',\n",
       " '42.35511369707366,-71.15076020078314_right.jpg',\n",
       " '42.35555666636681,-71.15873629063421_left.jpg',\n",
       " '42.35561538169149,-71.15729874666425_right.jpg',\n",
       " '42.355636175183406,-71.14703206036634_left.jpg',\n",
       " '42.35581321545133,-71.15654026299545_right.jpg',\n",
       " '42.35584709412356,-71.14785843008391_right.jpg',\n",
       " '42.355905288934565,-71.16497582384193_left.jpg',\n",
       " '42.35594779201068,-71.16848250968405_left.jpg',\n",
       " '42.356111571196166,-71.16675256490608_left.jpg',\n",
       " '42.356277642782004,-71.1619644940904_left.jpg',\n",
       " '42.35630216196377,-71.16317322235447_left.jpg',\n",
       " '42.35630681440638,-71.16090954919733_left.jpg',\n",
       " '42.35649780507501,-71.15985590199156_right.jpg',\n",
       " '42.35655745603933,-71.14885525416705_right.jpg',\n",
       " '42.35658786713621,-71.1591672355938_right.jpg',\n",
       " '42.35698171835998,-71.1451386838964_right.jpg',\n",
       " '42.35704491667883,-71.16077036067159_right.jpg',\n",
       " '42.357062744890754,-71.15261016446058_left.jpg',\n",
       " '42.35719702753283,-71.1596320917416_right.jpg',\n",
       " '42.357244447875004,-71.14842907341102_left.jpg',\n",
       " '42.357293899722656,-71.14738082684482_right.jpg',\n",
       " '42.35739155973984,-71.15607645505003_right.jpg',\n",
       " '42.357413089181556,-71.15397180035728_left.jpg',\n",
       " '42.35752763658486,-71.15771726913351_right.jpg',\n",
       " '42.35766735043435,-71.15410918988195_left.jpg',\n",
       " '42.35774011726495,-71.15421685009247_right.jpg',\n",
       " '42.35776149614857,-71.14810829253429_left.jpg',\n",
       " '42.35819935606803,-71.16171652231577_right.jpg',\n",
       " '42.35828919730374,-71.14329049179868_right.jpg',\n",
       " '42.35840145486682,-71.14960421463725_right.jpg',\n",
       " '42.3586282934518,-71.1608118529186_left.jpg',\n",
       " '42.358700825755456,-71.16099160646905_right.jpg',\n",
       " '42.35877303526123,-71.14687309744349_left.jpg',\n",
       " '42.358901971595785,-71.157784583597_right.jpg',\n",
       " '42.358959080747454,-71.14027277846851_right.jpg',\n",
       " '42.35905535322865,-71.14234842629295_right.jpg',\n",
       " '42.35908249037378,-71.14127559078545_right.jpg',\n",
       " '42.35952832028079,-71.14212417551771_right.jpg',\n",
       " '42.35979698841358,-71.14378962832265_left.jpg',\n",
       " '42.360299352428804,-71.14961971238162_right.jpg',\n",
       " '42.36035965437734,-71.1374182199889_right.jpg',\n",
       " '42.36062394247995,-71.14134868415383_left.jpg',\n",
       " '42.36066814029486,-71.14180453121624_left.jpg',\n",
       " '42.3613041816349,-71.14123965670223_right.jpg',\n",
       " '42.36131904564722,-71.14426883137067_right.jpg',\n",
       " '42.36151507146899,-71.14559543092555_left.jpg',\n",
       " '42.361589521782726,-71.14525200714368_left.jpg',\n",
       " '42.361668336465456,-71.14342399869018_right.jpg',\n",
       " '42.36223743582444,-71.14543437440426_right.jpg',\n",
       " '42.36330418883388,-71.14251735689331_right.jpg',\n",
       " '42.36337018785413,-71.141088915916_right.jpg',\n",
       " '42.36352712606991,-71.14077648681098_left.jpg',\n",
       " '42.363608834434444,-71.13959831081988_left.jpg',\n",
       " '42.36401053924633,-71.13760707602188_left.jpg',\n",
       " '42.364213465651616,-71.13700733253333_left.jpg',\n",
       " '42.3643281370369,-71.13700117308926_left.jpg',\n",
       " '42.36462380443861,-71.1357554996761_right.jpg',\n",
       " '42.3648508173831,-71.13545432994215_right.jpg',\n",
       " 'validation_hand.csv']"
      ]
     },
     "execution_count": 74,
     "metadata": {},
     "output_type": "execute_result"
    }
   ],
   "source": [
    "sorted(list(os.walk(\"../data/streetphotos/validation_sample/\"))[0][2])"
   ]
  },
  {
   "cell_type": "code",
   "execution_count": 89,
   "metadata": {},
   "outputs": [],
   "source": [
    "hand_predictions = {}\n",
    "for file, pred in zip(sorted(list(os.walk(\"../data/streetphotos/validation_sample/\"))[0][2])[:-1], validation_df['label']):\n",
    "    hand_predictions[file] = pred"
   ]
  },
  {
   "cell_type": "code",
   "execution_count": 196,
   "metadata": {},
   "outputs": [],
   "source": [
    "hand_predictions_df = pd.DataFrame.from_dict(hand_predictions, orient='index').reset_index()\n",
    "hand_predictions_df['x'] = hand_predictions_df['index'].str.split(',').map(lambda x : float(x[0]))\n",
    "hand_predictions_df['direction'] = hand_predictions_df['index'].str.split('_').map(lambda x : x[-1][:-4])\n",
    "hand_predictions_df = hand_predictions_df[['x',0, 'direction']].set_index('x')"
   ]
  },
  {
   "cell_type": "code",
   "execution_count": 251,
   "metadata": {},
   "outputs": [],
   "source": [
    "import pickle as pkl\n",
    "with open(\"../data/streetphotos/all_pts_2_low_gamma.pkl\", 'rb') as pklfile:\n",
    "    all_pts_2_low_gamma = pkl.load(pklfile)\n",
    "    \n",
    "with open(\"../data/streetphotos/all_pts_1_low_gamma.pkl\", 'rb') as pklfile:\n",
    "    all_pts_1_low_gamma = pkl.load(pklfile)\n",
    "    "
   ]
  },
  {
   "cell_type": "code",
   "execution_count": 253,
   "metadata": {},
   "outputs": [],
   "source": [
    "all_pts_2_low_gamma['x'] = all_pts_2_low_gamma['point'].map(lambda x : x[1])\n",
    "all_pts_1_low_gamma['x'] = all_pts_1_low_gamma['point'].map(lambda x : x[1])"
   ]
  },
  {
   "cell_type": "code",
   "execution_count": 254,
   "metadata": {},
   "outputs": [],
   "source": [
    "all_pts_2_low_gamma = all_pts_2_low_gamma[['direction','x']].set_index('x')\n",
    "all_pts_1_low_gamma = all_pts_1_low_gamma[['direction', 'x']].set_index('x')"
   ]
  },
  {
   "cell_type": "code",
   "execution_count": 256,
   "metadata": {},
   "outputs": [],
   "source": [
    "maybe_1_low_gamma = hand_predictions_df.join(all_pts_1_low_gamma, how='inner', lsuffix=\"hand\", rsuffix=\"cnn\")\n",
    "maybe_2_low_gamma = hand_predictions_df.join(all_pts_2_low_gamma, how='inner', lsuffix=\"hand\", rsuffix=\"cnn\")"
   ]
  },
  {
   "cell_type": "code",
   "execution_count": 257,
   "metadata": {},
   "outputs": [
    {
     "data": {
      "text/plain": [
       "(38, 77, 85)"
      ]
     },
     "execution_count": 257,
     "metadata": {},
     "output_type": "execute_result"
    }
   ],
   "source": [
    "len(hand_predictions_df[hand_predictions_df[0].isin(['s','o'])]), len(hand_predictions_df[hand_predictions_df[0].isin(['n'])]),len(hand_predictions_df[hand_predictions_df[0].isin(['nn'])])"
   ]
  },
  {
   "cell_type": "code",
   "execution_count": 225,
   "metadata": {
    "scrolled": true
   },
   "outputs": [
    {
     "data": {
      "text/plain": [
       "(38, 77)"
      ]
     },
     "execution_count": 225,
     "metadata": {},
     "output_type": "execute_result"
    }
   ],
   "source": [
    "len(hand_predictions_df[hand_predictions_df[0].isin(['s','o'])]), len(hand_predictions_df[hand_predictions_df[0].isin(['n'])])"
   ]
  },
  {
   "cell_type": "code",
   "execution_count": 260,
   "metadata": {},
   "outputs": [
    {
     "data": {
      "text/plain": [
       "24"
      ]
     },
     "execution_count": 260,
     "metadata": {},
     "output_type": "execute_result"
    }
   ],
   "source": [
    "len(maybe_1_low_gamma[maybe_1_low_gamma[0].isin(['s','o']) & (maybe_1_low_gamma['directioncnn'] == maybe_1_low_gamma['directionhand'])])"
   ]
  },
  {
   "cell_type": "code",
   "execution_count": 262,
   "metadata": {},
   "outputs": [
    {
     "data": {
      "text/plain": [
       "20"
      ]
     },
     "execution_count": 262,
     "metadata": {},
     "output_type": "execute_result"
    }
   ],
   "source": [
    "len(maybe_1_low_gamma[maybe_1_low_gamma[0].isin(['n']) & (maybe_1_low_gamma['directioncnn'] == maybe_1_low_gamma['directionhand'])])"
   ]
  },
  {
   "cell_type": "markdown",
   "metadata": {},
   "source": [
    "## For `maybe_1`\n",
    "\n",
    "- the positive class has 38 members `len(hand_predictions_df[hand_predictions_df[0].isin(['s','o'])]`\n",
    "- the negative class has 77 members `len(hand_predictions_df[hand_predictions_df[0].isin(['n'])])`\n",
    "- 85 nulls `200 - 38 - 77`\n",
    "\n",
    "Of the positive class\n",
    "\n",
    "- 24 are correctly detected `len(maybe_1[maybe_1[0].isin(['s','o']) & (maybe_1['directioncnn'] == maybe_1['directionhand'])])`\n",
    "- 14 are not `38 - 10`\n",
    "\n",
    "Of the negative class\n",
    "- 57 correctly detected\n",
    "- 20 false positives `len(maybe_1[maybe_1[0].isin(['n']) & (maybe_1['directioncnn'] == maybe_1['directionhand'])])`\n",
    "\n",
    "Recall: 63%\n",
    "Precision: 54%"
   ]
  },
  {
   "cell_type": "markdown",
   "metadata": {},
   "source": [
    "## For `maybe_2`\n",
    "If we believe that this join is correct:\n",
    "\n",
    "- the positive class has 39 members `len(maybe[maybe[0].isin(['s','o'])])`\n",
    "- the actual negative class has 77 members `len(maybe[maybe[0] == 'n']`\n",
    "- the remaining null photos have 85 members `len(maybe[maybe[0] == 'nn'])`\n",
    "\n",
    "Of the positive class:\n",
    "- 8 are correctly detected\n",
    "- 31 are not\n",
    "\n",
    "Of the negative class:\n",
    "- 31 false positives `len(maybe[(pd.isnull(maybe['direction'])) & (maybe[0] != 'nn') & (maybe[0].isin(['s','o']))])`\n",
    "- 46 correct\n",
    "\n",
    "This gives us precision and recall of 21%.\n",
    "\n",
    "Overall we see that the positive rate is `39/(39 + 77) * 100` or 33 percent.  The null rate is `1 - 22558/34294`, i.e. 34.2 percent.  \n",
    "\n",
    "Precision: P(Pos | PosLabel). THIS DOES NOT CHANGE because we are conditioning on a positive label.\n",
    "\n",
    "Recall: P(PosLabel | Pos) = P(PosLabel | Pos, NotNull)P(NotNull) + P(PosLabel | Pos, Null)P(Null)\n",
    "\n",
    "P(PosLabel | Null) is zero, so\n",
    "\n",
    "Recall = P(PosLabel | Pos, NotNull)P(NotNull) = 14%\n",
    "\n"
   ]
  },
  {
   "cell_type": "code",
   "execution_count": 229,
   "metadata": {},
   "outputs": [
    {
     "data": {
      "text/plain": [
       "3263"
      ]
     },
     "execution_count": 229,
     "metadata": {},
     "output_type": "execute_result"
    }
   ],
   "source": [
    "len(all_pts_1)"
   ]
  },
  {
   "cell_type": "code",
   "execution_count": null,
   "metadata": {},
   "outputs": [],
   "source": []
  }
 ],
 "metadata": {
  "kernelspec": {
   "display_name": "Python 3",
   "language": "python",
   "name": "python3"
  },
  "language_info": {
   "codemirror_mode": {
    "name": "ipython",
    "version": 3
   },
   "file_extension": ".py",
   "mimetype": "text/x-python",
   "name": "python",
   "nbconvert_exporter": "python",
   "pygments_lexer": "ipython3",
   "version": "3.7.6"
  }
 },
 "nbformat": 4,
 "nbformat_minor": 4
}
