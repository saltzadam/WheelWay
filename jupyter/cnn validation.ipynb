{
 "cells": [
  {
   "cell_type": "code",
   "execution_count": null,
   "metadata": {},
   "outputs": [],
   "source": [
    "import pandas as pd"
   ]
  },
  {
   "cell_type": "code",
   "execution_count": null,
   "metadata": {},
   "outputs": [],
   "source": [
    "polygon_pt_counts = pd.Series([1840, 1618, 1646, 1464, 1658, 1564, 1600, 1814, 1652, 1592, 1748, 1754, 1636, 1730,\n",
    "                              1650, 1666, 1752, 2158, 1992, 1758, 1798])"
   ]
  },
  {
   "cell_type": "code",
   "execution_count": null,
   "metadata": {},
   "outputs": [],
   "source": [
    "polygon_pt_counts.describe()"
   ]
  },
  {
   "cell_type": "code",
   "execution_count": null,
   "metadata": {},
   "outputs": [],
   "source": [
    "import csv"
   ]
  },
  {
   "cell_type": "code",
   "execution_count": null,
   "metadata": {},
   "outputs": [],
   "source": [
    "points_divided_df = pd.read_csv(\"../points_in_polys_validation.csv\")"
   ]
  },
  {
   "cell_type": "code",
   "execution_count": null,
   "metadata": {},
   "outputs": [],
   "source": [
    "# PNTCNT is a unique identifier!\n",
    "points_in_polys = {poly: points_divided_df[points_divided_df['PNTCNT'] == poly] \n",
    "                  for poly in points_divided_df['PNTCNT'].unique()}"
   ]
  },
  {
   "cell_type": "code",
   "execution_count": null,
   "metadata": {},
   "outputs": [],
   "source": [
    "samples = {poly: points_in_polys[poly].sample(n=10) for poly in points_in_polys}"
   ]
  },
  {
   "cell_type": "code",
   "execution_count": null,
   "metadata": {},
   "outputs": [],
   "source": [
    "samples = {poly: samples[poly][['x','y']] for poly in points_in_polys}"
   ]
  },
  {
   "cell_type": "code",
   "execution_count": null,
   "metadata": {},
   "outputs": [],
   "source": [
    "samples[1600]['y'][1229]"
   ]
  },
  {
   "cell_type": "code",
   "execution_count": null,
   "metadata": {},
   "outputs": [],
   "source": [
    "import glob\n",
    "import shutil\n",
    "import random\n",
    "for poly in samples:\n",
    "    for _, sample in samples[poly].iterrows():\n",
    "        # want to get rid of rounding error when these were truncated\n",
    "        # but leave enough digits to find the photo\n",
    "        for i in range(10):\n",
    "            y = str(sample['y'])[:-i]\n",
    "            matches = glob.glob(\"../data/streetphotos/42/\" + y + \"*\")\n",
    "            if len(matches) != 2:\n",
    "                continue\n",
    "            else:\n",
    "                break\n",
    "\n",
    "        if len(matches) != 2:\n",
    "            print(sample)\n",
    "            continue\n",
    "        # choose left or right at random\n",
    "        \n",
    "        match = random.choice(matches)\n",
    "        match_name = match.split('/')[-1]\n",
    "        shutil.copyfile(match, \"../data/streetphotos/validation_sample/\" + match_name)\n",
    "        \n",
    "        "
   ]
  },
  {
   "cell_type": "code",
   "execution_count": null,
   "metadata": {},
   "outputs": [],
   "source": [
    "validation_df = pd.read_csv(\"../data/streetphotos/validation_sample/validation_hand.csv\", names=[\"label\"])"
   ]
  },
  {
   "cell_type": "code",
   "execution_count": null,
   "metadata": {},
   "outputs": [],
   "source": [
    "validation_df.describe()"
   ]
  },
  {
   "cell_type": "code",
   "execution_count": null,
   "metadata": {},
   "outputs": [],
   "source": [
    "import os.path"
   ]
  },
  {
   "cell_type": "code",
   "execution_count": null,
   "metadata": {},
   "outputs": [],
   "source": [
    "sorted(list(os.walk(\"../data/streetphotos/validation_sample/\"))[0][2])"
   ]
  },
  {
   "cell_type": "code",
   "execution_count": null,
   "metadata": {},
   "outputs": [],
   "source": [
    "hand_predictions = {}\n",
    "for file, pred in zip(sorted(list(os.walk(\"../data/streetphotos/validation_sample/\"))[0][2])[:-1], validation_df['label']):\n",
    "    hand_predictions[file] = pred"
   ]
  },
  {
   "cell_type": "code",
   "execution_count": null,
   "metadata": {},
   "outputs": [],
   "source": [
    "hand_predictions_df = pd.DataFrame.from_dict(hand_predictions, orient='index').reset_index()\n",
    "hand_predictions_df['x'] = hand_predictions_df['index'].str.split(',').map(lambda x : float(x[0]))\n",
    "hand_predictions_df['direction'] = hand_predictions_df['index'].str.split('_').map(lambda x : x[-1][:-4])\n",
    "hand_predictions_df = hand_predictions_df[['x',0, 'direction']].set_index('x')"
   ]
  },
  {
   "cell_type": "code",
   "execution_count": null,
   "metadata": {},
   "outputs": [],
   "source": [
    "import pickle as pkl\n",
    "with open(\"../data/streetphotos/all_pts_2_low_gamma.pkl\", 'rb') as pklfile:\n",
    "    all_pts_2_low_gamma = pkl.load(pklfile)\n",
    "    \n",
    "with open(\"../data/streetphotos/all_pts_1_low_gamma.pkl\", 'rb') as pklfile:\n",
    "    all_pts_1_low_gamma = pkl.load(pklfile)\n",
    "    "
   ]
  },
  {
   "cell_type": "code",
   "execution_count": null,
   "metadata": {},
   "outputs": [],
   "source": [
    "all_pts_2_low_gamma['x'] = all_pts_2_low_gamma['point'].map(lambda x : x[1])\n",
    "all_pts_1_low_gamma['x'] = all_pts_1_low_gamma['point'].map(lambda x : x[1])"
   ]
  },
  {
   "cell_type": "code",
   "execution_count": null,
   "metadata": {},
   "outputs": [],
   "source": [
    "all_pts_2_low_gamma = all_pts_2_low_gamma[['direction','x']].set_index('x')\n",
    "all_pts_1_low_gamma = all_pts_1_low_gamma[['direction', 'x']].set_index('x')"
   ]
  },
  {
   "cell_type": "code",
   "execution_count": null,
   "metadata": {},
   "outputs": [],
   "source": [
    "maybe_1_low_gamma = hand_predictions_df.join(all_pts_1_low_gamma, how='inner', lsuffix=\"hand\", rsuffix=\"cnn\")\n",
    "maybe_2_low_gamma = hand_predictions_df.join(all_pts_2_low_gamma, how='inner', lsuffix=\"hand\", rsuffix=\"cnn\")"
   ]
  },
  {
   "cell_type": "code",
   "execution_count": null,
   "metadata": {},
   "outputs": [],
   "source": [
    "len(hand_predictions_df[hand_predictions_df[0].isin(['s','o'])]), len(hand_predictions_df[hand_predictions_df[0].isin(['n'])]),len(hand_predictions_df[hand_predictions_df[0].isin(['nn'])])"
   ]
  },
  {
   "cell_type": "code",
   "execution_count": null,
   "metadata": {
    "scrolled": true
   },
   "outputs": [],
   "source": [
    "len(hand_predictions_df[hand_predictions_df[0].isin(['s','o'])]), len(hand_predictions_df[hand_predictions_df[0].isin(['n'])])"
   ]
  },
  {
   "cell_type": "code",
   "execution_count": null,
   "metadata": {},
   "outputs": [],
   "source": [
    "len(maybe_1_low_gamma[maybe_1_low_gamma[0].isin(['s','o']) & (maybe_1_low_gamma['directioncnn'] == maybe_1_low_gamma['directionhand'])])"
   ]
  },
  {
   "cell_type": "code",
   "execution_count": null,
   "metadata": {},
   "outputs": [],
   "source": [
    "len(maybe_1_low_gamma[maybe_1_low_gamma[0].isin(['n']) & (maybe_1_low_gamma['directioncnn'] == maybe_1_low_gamma['directionhand'])])"
   ]
  },
  {
   "cell_type": "markdown",
   "metadata": {},
   "source": [
    "## For `maybe_1`\n",
    "\n",
    "- the positive class has 38 members `len(hand_predictions_df[hand_predictions_df[0].isin(['s','o'])]`\n",
    "- the negative class has 77 members `len(hand_predictions_df[hand_predictions_df[0].isin(['n'])])`\n",
    "- 85 nulls `200 - 38 - 77`\n",
    "\n",
    "Of the positive class\n",
    "\n",
    "- 24 are correctly detected `len(maybe_1[maybe_1[0].isin(['s','o']) & (maybe_1['directioncnn'] == maybe_1['directionhand'])])`\n",
    "- 14 are not `38 - 10`\n",
    "\n",
    "Of the negative class\n",
    "- 57 correctly detected\n",
    "- 20 false positives `len(maybe_1[maybe_1[0].isin(['n']) & (maybe_1['directioncnn'] == maybe_1['directionhand'])])`\n",
    "\n",
    "Recall: 63%\n",
    "Precision: 54%"
   ]
  },
  {
   "cell_type": "markdown",
   "metadata": {},
   "source": [
    "## For `maybe_2`\n",
    "If we believe that this join is correct:\n",
    "\n",
    "- the positive class has 39 members `len(maybe[maybe[0].isin(['s','o'])])`\n",
    "- the actual negative class has 77 members `len(maybe[maybe[0] == 'n']`\n",
    "- the remaining null photos have 85 members `len(maybe[maybe[0] == 'nn'])`\n",
    "\n",
    "Of the positive class:\n",
    "- 8 are correctly detected\n",
    "- 31 are not\n",
    "\n",
    "Of the negative class:\n",
    "- 31 false positives `len(maybe[(pd.isnull(maybe['direction'])) & (maybe[0] != 'nn') & (maybe[0].isin(['s','o']))])`\n",
    "- 46 correct\n",
    "\n",
    "This gives us precision and recall of 21%.\n",
    "\n",
    "Overall we see that the positive rate is `39/(39 + 77) * 100` or 33 percent.  The null rate is `1 - 22558/34294`, i.e. 34.2 percent.  \n",
    "\n",
    "Precision: P(Pos | PosLabel). THIS DOES NOT CHANGE because we are conditioning on a positive label.\n",
    "\n",
    "Recall: P(PosLabel | Pos) = P(PosLabel | Pos, NotNull)P(NotNull) + P(PosLabel | Pos, Null)P(Null)\n",
    "\n",
    "P(PosLabel | Null) is zero, so\n",
    "\n",
    "Recall = P(PosLabel | Pos, NotNull)P(NotNull) = 14%\n",
    "\n"
   ]
  },
  {
   "cell_type": "code",
   "execution_count": null,
   "metadata": {},
   "outputs": [],
   "source": [
    "len(all_pts_1)"
   ]
  },
  {
   "cell_type": "code",
   "execution_count": 2,
   "metadata": {},
   "outputs": [],
   "source": [
    "import seaborn as sms\n",
    "import matplotlib.pyplot as plt "
   ]
  },
  {
   "cell_type": "code",
   "execution_count": 3,
   "metadata": {},
   "outputs": [],
   "source": [
    "array = [[24,14],[20,57]]"
   ]
  },
  {
   "cell_type": "code",
   "execution_count": 23,
   "metadata": {},
   "outputs": [
    {
     "data": {
      "image/png": "[encoded data removed]",
      "text/plain": [
       "<Figure size 432x432 with 1 Axes>"
      ]
     },
     "metadata": {},
     "output_type": "display_data"
    }
   ],
   "source": [
    "from matplotlib import pyplot\n",
    "pyplot.figure(figsize=(6, 6))\n",
    "sms.set(font_scale = 2)\n",
    "\n",
    "ax = sms.heatmap(array, \n",
    "            annot=True, \n",
    "            cbar=False, \n",
    "            cmap=\"Blues\", \n",
    "            #yticklabels = [\"Obstructed\", \"Unobstructed\"],\n",
    "            xticklabels = [\"Obstruction \\n detected\", \"No obstruction \\n detected\"],\n",
    "            vmin=0, vmax=57, \n",
    "            annot_kws={'size':48, \n",
    "                       'name':'Arial'\n",
    "                       }\n",
    "           )\n",
    "#ax.figure.axes[-1].yaxis.label.set_size(64)\n",
    "ax.set_yticklabels(['Obstructed', 'Unobstructed'], va='center', rotation = 0, position=(0,0.28))\n",
    "plt.title('Confusion matrix for obstruction detection')\n",
    "plt.savefig('confusion_matrix.png',\n",
    "           dpi=450, quality=95, bbox_inches='tight')"
   ]
  },
  {
   "cell_type": "code",
   "execution_count": null,
   "metadata": {},
   "outputs": [],
   "source": []
  }
 ],
 "metadata": {
  "kernelspec": {
   "display_name": "Python 3",
   "language": "python",
   "name": "python3"
  },
  "language_info": {
   "codemirror_mode": {
    "name": "ipython",
    "version": 3
   },
   "file_extension": ".py",
   "mimetype": "text/x-python",
   "name": "python",
   "nbconvert_exporter": "python",
   "pygments_lexer": "ipython3",
   "version": "3.7.6"
  }
 },
 "nbformat": 4,
 "nbformat_minor": 4
}
