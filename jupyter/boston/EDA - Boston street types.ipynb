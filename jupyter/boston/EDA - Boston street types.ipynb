{
 "cells": [
  {
   "cell_type": "code",
   "execution_count": 1,
   "metadata": {},
   "outputs": [],
   "source": [
    "import sidewalkify as swky\n",
    "import osmnx as ox\n",
    "import numpy as np\n",
    "import pandas as pd\n",
    "import networkx as nx\n",
    "import shapely as shapely\n",
    "import geopandas as gpd"
   ]
  },
  {
   "cell_type": "code",
   "execution_count": 2,
   "metadata": {},
   "outputs": [
    {
     "name": "stderr",
     "output_type": "stream",
     "text": [
      "<ipython-input-2-7721cd5e3608>:1: TqdmDeprecationWarning: This function will be removed in tqdm==5.0.0\n",
      "Please use `tqdm.notebook.*` instead of `tqdm._tqdm_notebook.*`\n",
      "  from tqdm._tqdm_notebook import tqdm_notebook\n",
      "/home/adam/.local/lib/python3.8/site-packages/tqdm/std.py:658: FutureWarning: The Panel class is removed from pandas. Accessing it from the top-level namespace will also be removed in the next version\n",
      "  from pandas import Panel\n"
     ]
    }
   ],
   "source": [
    "from tqdm._tqdm_notebook import tqdm_notebook\n",
    "tqdm_notebook.pandas()"
   ]
  },
  {
   "cell_type": "markdown",
   "metadata": {},
   "source": [
    "# Get the initial road map\n",
    "Here's what osmnx thinks of as \"walking\":"
   ]
  },
  {
   "cell_type": "code",
   "execution_count": 3,
   "metadata": {},
   "outputs": [
    {
     "data": {
      "text/plain": [
       "'[\"area\"!~\"yes\"][\"highway\"!~\"cycleway|motor|proposed|construction|abandoned|platform|raceway\"][\"foot\"!~\"no\"][\"service\"!~\"private\"][\"access\"!~\"private\"]'"
      ]
     },
     "execution_count": 3,
     "metadata": {},
     "output_type": "execute_result"
    }
   ],
   "source": [
    "ox.downloader._get_osm_filter(\"walk\")"
   ]
  },
  {
   "cell_type": "markdown",
   "metadata": {},
   "source": [
    "We need to separate this further into ways which could have sidewalks."
   ]
  },
  {
   "cell_type": "code",
   "execution_count": 4,
   "metadata": {},
   "outputs": [],
   "source": [
    "G = ox.graph.graph_from_place(\"Boston, MA\", network_type=\"walk\")"
   ]
  },
  {
   "cell_type": "code",
   "execution_count": 6,
   "metadata": {},
   "outputs": [
    {
     "data": {
      "text/plain": [
       "Index(['u', 'v', 'key', 'osmid', 'oneway', 'lanes', 'name', 'highway', 'width',\n",
       "       'length', 'geometry', 'maxspeed', 'ref', 'tunnel', 'service',\n",
       "       'junction', 'bridge', 'access', 'area'],\n",
       "      dtype='object')"
      ]
     },
     "execution_count": 6,
     "metadata": {},
     "output_type": "execute_result"
    }
   ],
   "source": [
    "# At some point should figure out if this needs to be projected\n",
    "gdf = ox.utils_graph.graph_to_gdfs(G)\n",
    "streets = gdf[1]\n",
    "streets.columns"
   ]
  },
  {
   "cell_type": "code",
   "execution_count": 7,
   "metadata": {},
   "outputs": [],
   "source": [
    "points = gdf[0].to_file(\"boston_points\")"
   ]
  },
  {
   "cell_type": "code",
   "execution_count": 10,
   "metadata": {},
   "outputs": [
    {
     "data": {
      "text/html": [
       "<div>\n",
       "<style scoped>\n",
       "    .dataframe tbody tr th:only-of-type {\n",
       "        vertical-align: middle;\n",
       "    }\n",
       "\n",
       "    .dataframe tbody tr th {\n",
       "        vertical-align: top;\n",
       "    }\n",
       "\n",
       "    .dataframe thead th {\n",
       "        text-align: right;\n",
       "    }\n",
       "</style>\n",
       "<table border=\"1\" class=\"dataframe\">\n",
       "  <thead>\n",
       "    <tr style=\"text-align: right;\">\n",
       "      <th></th>\n",
       "      <th>y</th>\n",
       "      <th>x</th>\n",
       "      <th>osmid</th>\n",
       "      <th>highway</th>\n",
       "      <th>ref</th>\n",
       "      <th>geometry</th>\n",
       "    </tr>\n",
       "  </thead>\n",
       "  <tbody>\n",
       "    <tr>\n",
       "      <th>61341696</th>\n",
       "      <td>42.351682</td>\n",
       "      <td>-71.068411</td>\n",
       "      <td>61341696</td>\n",
       "      <td>NaN</td>\n",
       "      <td>NaN</td>\n",
       "      <td>POINT (-71.06841 42.35168)</td>\n",
       "    </tr>\n",
       "    <tr>\n",
       "      <th>61341697</th>\n",
       "      <td>42.350308</td>\n",
       "      <td>-71.133251</td>\n",
       "      <td>61341697</td>\n",
       "      <td>NaN</td>\n",
       "      <td>NaN</td>\n",
       "      <td>POINT (-71.13325 42.35031)</td>\n",
       "    </tr>\n",
       "    <tr>\n",
       "      <th>5264310273</th>\n",
       "      <td>42.353556</td>\n",
       "      <td>-71.079073</td>\n",
       "      <td>5264310273</td>\n",
       "      <td>crossing</td>\n",
       "      <td>NaN</td>\n",
       "      <td>POINT (-71.07907 42.35356)</td>\n",
       "    </tr>\n",
       "    <tr>\n",
       "      <th>61341700</th>\n",
       "      <td>42.352396</td>\n",
       "      <td>-71.154430</td>\n",
       "      <td>61341700</td>\n",
       "      <td>traffic_signals</td>\n",
       "      <td>NaN</td>\n",
       "      <td>POINT (-71.15443 42.35240)</td>\n",
       "    </tr>\n",
       "    <tr>\n",
       "      <th>4934467588</th>\n",
       "      <td>42.269249</td>\n",
       "      <td>-71.084789</td>\n",
       "      <td>4934467588</td>\n",
       "      <td>NaN</td>\n",
       "      <td>NaN</td>\n",
       "      <td>POINT (-71.08479 42.26925)</td>\n",
       "    </tr>\n",
       "    <tr>\n",
       "      <th>...</th>\n",
       "      <td>...</td>\n",
       "      <td>...</td>\n",
       "      <td>...</td>\n",
       "      <td>...</td>\n",
       "      <td>...</td>\n",
       "      <td>...</td>\n",
       "    </tr>\n",
       "    <tr>\n",
       "      <th>61341685</th>\n",
       "      <td>42.310794</td>\n",
       "      <td>-71.050160</td>\n",
       "      <td>61341685</td>\n",
       "      <td>NaN</td>\n",
       "      <td>NaN</td>\n",
       "      <td>POINT (-71.05016 42.31079)</td>\n",
       "    </tr>\n",
       "    <tr>\n",
       "      <th>382402555</th>\n",
       "      <td>42.365667</td>\n",
       "      <td>-71.121712</td>\n",
       "      <td>382402555</td>\n",
       "      <td>NaN</td>\n",
       "      <td>NaN</td>\n",
       "      <td>POINT (-71.12171 42.36567)</td>\n",
       "    </tr>\n",
       "    <tr>\n",
       "      <th>61341692</th>\n",
       "      <td>42.352114</td>\n",
       "      <td>-71.164719</td>\n",
       "      <td>61341692</td>\n",
       "      <td>NaN</td>\n",
       "      <td>NaN</td>\n",
       "      <td>POINT (-71.16472 42.35211)</td>\n",
       "    </tr>\n",
       "    <tr>\n",
       "      <th>61341693</th>\n",
       "      <td>42.352406</td>\n",
       "      <td>-71.163179</td>\n",
       "      <td>61341693</td>\n",
       "      <td>NaN</td>\n",
       "      <td>NaN</td>\n",
       "      <td>POINT (-71.16318 42.35241)</td>\n",
       "    </tr>\n",
       "    <tr>\n",
       "      <th>61341694</th>\n",
       "      <td>42.351812</td>\n",
       "      <td>-71.067230</td>\n",
       "      <td>61341694</td>\n",
       "      <td>NaN</td>\n",
       "      <td>NaN</td>\n",
       "      <td>POINT (-71.06723 42.35181)</td>\n",
       "    </tr>\n",
       "  </tbody>\n",
       "</table>\n",
       "<p>25075 rows × 6 columns</p>\n",
       "</div>"
      ],
      "text/plain": [
       "                    y          x       osmid          highway  ref  \\\n",
       "61341696    42.351682 -71.068411    61341696              NaN  NaN   \n",
       "61341697    42.350308 -71.133251    61341697              NaN  NaN   \n",
       "5264310273  42.353556 -71.079073  5264310273         crossing  NaN   \n",
       "61341700    42.352396 -71.154430    61341700  traffic_signals  NaN   \n",
       "4934467588  42.269249 -71.084789  4934467588              NaN  NaN   \n",
       "...               ...        ...         ...              ...  ...   \n",
       "61341685    42.310794 -71.050160    61341685              NaN  NaN   \n",
       "382402555   42.365667 -71.121712   382402555              NaN  NaN   \n",
       "61341692    42.352114 -71.164719    61341692              NaN  NaN   \n",
       "61341693    42.352406 -71.163179    61341693              NaN  NaN   \n",
       "61341694    42.351812 -71.067230    61341694              NaN  NaN   \n",
       "\n",
       "                              geometry  \n",
       "61341696    POINT (-71.06841 42.35168)  \n",
       "61341697    POINT (-71.13325 42.35031)  \n",
       "5264310273  POINT (-71.07907 42.35356)  \n",
       "61341700    POINT (-71.15443 42.35240)  \n",
       "4934467588  POINT (-71.08479 42.26925)  \n",
       "...                                ...  \n",
       "61341685    POINT (-71.05016 42.31079)  \n",
       "382402555   POINT (-71.12171 42.36567)  \n",
       "61341692    POINT (-71.16472 42.35211)  \n",
       "61341693    POINT (-71.16318 42.35241)  \n",
       "61341694    POINT (-71.06723 42.35181)  \n",
       "\n",
       "[25075 rows x 6 columns]"
      ]
     },
     "execution_count": 10,
     "metadata": {},
     "output_type": "execute_result"
    }
   ],
   "source": [
    "gdf[0]"
   ]
  },
  {
   "cell_type": "code",
   "execution_count": null,
   "metadata": {},
   "outputs": [],
   "source": [
    "\n",
    "print(sum(streets.highway.value_counts())/len(streets.highway))"
   ]
  },
  {
   "cell_type": "code",
   "execution_count": null,
   "metadata": {},
   "outputs": [],
   "source": [
    "shvcs = streets.highway.value_counts().index\n",
    "highway_types = {*([x for x in shvcs if type(x)==str] + [x for y in shvcs for x in y if type(y)==list])}\n",
    "highway_types"
   ]
  },
  {
   "cell_type": "code",
   "execution_count": null,
   "metadata": {},
   "outputs": [],
   "source": [
    "G_highway_types={}\n",
    "for htype in highway_types:\n",
    "    cf = '[\"highway\"~\"{}\"]'.format(htype)\n",
    "    G_highway_types[htype] = ox.graph.graph_from_place(\"Boston, MA\", network_type=\"walk\", custom_filter=cf)\n"
   ]
  },
  {
   "cell_type": "markdown",
   "metadata": {},
   "source": [
    "### Footway"
   ]
  },
  {
   "cell_type": "code",
   "execution_count": null,
   "metadata": {},
   "outputs": [],
   "source": [
    "ox.plot_graph_folium(G_highway_types['footway'])"
   ]
  },
  {
   "cell_type": "markdown",
   "metadata": {},
   "source": [
    "I feel like we can remove all of these EXCEPT the Common!  Ignore for now."
   ]
  },
  {
   "cell_type": "markdown",
   "metadata": {},
   "source": [
    "### Corridor"
   ]
  },
  {
   "cell_type": "code",
   "execution_count": null,
   "metadata": {},
   "outputs": [],
   "source": [
    "ox.plot_graph_folium(G_highway_types['corridor'])"
   ]
  },
  {
   "cell_type": "markdown",
   "metadata": {},
   "source": [
    "Think we can safely leave it out for now..."
   ]
  },
  {
   "cell_type": "markdown",
   "metadata": {},
   "source": [
    "### Crossing"
   ]
  },
  {
   "cell_type": "code",
   "execution_count": null,
   "metadata": {},
   "outputs": [],
   "source": [
    "ox.plot_graph_folium(G_highway_types['crossing'])"
   ]
  },
  {
   "cell_type": "markdown",
   "metadata": {},
   "source": [
    "no"
   ]
  },
  {
   "cell_type": "markdown",
   "metadata": {},
   "source": [
    "### Living Street"
   ]
  },
  {
   "cell_type": "code",
   "execution_count": null,
   "metadata": {},
   "outputs": [],
   "source": [
    "ox.plot_graph_folium(G_highway_types['living_street'])"
   ]
  },
  {
   "cell_type": "raw",
   "metadata": {},
   "source": [
    "revisit\n"
   ]
  },
  {
   "cell_type": "markdown",
   "metadata": {},
   "source": [
    "### Path"
   ]
  },
  {
   "cell_type": "code",
   "execution_count": null,
   "metadata": {},
   "outputs": [],
   "source": [
    "ox.plot_graph_folium(G_highway_types['path'])"
   ]
  },
  {
   "cell_type": "markdown",
   "metadata": {},
   "source": [
    "add later"
   ]
  },
  {
   "cell_type": "markdown",
   "metadata": {},
   "source": [
    "### pedestrian\n"
   ]
  },
  {
   "cell_type": "code",
   "execution_count": null,
   "metadata": {},
   "outputs": [],
   "source": [
    "ox.plot_graph_folium(G_highway_types['pedestrian'])"
   ]
  },
  {
   "cell_type": "markdown",
   "metadata": {},
   "source": [
    "later"
   ]
  },
  {
   "cell_type": "markdown",
   "metadata": {},
   "source": [
    "### primary, primary_link"
   ]
  },
  {
   "cell_type": "code",
   "execution_count": null,
   "metadata": {},
   "outputs": [],
   "source": [
    "ox.plot_graph_folium(G_highway_types['primary'])"
   ]
  },
  {
   "cell_type": "code",
   "execution_count": null,
   "metadata": {},
   "outputs": [],
   "source": [
    "ox.plot_graph_folium(G_highway_types['primary_link'])"
   ]
  },
  {
   "cell_type": "markdown",
   "metadata": {},
   "source": [
    "of course keep but interesting!"
   ]
  },
  {
   "cell_type": "markdown",
   "metadata": {},
   "source": [
    "### residential"
   ]
  },
  {
   "cell_type": "code",
   "execution_count": null,
   "metadata": {},
   "outputs": [],
   "source": [
    "ox.plot_graph_folium(G_highway_types['residential'])"
   ]
  },
  {
   "cell_type": "markdown",
   "metadata": {},
   "source": [
    "### road\n"
   ]
  },
  {
   "cell_type": "code",
   "execution_count": null,
   "metadata": {},
   "outputs": [],
   "source": [
    "ox.plot_graph_folium(G_highway_types['road'])"
   ]
  },
  {
   "cell_type": "markdown",
   "metadata": {},
   "source": [
    "??? check by hand?"
   ]
  },
  {
   "cell_type": "markdown",
   "metadata": {},
   "source": [
    "### secondary \n"
   ]
  },
  {
   "cell_type": "code",
   "execution_count": null,
   "metadata": {},
   "outputs": [],
   "source": [
    "ox.plot_graph_folium(G_highway_types['secondary'])"
   ]
  },
  {
   "cell_type": "code",
   "execution_count": null,
   "metadata": {},
   "outputs": [],
   "source": [
    "ox.plot_graph_folium(G_highway_types['secondary_link'])"
   ]
  },
  {
   "cell_type": "markdown",
   "metadata": {},
   "source": [
    "don't include because the paths are elsewhere?\n",
    "\n",
    "at least don't include for now"
   ]
  },
  {
   "cell_type": "markdown",
   "metadata": {},
   "source": [
    "### service"
   ]
  },
  {
   "cell_type": "code",
   "execution_count": null,
   "metadata": {},
   "outputs": [],
   "source": [
    "ox.plot_graph_folium(G_highway_types['service'])"
   ]
  },
  {
   "cell_type": "markdown",
   "metadata": {},
   "source": [
    "either these are walkable or not -- check!"
   ]
  },
  {
   "cell_type": "markdown",
   "metadata": {},
   "source": [
    "### steps"
   ]
  },
  {
   "cell_type": "code",
   "execution_count": null,
   "metadata": {},
   "outputs": [],
   "source": [
    "ox.plot_graph_folium(G_highway_types['steps'])"
   ]
  },
  {
   "cell_type": "markdown",
   "metadata": {},
   "source": [
    "uh"
   ]
  },
  {
   "cell_type": "markdown",
   "metadata": {},
   "source": [
    "### tertiary"
   ]
  },
  {
   "cell_type": "code",
   "execution_count": null,
   "metadata": {},
   "outputs": [],
   "source": [
    "ox.plot_graph_folium(G_highway_types['tertiary'])"
   ]
  },
  {
   "cell_type": "code",
   "execution_count": null,
   "metadata": {},
   "outputs": [],
   "source": [
    "ox.plot_graph_folium(G_highway_types['tertiary_link'])"
   ]
  },
  {
   "cell_type": "markdown",
   "metadata": {},
   "source": [
    "### track\n",
    " "
   ]
  },
  {
   "cell_type": "code",
   "execution_count": null,
   "metadata": {},
   "outputs": [],
   "source": [
    "ox.plot_graph_folium(G_highway_types['track'])"
   ]
  },
  {
   "cell_type": "markdown",
   "metadata": {},
   "source": [
    "??? check by hand"
   ]
  },
  {
   "cell_type": "markdown",
   "metadata": {},
   "source": [
    "### trunk"
   ]
  },
  {
   "cell_type": "code",
   "execution_count": null,
   "metadata": {},
   "outputs": [],
   "source": [
    "ox.plot_graph_folium(G_highway_types['trunk'])"
   ]
  },
  {
   "cell_type": "markdown",
   "metadata": {},
   "source": [
    "think we have to include these"
   ]
  },
  {
   "cell_type": "markdown",
   "metadata": {},
   "source": [
    "### trunk_link"
   ]
  },
  {
   "cell_type": "code",
   "execution_count": null,
   "metadata": {},
   "outputs": [],
   "source": [
    "ox.plot_graph_folium(G_highway_types['trunk_link'])"
   ]
  },
  {
   "cell_type": "markdown",
   "metadata": {},
   "source": [
    "include but look by hand"
   ]
  },
  {
   "cell_type": "markdown",
   "metadata": {},
   "source": [
    "### Unclassified"
   ]
  },
  {
   "cell_type": "code",
   "execution_count": null,
   "metadata": {},
   "outputs": [],
   "source": [
    "ox.plot_graph_folium(G_highway_types['unclassified'])"
   ]
  },
  {
   "cell_type": "markdown",
   "metadata": {},
   "source": [
    "ignore for now"
   ]
  },
  {
   "cell_type": "markdown",
   "metadata": {},
   "source": [
    "## summary\n",
    "\n",
    "For now, include:\n",
    "* trunk_link\n",
    "* trunk\n",
    "* tertiary\n",
    "* tertiary_link\n",
    "* secondary\n",
    "* residential\n",
    "* primary\n",
    "* primary_link\n",
    "\n"
   ]
  },
  {
   "cell_type": "code",
   "execution_count": 5,
   "metadata": {},
   "outputs": [],
   "source": [
    "cf = '[\"highway\"~\"trunk|trunk_link|tertiary|tertiary_link|secondary|residential|primary|primary_link\"]'\n",
    "G_roads_init = ox.graph.graph_from_place(\"Boston, MA\", network_type=\"walk\", custom_filter=cf)\n"
   ]
  }
 ],
 "metadata": {
  "kernelspec": {
   "display_name": "Python 3",
   "language": "python",
   "name": "python3"
  },
  "language_info": {
   "codemirror_mode": {
    "name": "ipython",
    "version": 3
   },
   "file_extension": ".py",
   "mimetype": "text/x-python",
   "name": "python",
   "nbconvert_exporter": "python",
   "pygments_lexer": "ipython3",
   "version": "3.8.2"
  }
 },
 "nbformat": 4,
 "nbformat_minor": 4
}
