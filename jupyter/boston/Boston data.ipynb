{
 "cells": [
  {
   "cell_type": "code",
   "execution_count": 1,
   "metadata": {},
   "outputs": [],
   "source": [
    "import sidewalkify as swky\n",
    "import osmnx as ox\n",
    "import numpy as np\n",
    "import pandas as pd\n",
    "import networkx as nx\n",
    "import shapely as shapely\n",
    "import geopandas as gpd"
   ]
  },
  {
   "cell_type": "code",
   "execution_count": 2,
   "metadata": {},
   "outputs": [
    {
     "name": "stderr",
     "output_type": "stream",
     "text": [
      "<ipython-input-2-7721cd5e3608>:1: TqdmDeprecationWarning: This function will be removed in tqdm==5.0.0\n",
      "Please use `tqdm.notebook.*` instead of `tqdm._tqdm_notebook.*`\n",
      "  from tqdm._tqdm_notebook import tqdm_notebook\n",
      "/home/adam/.local/lib/python3.8/site-packages/tqdm/std.py:658: FutureWarning: The Panel class is removed from pandas. Accessing it from the top-level namespace will also be removed in the next version\n",
      "  from pandas import Panel\n"
     ]
    }
   ],
   "source": [
    "from tqdm._tqdm_notebook import tqdm_notebook\n",
    "tqdm_notebook.pandas()"
   ]
  },
  {
   "cell_type": "markdown",
   "metadata": {},
   "source": [
    "# Get the initial road map\n",
    "Here's what osmnx thinks of as \"walking\":"
   ]
  },
  {
   "cell_type": "code",
   "execution_count": 3,
   "metadata": {},
   "outputs": [
    {
     "data": {
      "text/plain": [
       "'[\"area\"!~\"yes\"][\"highway\"!~\"cycleway|motor|proposed|construction|abandoned|platform|raceway\"][\"foot\"!~\"no\"][\"service\"!~\"private\"][\"access\"!~\"private\"]'"
      ]
     },
     "execution_count": 3,
     "metadata": {},
     "output_type": "execute_result"
    }
   ],
   "source": [
    "ox.downloader._get_osm_filter(\"walk\")"
   ]
  },
  {
   "cell_type": "markdown",
   "metadata": {},
   "source": [
    "See EDA for our `cf` choices:"
   ]
  },
  {
   "cell_type": "code",
   "execution_count": 4,
   "metadata": {},
   "outputs": [],
   "source": [
    "cf = '[\"highway\"~\"trunk|trunk_link|tertiary|tertiary_link|secondary|residential|primary|primary_link\"]'\n",
    "G_roads_init = ox.graph.graph_from_place(\"Boston, MA\", network_type=\"walk\", custom_filter=cf)\n"
   ]
  },
  {
   "cell_type": "code",
   "execution_count": 8,
   "metadata": {},
   "outputs": [],
   "source": [
    "gdf_roads_init = ox.utils_graph.graph_to_gdfs(G_roads_init)\n"
   ]
  },
  {
   "cell_type": "markdown",
   "metadata": {},
   "source": [
    "# Sidewalkify!"
   ]
  },
  {
   "cell_type": "markdown",
   "metadata": {},
   "source": [
    "## Get into form"
   ]
  },
  {
   "cell_type": "markdown",
   "metadata": {},
   "source": [
    "Try the easiest thing:"
   ]
  },
  {
   "cell_type": "code",
   "execution_count": 9,
   "metadata": {},
   "outputs": [],
   "source": [
    "G_roads_init_proj = ox.project_graph(G_roads_init)"
   ]
  },
  {
   "cell_type": "code",
   "execution_count": 10,
   "metadata": {},
   "outputs": [
    {
     "data": {
      "text/html": [
       "<div>\n",
       "<style scoped>\n",
       "    .dataframe tbody tr th:only-of-type {\n",
       "        vertical-align: middle;\n",
       "    }\n",
       "\n",
       "    .dataframe tbody tr th {\n",
       "        vertical-align: top;\n",
       "    }\n",
       "\n",
       "    .dataframe thead th {\n",
       "        text-align: right;\n",
       "    }\n",
       "</style>\n",
       "<table border=\"1\" class=\"dataframe\">\n",
       "  <thead>\n",
       "    <tr style=\"text-align: right;\">\n",
       "      <th></th>\n",
       "      <th>u</th>\n",
       "      <th>v</th>\n",
       "      <th>key</th>\n",
       "      <th>id</th>\n",
       "      <th>oneway</th>\n",
       "      <th>lanes</th>\n",
       "      <th>name</th>\n",
       "      <th>highway</th>\n",
       "      <th>width</th>\n",
       "      <th>length</th>\n",
       "      <th>...</th>\n",
       "      <th>maxspeed</th>\n",
       "      <th>ref</th>\n",
       "      <th>junction</th>\n",
       "      <th>bridge</th>\n",
       "      <th>tunnel</th>\n",
       "      <th>access</th>\n",
       "      <th>service</th>\n",
       "      <th>area</th>\n",
       "      <th>sw_left</th>\n",
       "      <th>sw_right</th>\n",
       "    </tr>\n",
       "  </thead>\n",
       "  <tbody>\n",
       "    <tr>\n",
       "      <th>0</th>\n",
       "      <td>61341696</td>\n",
       "      <td>61341267</td>\n",
       "      <td>0</td>\n",
       "      <td>8652528</td>\n",
       "      <td>False</td>\n",
       "      <td>2</td>\n",
       "      <td>Park Plaza</td>\n",
       "      <td>secondary</td>\n",
       "      <td>29.9</td>\n",
       "      <td>44.954</td>\n",
       "      <td>...</td>\n",
       "      <td>NaN</td>\n",
       "      <td>NaN</td>\n",
       "      <td>NaN</td>\n",
       "      <td>NaN</td>\n",
       "      <td>NaN</td>\n",
       "      <td>NaN</td>\n",
       "      <td>NaN</td>\n",
       "      <td>NaN</td>\n",
       "      <td>1</td>\n",
       "      <td>1</td>\n",
       "    </tr>\n",
       "    <tr>\n",
       "      <th>1</th>\n",
       "      <td>61341696</td>\n",
       "      <td>61341694</td>\n",
       "      <td>0</td>\n",
       "      <td>8651073</td>\n",
       "      <td>False</td>\n",
       "      <td>2</td>\n",
       "      <td>Park Plaza</td>\n",
       "      <td>secondary</td>\n",
       "      <td>21.3</td>\n",
       "      <td>98.760</td>\n",
       "      <td>...</td>\n",
       "      <td>NaN</td>\n",
       "      <td>NaN</td>\n",
       "      <td>NaN</td>\n",
       "      <td>NaN</td>\n",
       "      <td>NaN</td>\n",
       "      <td>NaN</td>\n",
       "      <td>NaN</td>\n",
       "      <td>NaN</td>\n",
       "      <td>1</td>\n",
       "      <td>1</td>\n",
       "    </tr>\n",
       "    <tr>\n",
       "      <th>2</th>\n",
       "      <td>61341696</td>\n",
       "      <td>61365153</td>\n",
       "      <td>0</td>\n",
       "      <td>426831017</td>\n",
       "      <td>False</td>\n",
       "      <td>2</td>\n",
       "      <td>Columbus Avenue</td>\n",
       "      <td>residential</td>\n",
       "      <td>23.8</td>\n",
       "      <td>26.212</td>\n",
       "      <td>...</td>\n",
       "      <td>NaN</td>\n",
       "      <td>NaN</td>\n",
       "      <td>NaN</td>\n",
       "      <td>NaN</td>\n",
       "      <td>NaN</td>\n",
       "      <td>NaN</td>\n",
       "      <td>NaN</td>\n",
       "      <td>NaN</td>\n",
       "      <td>1</td>\n",
       "      <td>1</td>\n",
       "    </tr>\n",
       "    <tr>\n",
       "      <th>3</th>\n",
       "      <td>61341697</td>\n",
       "      <td>61342333</td>\n",
       "      <td>0</td>\n",
       "      <td>8640801</td>\n",
       "      <td>False</td>\n",
       "      <td>1</td>\n",
       "      <td>Glenville Avenue</td>\n",
       "      <td>residential</td>\n",
       "      <td>12.2</td>\n",
       "      <td>23.799</td>\n",
       "      <td>...</td>\n",
       "      <td>25 mph</td>\n",
       "      <td>NaN</td>\n",
       "      <td>NaN</td>\n",
       "      <td>NaN</td>\n",
       "      <td>NaN</td>\n",
       "      <td>NaN</td>\n",
       "      <td>NaN</td>\n",
       "      <td>NaN</td>\n",
       "      <td>1</td>\n",
       "      <td>1</td>\n",
       "    </tr>\n",
       "    <tr>\n",
       "      <th>4</th>\n",
       "      <td>61341697</td>\n",
       "      <td>61341707</td>\n",
       "      <td>0</td>\n",
       "      <td>8640801</td>\n",
       "      <td>False</td>\n",
       "      <td>1</td>\n",
       "      <td>Glenville Avenue</td>\n",
       "      <td>residential</td>\n",
       "      <td>12.2</td>\n",
       "      <td>72.236</td>\n",
       "      <td>...</td>\n",
       "      <td>25 mph</td>\n",
       "      <td>NaN</td>\n",
       "      <td>NaN</td>\n",
       "      <td>NaN</td>\n",
       "      <td>NaN</td>\n",
       "      <td>NaN</td>\n",
       "      <td>NaN</td>\n",
       "      <td>NaN</td>\n",
       "      <td>1</td>\n",
       "      <td>1</td>\n",
       "    </tr>\n",
       "    <tr>\n",
       "      <th>...</th>\n",
       "      <td>...</td>\n",
       "      <td>...</td>\n",
       "      <td>...</td>\n",
       "      <td>...</td>\n",
       "      <td>...</td>\n",
       "      <td>...</td>\n",
       "      <td>...</td>\n",
       "      <td>...</td>\n",
       "      <td>...</td>\n",
       "      <td>...</td>\n",
       "      <td>...</td>\n",
       "      <td>...</td>\n",
       "      <td>...</td>\n",
       "      <td>...</td>\n",
       "      <td>...</td>\n",
       "      <td>...</td>\n",
       "      <td>...</td>\n",
       "      <td>...</td>\n",
       "      <td>...</td>\n",
       "      <td>...</td>\n",
       "      <td>...</td>\n",
       "    </tr>\n",
       "    <tr>\n",
       "      <th>30335</th>\n",
       "      <td>61341693</td>\n",
       "      <td>61342336</td>\n",
       "      <td>0</td>\n",
       "      <td>591284846</td>\n",
       "      <td>False</td>\n",
       "      <td>2</td>\n",
       "      <td>Faneuil Street</td>\n",
       "      <td>tertiary</td>\n",
       "      <td>14.3</td>\n",
       "      <td>37.354</td>\n",
       "      <td>...</td>\n",
       "      <td>25 mph</td>\n",
       "      <td>NaN</td>\n",
       "      <td>NaN</td>\n",
       "      <td>NaN</td>\n",
       "      <td>NaN</td>\n",
       "      <td>NaN</td>\n",
       "      <td>NaN</td>\n",
       "      <td>NaN</td>\n",
       "      <td>1</td>\n",
       "      <td>1</td>\n",
       "    </tr>\n",
       "    <tr>\n",
       "      <th>30336</th>\n",
       "      <td>61341693</td>\n",
       "      <td>61341816</td>\n",
       "      <td>0</td>\n",
       "      <td>591284848</td>\n",
       "      <td>False</td>\n",
       "      <td>2</td>\n",
       "      <td>Brooks Street</td>\n",
       "      <td>tertiary</td>\n",
       "      <td>NaN</td>\n",
       "      <td>61.641</td>\n",
       "      <td>...</td>\n",
       "      <td>25 mph</td>\n",
       "      <td>NaN</td>\n",
       "      <td>NaN</td>\n",
       "      <td>NaN</td>\n",
       "      <td>NaN</td>\n",
       "      <td>NaN</td>\n",
       "      <td>NaN</td>\n",
       "      <td>NaN</td>\n",
       "      <td>1</td>\n",
       "      <td>1</td>\n",
       "    </tr>\n",
       "    <tr>\n",
       "      <th>30337</th>\n",
       "      <td>61341694</td>\n",
       "      <td>61341696</td>\n",
       "      <td>0</td>\n",
       "      <td>8651073</td>\n",
       "      <td>False</td>\n",
       "      <td>2</td>\n",
       "      <td>Park Plaza</td>\n",
       "      <td>secondary</td>\n",
       "      <td>21.3</td>\n",
       "      <td>98.760</td>\n",
       "      <td>...</td>\n",
       "      <td>NaN</td>\n",
       "      <td>NaN</td>\n",
       "      <td>NaN</td>\n",
       "      <td>NaN</td>\n",
       "      <td>NaN</td>\n",
       "      <td>NaN</td>\n",
       "      <td>NaN</td>\n",
       "      <td>NaN</td>\n",
       "      <td>1</td>\n",
       "      <td>1</td>\n",
       "    </tr>\n",
       "    <tr>\n",
       "      <th>30338</th>\n",
       "      <td>61341694</td>\n",
       "      <td>61366246</td>\n",
       "      <td>0</td>\n",
       "      <td>242652626</td>\n",
       "      <td>False</td>\n",
       "      <td>2</td>\n",
       "      <td>Charles Street South</td>\n",
       "      <td>primary</td>\n",
       "      <td>30.2</td>\n",
       "      <td>81.007</td>\n",
       "      <td>...</td>\n",
       "      <td>NaN</td>\n",
       "      <td>MA 28</td>\n",
       "      <td>NaN</td>\n",
       "      <td>NaN</td>\n",
       "      <td>NaN</td>\n",
       "      <td>NaN</td>\n",
       "      <td>NaN</td>\n",
       "      <td>NaN</td>\n",
       "      <td>1</td>\n",
       "      <td>1</td>\n",
       "    </tr>\n",
       "    <tr>\n",
       "      <th>30339</th>\n",
       "      <td>61341694</td>\n",
       "      <td>2500921856</td>\n",
       "      <td>0</td>\n",
       "      <td>579261235</td>\n",
       "      <td>False</td>\n",
       "      <td>2</td>\n",
       "      <td>Charles Street South</td>\n",
       "      <td>primary</td>\n",
       "      <td>30.2</td>\n",
       "      <td>83.070</td>\n",
       "      <td>...</td>\n",
       "      <td>NaN</td>\n",
       "      <td>MA 28</td>\n",
       "      <td>NaN</td>\n",
       "      <td>NaN</td>\n",
       "      <td>NaN</td>\n",
       "      <td>NaN</td>\n",
       "      <td>NaN</td>\n",
       "      <td>NaN</td>\n",
       "      <td>1</td>\n",
       "      <td>1</td>\n",
       "    </tr>\n",
       "  </tbody>\n",
       "</table>\n",
       "<p>30340 rows × 21 columns</p>\n",
       "</div>"
      ],
      "text/plain": [
       "              u           v  key         id  oneway lanes  \\\n",
       "0      61341696    61341267    0    8652528   False     2   \n",
       "1      61341696    61341694    0    8651073   False     2   \n",
       "2      61341696    61365153    0  426831017   False     2   \n",
       "3      61341697    61342333    0    8640801   False     1   \n",
       "4      61341697    61341707    0    8640801   False     1   \n",
       "...         ...         ...  ...        ...     ...   ...   \n",
       "30335  61341693    61342336    0  591284846   False     2   \n",
       "30336  61341693    61341816    0  591284848   False     2   \n",
       "30337  61341694    61341696    0    8651073   False     2   \n",
       "30338  61341694    61366246    0  242652626   False     2   \n",
       "30339  61341694  2500921856    0  579261235   False     2   \n",
       "\n",
       "                       name      highway width  length  ... maxspeed    ref  \\\n",
       "0                Park Plaza    secondary  29.9  44.954  ...      NaN    NaN   \n",
       "1                Park Plaza    secondary  21.3  98.760  ...      NaN    NaN   \n",
       "2           Columbus Avenue  residential  23.8  26.212  ...      NaN    NaN   \n",
       "3          Glenville Avenue  residential  12.2  23.799  ...   25 mph    NaN   \n",
       "4          Glenville Avenue  residential  12.2  72.236  ...   25 mph    NaN   \n",
       "...                     ...          ...   ...     ...  ...      ...    ...   \n",
       "30335        Faneuil Street     tertiary  14.3  37.354  ...   25 mph    NaN   \n",
       "30336         Brooks Street     tertiary   NaN  61.641  ...   25 mph    NaN   \n",
       "30337            Park Plaza    secondary  21.3  98.760  ...      NaN    NaN   \n",
       "30338  Charles Street South      primary  30.2  81.007  ...      NaN  MA 28   \n",
       "30339  Charles Street South      primary  30.2  83.070  ...      NaN  MA 28   \n",
       "\n",
       "      junction bridge tunnel access service area sw_left  sw_right  \n",
       "0          NaN    NaN    NaN    NaN     NaN  NaN       1         1  \n",
       "1          NaN    NaN    NaN    NaN     NaN  NaN       1         1  \n",
       "2          NaN    NaN    NaN    NaN     NaN  NaN       1         1  \n",
       "3          NaN    NaN    NaN    NaN     NaN  NaN       1         1  \n",
       "4          NaN    NaN    NaN    NaN     NaN  NaN       1         1  \n",
       "...        ...    ...    ...    ...     ...  ...     ...       ...  \n",
       "30335      NaN    NaN    NaN    NaN     NaN  NaN       1         1  \n",
       "30336      NaN    NaN    NaN    NaN     NaN  NaN       1         1  \n",
       "30337      NaN    NaN    NaN    NaN     NaN  NaN       1         1  \n",
       "30338      NaN    NaN    NaN    NaN     NaN  NaN       1         1  \n",
       "30339      NaN    NaN    NaN    NaN     NaN  NaN       1         1  \n",
       "\n",
       "[30340 rows x 21 columns]"
      ]
     },
     "execution_count": 10,
     "metadata": {},
     "output_type": "execute_result"
    }
   ],
   "source": [
    "gdf_roads_init = ox.utils_graph.graph_to_gdfs(G_roads_init_proj)\n",
    "gdf_roads_init[1]['sw_left'] = 1\n",
    "gdf_roads_init[1]['sw_right'] = 1\n",
    "\n",
    "gdf = gdf_roads_init[1]\n",
    "gdf = gdf.rename(columns={'osmid':'id'})\n",
    "gdf\n"
   ]
  },
  {
   "cell_type": "code",
   "execution_count": 11,
   "metadata": {},
   "outputs": [],
   "source": [
    "def fix_list_entries(x):\n",
    "    if type(x) == list:\n",
    "        return x[0]\n",
    "    else:\n",
    "        return x\n",
    "gdf2 = gdf.copy().drop(columns=['width','lanes', 'maxspeed','ref','bridge','access','junction','tunnel','service','area', 'oneway'])\n",
    "\n",
    "gdf2.highway = gdf2.highway.map(fix_list_entries)\n",
    "gdf2.id = gdf2.id.map(fix_list_entries)\n",
    "gdf2.name = gdf2.name.map(fix_list_entries)\n",
    "gdf2.to_file(\"boston_streets_init_1\", driver=\"GeoJSON\")\n",
    "gdf2.to_file(\"boston_streets_init_2\")"
   ]
  },
  {
   "cell_type": "code",
   "execution_count": 17,
   "metadata": {},
   "outputs": [
    {
     "data": {
      "text/html": [
       "<div>\n",
       "<style scoped>\n",
       "    .dataframe tbody tr th:only-of-type {\n",
       "        vertical-align: middle;\n",
       "    }\n",
       "\n",
       "    .dataframe tbody tr th {\n",
       "        vertical-align: top;\n",
       "    }\n",
       "\n",
       "    .dataframe thead th {\n",
       "        text-align: right;\n",
       "    }\n",
       "</style>\n",
       "<table border=\"1\" class=\"dataframe\">\n",
       "  <thead>\n",
       "    <tr style=\"text-align: right;\">\n",
       "      <th></th>\n",
       "      <th>u</th>\n",
       "      <th>v</th>\n",
       "      <th>key</th>\n",
       "      <th>id</th>\n",
       "      <th>name</th>\n",
       "      <th>highway</th>\n",
       "      <th>length</th>\n",
       "      <th>geometry</th>\n",
       "      <th>sw_left</th>\n",
       "      <th>sw_right</th>\n",
       "    </tr>\n",
       "  </thead>\n",
       "  <tbody>\n",
       "    <tr>\n",
       "      <th>0</th>\n",
       "      <td>61341696</td>\n",
       "      <td>61341267</td>\n",
       "      <td>0</td>\n",
       "      <td>8652528</td>\n",
       "      <td>Park Plaza</td>\n",
       "      <td>secondary</td>\n",
       "      <td>44.954</td>\n",
       "      <td>LINESTRING (329642.117 4690896.342, 329598.118...</td>\n",
       "      <td>1</td>\n",
       "      <td>1</td>\n",
       "    </tr>\n",
       "    <tr>\n",
       "      <th>1</th>\n",
       "      <td>61341696</td>\n",
       "      <td>61341694</td>\n",
       "      <td>0</td>\n",
       "      <td>8651073</td>\n",
       "      <td>Park Plaza</td>\n",
       "      <td>secondary</td>\n",
       "      <td>98.760</td>\n",
       "      <td>LINESTRING (329642.117 4690896.342, 329649.142...</td>\n",
       "      <td>1</td>\n",
       "      <td>1</td>\n",
       "    </tr>\n",
       "    <tr>\n",
       "      <th>2</th>\n",
       "      <td>61341696</td>\n",
       "      <td>61365153</td>\n",
       "      <td>0</td>\n",
       "      <td>426831017</td>\n",
       "      <td>Columbus Avenue</td>\n",
       "      <td>residential</td>\n",
       "      <td>26.212</td>\n",
       "      <td>LINESTRING (329642.117 4690896.342, 329643.924...</td>\n",
       "      <td>1</td>\n",
       "      <td>1</td>\n",
       "    </tr>\n",
       "    <tr>\n",
       "      <th>3</th>\n",
       "      <td>61341697</td>\n",
       "      <td>61342333</td>\n",
       "      <td>0</td>\n",
       "      <td>8640801</td>\n",
       "      <td>Glenville Avenue</td>\n",
       "      <td>residential</td>\n",
       "      <td>23.799</td>\n",
       "      <td>LINESTRING (324297.700 4690875.726, 324277.836...</td>\n",
       "      <td>1</td>\n",
       "      <td>1</td>\n",
       "    </tr>\n",
       "    <tr>\n",
       "      <th>4</th>\n",
       "      <td>61341697</td>\n",
       "      <td>61341707</td>\n",
       "      <td>0</td>\n",
       "      <td>8640801</td>\n",
       "      <td>Glenville Avenue</td>\n",
       "      <td>residential</td>\n",
       "      <td>72.236</td>\n",
       "      <td>LINESTRING (324297.700 4690875.726, 324324.209...</td>\n",
       "      <td>1</td>\n",
       "      <td>1</td>\n",
       "    </tr>\n",
       "    <tr>\n",
       "      <th>...</th>\n",
       "      <td>...</td>\n",
       "      <td>...</td>\n",
       "      <td>...</td>\n",
       "      <td>...</td>\n",
       "      <td>...</td>\n",
       "      <td>...</td>\n",
       "      <td>...</td>\n",
       "      <td>...</td>\n",
       "      <td>...</td>\n",
       "      <td>...</td>\n",
       "    </tr>\n",
       "    <tr>\n",
       "      <th>30335</th>\n",
       "      <td>61341693</td>\n",
       "      <td>61342336</td>\n",
       "      <td>0</td>\n",
       "      <td>591284846</td>\n",
       "      <td>Faneuil Street</td>\n",
       "      <td>tertiary</td>\n",
       "      <td>37.354</td>\n",
       "      <td>LINESTRING (321838.540 4691170.987, 321801.767...</td>\n",
       "      <td>1</td>\n",
       "      <td>1</td>\n",
       "    </tr>\n",
       "    <tr>\n",
       "      <th>30336</th>\n",
       "      <td>61341693</td>\n",
       "      <td>61341816</td>\n",
       "      <td>0</td>\n",
       "      <td>591284848</td>\n",
       "      <td>Brooks Street</td>\n",
       "      <td>tertiary</td>\n",
       "      <td>61.641</td>\n",
       "      <td>LINESTRING (321838.540 4691170.987, 321845.783...</td>\n",
       "      <td>1</td>\n",
       "      <td>1</td>\n",
       "    </tr>\n",
       "    <tr>\n",
       "      <th>30337</th>\n",
       "      <td>61341694</td>\n",
       "      <td>61341696</td>\n",
       "      <td>0</td>\n",
       "      <td>8651073</td>\n",
       "      <td>Park Plaza</td>\n",
       "      <td>secondary</td>\n",
       "      <td>98.760</td>\n",
       "      <td>LINESTRING (329739.690 4690908.346, 329734.232...</td>\n",
       "      <td>1</td>\n",
       "      <td>1</td>\n",
       "    </tr>\n",
       "    <tr>\n",
       "      <th>30338</th>\n",
       "      <td>61341694</td>\n",
       "      <td>61366246</td>\n",
       "      <td>0</td>\n",
       "      <td>242652626</td>\n",
       "      <td>Charles Street South</td>\n",
       "      <td>primary</td>\n",
       "      <td>81.007</td>\n",
       "      <td>LINESTRING (329739.690 4690908.346, 329727.484...</td>\n",
       "      <td>1</td>\n",
       "      <td>1</td>\n",
       "    </tr>\n",
       "    <tr>\n",
       "      <th>30339</th>\n",
       "      <td>61341694</td>\n",
       "      <td>2500921856</td>\n",
       "      <td>0</td>\n",
       "      <td>579261235</td>\n",
       "      <td>Charles Street South</td>\n",
       "      <td>primary</td>\n",
       "      <td>83.070</td>\n",
       "      <td>LINESTRING (329739.690 4690908.346, 329749.761...</td>\n",
       "      <td>1</td>\n",
       "      <td>1</td>\n",
       "    </tr>\n",
       "  </tbody>\n",
       "</table>\n",
       "<p>30340 rows × 10 columns</p>\n",
       "</div>"
      ],
      "text/plain": [
       "              u           v  key         id                  name  \\\n",
       "0      61341696    61341267    0    8652528            Park Plaza   \n",
       "1      61341696    61341694    0    8651073            Park Plaza   \n",
       "2      61341696    61365153    0  426831017       Columbus Avenue   \n",
       "3      61341697    61342333    0    8640801      Glenville Avenue   \n",
       "4      61341697    61341707    0    8640801      Glenville Avenue   \n",
       "...         ...         ...  ...        ...                   ...   \n",
       "30335  61341693    61342336    0  591284846        Faneuil Street   \n",
       "30336  61341693    61341816    0  591284848         Brooks Street   \n",
       "30337  61341694    61341696    0    8651073            Park Plaza   \n",
       "30338  61341694    61366246    0  242652626  Charles Street South   \n",
       "30339  61341694  2500921856    0  579261235  Charles Street South   \n",
       "\n",
       "           highway  length                                           geometry  \\\n",
       "0        secondary  44.954  LINESTRING (329642.117 4690896.342, 329598.118...   \n",
       "1        secondary  98.760  LINESTRING (329642.117 4690896.342, 329649.142...   \n",
       "2      residential  26.212  LINESTRING (329642.117 4690896.342, 329643.924...   \n",
       "3      residential  23.799  LINESTRING (324297.700 4690875.726, 324277.836...   \n",
       "4      residential  72.236  LINESTRING (324297.700 4690875.726, 324324.209...   \n",
       "...            ...     ...                                                ...   \n",
       "30335     tertiary  37.354  LINESTRING (321838.540 4691170.987, 321801.767...   \n",
       "30336     tertiary  61.641  LINESTRING (321838.540 4691170.987, 321845.783...   \n",
       "30337    secondary  98.760  LINESTRING (329739.690 4690908.346, 329734.232...   \n",
       "30338      primary  81.007  LINESTRING (329739.690 4690908.346, 329727.484...   \n",
       "30339      primary  83.070  LINESTRING (329739.690 4690908.346, 329749.761...   \n",
       "\n",
       "       sw_left  sw_right  \n",
       "0            1         1  \n",
       "1            1         1  \n",
       "2            1         1  \n",
       "3            1         1  \n",
       "4            1         1  \n",
       "...        ...       ...  \n",
       "30335        1         1  \n",
       "30336        1         1  \n",
       "30337        1         1  \n",
       "30338        1         1  \n",
       "30339        1         1  \n",
       "\n",
       "[30340 rows x 10 columns]"
      ]
     },
     "execution_count": 17,
     "metadata": {},
     "output_type": "execute_result"
    }
   ],
   "source": [
    "gdf2"
   ]
  },
  {
   "cell_type": "code",
   "execution_count": 9,
   "metadata": {
    "scrolled": true
   },
   "outputs": [
    {
     "name": "stdout",
     "output_type": "stream",
     "text": [
      "maxspeed\n"
     ]
    },
    {
     "ename": "NameError",
     "evalue": "name 'gdf2' is not defined",
     "output_type": "error",
     "traceback": [
      "\u001b[0;31m---------------------------------------------------------------------------\u001b[0m",
      "\u001b[0;31mNameError\u001b[0m                                 Traceback (most recent call last)",
      "\u001b[0;32m<ipython-input-9-52709badfa50>\u001b[0m in \u001b[0;36m<module>\u001b[0;34m\u001b[0m\n\u001b[1;32m      3\u001b[0m        'sw_left', 'sw_right']:\n\u001b[1;32m      4\u001b[0m     \u001b[0mprint\u001b[0m\u001b[0;34m(\u001b[0m\u001b[0mcolumn\u001b[0m\u001b[0;34m)\u001b[0m\u001b[0;34m\u001b[0m\u001b[0;34m\u001b[0m\u001b[0m\n\u001b[0;32m----> 5\u001b[0;31m     \u001b[0mprint\u001b[0m\u001b[0;34m(\u001b[0m\u001b[0mlen\u001b[0m\u001b[0;34m(\u001b[0m\u001b[0mgdf2\u001b[0m\u001b[0;34m[\u001b[0m\u001b[0mgdf2\u001b[0m\u001b[0;34m[\u001b[0m\u001b[0mcolumn\u001b[0m\u001b[0;34m]\u001b[0m\u001b[0;34m.\u001b[0m\u001b[0mmap\u001b[0m\u001b[0;34m(\u001b[0m\u001b[0mtype\u001b[0m\u001b[0;34m)\u001b[0m \u001b[0;34m==\u001b[0m \u001b[0mlist\u001b[0m\u001b[0;34m]\u001b[0m\u001b[0;34m)\u001b[0m\u001b[0;34m)\u001b[0m\u001b[0;34m\u001b[0m\u001b[0;34m\u001b[0m\u001b[0m\n\u001b[0m",
      "\u001b[0;31mNameError\u001b[0m: name 'gdf2' is not defined"
     ]
    }
   ],
   "source": [
    "for column in ['maxspeed',\n",
    "       'ref', 'junction', 'bridge', 'tunnel', 'access', 'service', 'area',\n",
    "       'sw_left', 'sw_right']:\n",
    "    print(column)\n",
    "    print(len(gdf2[gdf2[column].map(type) == list]))"
   ]
  },
  {
   "cell_type": "code",
   "execution_count": null,
   "metadata": {},
   "outputs": [],
   "source": [
    "list(list(gdf2.values)[25][6].coords)"
   ]
  },
  {
   "cell_type": "code",
   "execution_count": null,
   "metadata": {},
   "outputs": [],
   "source": [
    "sidewalk_graph_init = swky.graph.create_graph(gdf)\n",
    "sidewalk_graph_init.edges"
   ]
  },
  {
   "cell_type": "code",
   "execution_count": null,
   "metadata": {},
   "outputs": [],
   "source": [
    "[((a,b),(c,d)) for ((a,b),(c,d)) in sidewalk_graph_init.edges if a is None or b is None or c is None or d is None]"
   ]
  },
  {
   "cell_type": "code",
   "execution_count": null,
   "metadata": {},
   "outputs": [],
   "source": [
    "paths = swky.graph.graph_workflow(gdf)"
   ]
  },
  {
   "cell_type": "code",
   "execution_count": null,
   "metadata": {},
   "outputs": [],
   "source": [
    "drawing = swky.draw.draw_sidewalks(paths, crs=gdf.crs)"
   ]
  },
  {
   "cell_type": "code",
   "execution_count": null,
   "metadata": {},
   "outputs": [],
   "source": [
    "# need to add points to gdf_roads_init[0]!\n",
    "# can start indexing from 0\n",
    "points = drawing.geometry\n",
    "points = points.map(lambda x : x.coords).explode()"
   ]
  },
  {
   "cell_type": "code",
   "execution_count": null,
   "metadata": {},
   "outputs": [],
   "source": [
    "xs = list(points.map(lambda x : x[0]))\n",
    "ys = list(points.map(lambda x : x[1]))\n",
    "df = pd.DataFrame({'y':ys, 'x':xs, 'id':range(len(xs))})"
   ]
  },
  {
   "cell_type": "code",
   "execution_count": null,
   "metadata": {},
   "outputs": [],
   "source": [
    "gdf_new_pts = gpd.GeoDataFrame(df, geometry=gpd.points_from_xy(xs,ys))\n",
    "gdf_new_pts['highway'] = np.NaN"
   ]
  },
  {
   "cell_type": "code",
   "execution_count": null,
   "metadata": {},
   "outputs": [],
   "source": [
    "gdf_new_pts"
   ]
  },
  {
   "cell_type": "code",
   "execution_count": null,
   "metadata": {},
   "outputs": [],
   "source": [
    "gdf_new_pts.crs=\"EPSG:26918\"\n",
    "gdf_new_pts"
   ]
  },
  {
   "cell_type": "code",
   "execution_count": null,
   "metadata": {},
   "outputs": [],
   "source": [
    "gdf_roads_init[0]"
   ]
  },
  {
   "cell_type": "code",
   "execution_count": null,
   "metadata": {},
   "outputs": [],
   "source": [
    "all_pts = gpd.GeoDataFrame(pd.concat([gdf_new_pts.rename(columns={'id':'osmid'}), gdf_roads_init[0]], ignore_index=True,sort=True), crs=gdf_new_pts.crs)"
   ]
  },
  {
   "cell_type": "code",
   "execution_count": null,
   "metadata": {},
   "outputs": [],
   "source": [
    "all_pts_series = all_pts.drop(columns=['highway','lat','lon','x','y']).set_index('osmid')\n",
    "all_coords_series = all_pts_series.geometry.map(lambda x : tuple(x.coords))\n"
   ]
  },
  {
   "cell_type": "code",
   "execution_count": null,
   "metadata": {},
   "outputs": [],
   "source": [
    "inv_all_coords = dict((v,k) for k,v in all_coords_series.iteritems())\n"
   ]
  },
  {
   "cell_type": "code",
   "execution_count": null,
   "metadata": {},
   "outputs": [],
   "source": [
    "drawing['points'] = drawing.geometry.map(lambda x : x.coords).map(lambda ps : [ps[0],ps[1]])"
   ]
  },
  {
   "cell_type": "code",
   "execution_count": null,
   "metadata": {},
   "outputs": [],
   "source": [
    "drawing['u'] = drawing['points'].map(lambda x : x[0])\n",
    "drawing['v'] = drawing['points'].map(lambda x : x[1])"
   ]
  },
  {
   "cell_type": "code",
   "execution_count": null,
   "metadata": {},
   "outputs": [],
   "source": [
    "drawing['u_x'] = drawing['u'].map(lambda p : p[0])\n",
    "drawing['v_x'] = drawing['v'].map(lambda p : p[0])\n",
    "drawing['u_y'] = drawing['u'].map(lambda p : p[1])\n",
    "drawing['v_y'] = drawing['v'].map(lambda p : p[1])"
   ]
  },
  {
   "cell_type": "code",
   "execution_count": null,
   "metadata": {},
   "outputs": [],
   "source": [
    "drawing['u'] = gpd.points_from_xy(drawing['u_x'],drawing['u_y'])\n",
    "drawing['v'] = gpd.points_from_xy(drawing['v_x'],drawing['v_y'])"
   ]
  },
  {
   "cell_type": "code",
   "execution_count": null,
   "metadata": {},
   "outputs": [],
   "source": [
    "drawing = drawing.drop(columns=['u_x','u_y','v_x','v_y'])"
   ]
  },
  {
   "cell_type": "code",
   "execution_count": null,
   "metadata": {},
   "outputs": [],
   "source": [
    "drawing['u'] = drawing['u'].map(lambda x : inv_all_coords[tuple(x.coords)])\n",
    "drawing['v'] = drawing['v'].map(lambda x : inv_all_coords[tuple(x.coords)])"
   ]
  },
  {
   "cell_type": "code",
   "execution_count": null,
   "metadata": {},
   "outputs": [],
   "source": [
    "drawing = drawing.drop(columns='points')\n"
   ]
  },
  {
   "cell_type": "code",
   "execution_count": null,
   "metadata": {},
   "outputs": [],
   "source": [
    "# 1 for sidewalk?\n",
    "drawing['key'] = 1"
   ]
  },
  {
   "cell_type": "code",
   "execution_count": null,
   "metadata": {},
   "outputs": [],
   "source": [
    "all_pts.crs"
   ]
  },
  {
   "cell_type": "code",
   "execution_count": null,
   "metadata": {},
   "outputs": [],
   "source": [
    "print(drawing.geometry)\n",
    "print(gdf.geometry)\n",
    "print(gdf.crs)"
   ]
  },
  {
   "cell_type": "code",
   "execution_count": null,
   "metadata": {},
   "outputs": [],
   "source": [
    "streets_and_sidewalks = gpd.GeoDataFrame(pd.concat([drawing,gdf], ignore_index=True, sort=False), crs=gdf.crs)\n",
    "just_sidewalks = gpd.GeoDataFrame(drawing, crs=gdf.crs)\n",
    "\n",
    "streets_and_sidewalks['osmid'] = streets_and_sidewalks['id']\n",
    "\n",
    "streets_and_sidewalks = streets_and_sidewalks.to_crs(\"epsg:4326\")\n",
    "just_sidewalks = just_sidewalks.to_crs(\"epsg:4326\")\n",
    "\n",
    "streets_and_sidewalks_and_nodes = ox.utils_graph.graph_from_gdfs(all_pts, streets_and_sidewalks)\n",
    "just_sidewalks_and_nodes = ox.utils_graph.graph_from_gdfs(all_pts, just_sidewalks)"
   ]
  },
  {
   "cell_type": "code",
   "execution_count": null,
   "metadata": {},
   "outputs": [],
   "source": [
    "ox.io.save_graph_shapefile(streets_and_sidewalks_and_nodes, \"boston_sidewalks_streets_init\")\n",
    "ox.io.save_graph_shapefile(just_sidewalks_and_nodes, \"boston_just_sidewalks_init\")"
   ]
  },
  {
   "cell_type": "code",
   "execution_count": null,
   "metadata": {},
   "outputs": [],
   "source": []
  }
 ],
 "metadata": {
  "kernelspec": {
   "display_name": "Python 3",
   "language": "python",
   "name": "python3"
  },
  "language_info": {
   "codemirror_mode": {
    "name": "ipython",
    "version": 3
   },
   "file_extension": ".py",
   "mimetype": "text/x-python",
   "name": "python",
   "nbconvert_exporter": "python",
   "pygments_lexer": "ipython3",
   "version": "3.7.6"
  }
 },
 "nbformat": 4,
 "nbformat_minor": 4
}
