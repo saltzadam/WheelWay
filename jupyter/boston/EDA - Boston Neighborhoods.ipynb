{
 "cells": [
  {
   "cell_type": "code",
   "execution_count": 1,
   "metadata": {},
   "outputs": [],
   "source": [
    "elderly_n = {\n",
    "    'Allston': 724,\n",
    "    'Back Bay': 2641,\n",
    "    'Beacon Hill': 1094,\n",
    "    'Brighton': 5810,\n",
    "    'Charlestown': 1768,\n",
    "    'Dorchester': 12225,\n",
    "    'Downtown': 2441,\n",
    "    'East Boston': 4067,\n",
    "    'Fenway': 1450,\n",
    "    'Harbor Islands': 38,\n",
    "    'Hyde Park': 4947,\n",
    "    'Jamaica Plain': 4176,\n",
    "    'Longwood Medical District': 41,\n",
    "    'Mattapan': 3160,\n",
    "    'Mission Hill': 1827,\n",
    "    'North End': 1172,\n",
    "    'Roslindale': 3497,\n",
    "    'Roxbury': 5316,\n",
    "    'South Boston Waterfront': 196,\n",
    "    'South Boston': 3153,\n",
    "    'South End': 3745,\n",
    "    'West End': 823,\n",
    "    'West Roxbury': 5967\n",
    "}"
   ]
  },
  {
   "cell_type": "code",
   "execution_count": 8,
   "metadata": {},
   "outputs": [],
   "source": [
    "area_sq_mi = {\n",
    "    'Allston': 1.56,\n",
    "    'Back Bay': .62,\n",
    "    'Beacon Hill': 0.31,\n",
    "    'Brighton': 2.88,\n",
    "    'Charlestown': 1.36,\n",
    "    'Dorchester': 7.29,\n",
    "    'Downtown': 0.62,\n",
    "    'East Boston': 4.71,\n",
    "    'Fenway': 0.88,\n",
    "    'Harbor Islands': 1.29,\n",
    "    'Hyde Park': 4.57,\n",
    "    'Jamaica Plain': 3.94,\n",
    "    'Longwood Medical District': 0.29,\n",
    "    'Mattapan': 2.11,\n",
    "    'Mission Hill': 0.55,\n",
    "    'North End': 0.2,\n",
    "    'Roslindale': 2.51,\n",
    "    'Roxbury': 3.29,\n",
    "    'South Boston Waterfront': 0.97,\n",
    "    'South Boston': 2.25,\n",
    "    'South End': 0.74,\n",
    "    'West End': 0.3,\n",
    "    'West Roxbury': 5.49\n",
    "}"
   ]
  },
  {
   "cell_type": "code",
   "execution_count": 9,
   "metadata": {},
   "outputs": [],
   "source": [
    "elders_per_sq_mi = {nbhd: elderly_n[nbhd]/area_sq_mi[nbhd] for nbhd in area_sq_mi}"
   ]
  },
  {
   "cell_type": "code",
   "execution_count": 10,
   "metadata": {},
   "outputs": [
    {
     "data": {
      "text/plain": [
       "{'Allston': 1029.4871794871794,\n",
       " 'Back Bay': 4861.290322580645,\n",
       " 'Beacon Hill': 4567.741935483871,\n",
       " 'Brighton': 2169.4444444444443,\n",
       " 'Charlestown': 1811.7647058823527,\n",
       " 'Dorchester': 2175.582990397805,\n",
       " 'Downtown': 3067.741935483871,\n",
       " 'East Boston': 1031.8471337579617,\n",
       " 'Fenway': 2223.8636363636365,\n",
       " 'Harbor Islands': 36.434108527131784,\n",
       " 'Hyde Park': 1224.945295404814,\n",
       " 'Jamaica Plain': 1523.8578680203045,\n",
       " 'Longwood Medical District': 100.0,\n",
       " 'Mattapan': 1891.9431279620853,\n",
       " 'Mission Hill': 3618.181818181818,\n",
       " 'North End': 8715.0,\n",
       " 'Roslindale': 1926.6932270916336,\n",
       " 'Roxbury': 2000.303951367781,\n",
       " 'South Boston Waterfront': 149.48453608247422,\n",
       " 'South Boston': 1989.7777777777778,\n",
       " 'South End': 5206.756756756757,\n",
       " 'West End': 2993.3333333333335,\n",
       " 'West Roxbury': 1321.311475409836}"
      ]
     },
     "execution_count": 10,
     "metadata": {},
     "output_type": "execute_result"
    }
   ],
   "source": [
    "elders_per_sq_mi"
   ]
  },
  {
   "cell_type": "code",
   "execution_count": 11,
   "metadata": {},
   "outputs": [
    {
     "ename": "AttributeError",
     "evalue": "'dict' object has no attribute 'sort'",
     "output_type": "error",
     "traceback": [
      "\u001b[0;31m--------------------------------------------------\u001b[0m",
      "\u001b[0;31mAttributeError\u001b[0m   Traceback (most recent call last)",
      "\u001b[0;32m<ipython-input-11-480491deec9a>\u001b[0m in \u001b[0;36m<module>\u001b[0;34m\u001b[0m\n\u001b[0;32m----> 1\u001b[0;31m \u001b[0melders_per_sq_mi\u001b[0m\u001b[0;34m.\u001b[0m\u001b[0msort\u001b[0m\u001b[0;34m(\u001b[0m\u001b[0;34m)\u001b[0m\u001b[0;34m\u001b[0m\u001b[0;34m\u001b[0m\u001b[0m\n\u001b[0m",
      "\u001b[0;31mAttributeError\u001b[0m: 'dict' object has no attribute 'sort'"
     ]
    }
   ],
   "source": [
    "elders_per_sq_mi.sort()"
   ]
  },
  {
   "cell_type": "code",
   "execution_count": 12,
   "metadata": {},
   "outputs": [
    {
     "data": {
      "text/plain": [
       "'North End'"
      ]
     },
     "execution_count": 12,
     "metadata": {},
     "output_type": "execute_result"
    }
   ],
   "source": [
    "max(elders_per_sq_mi, key = elders_per_sq_mi.get)"
   ]
  },
  {
   "cell_type": "code",
   "execution_count": 26,
   "metadata": {},
   "outputs": [],
   "source": [
    "nbhds = list(elders_per_sq_mi.keys())"
   ]
  },
  {
   "cell_type": "code",
   "execution_count": 28,
   "metadata": {},
   "outputs": [
    {
     "name": "stdout",
     "output_type": "stream",
     "text": [
      "None\n"
     ]
    }
   ],
   "source": [
    "print(nbhds.sort())"
   ]
  },
  {
   "cell_type": "code",
   "execution_count": 35,
   "metadata": {},
   "outputs": [
    {
     "data": {
      "text/plain": [
       "['Harbor Islands',\n",
       " 'Longwood Medical District',\n",
       " 'South Boston Waterfront',\n",
       " 'Allston',\n",
       " 'East Boston',\n",
       " 'Hyde Park',\n",
       " 'West Roxbury',\n",
       " 'Jamaica Plain',\n",
       " 'Charlestown',\n",
       " 'Mattapan',\n",
       " 'Roslindale',\n",
       " 'South Boston',\n",
       " 'Roxbury',\n",
       " 'Brighton',\n",
       " 'Dorchester',\n",
       " 'Fenway',\n",
       " 'West End',\n",
       " 'Downtown',\n",
       " 'Mission Hill',\n",
       " 'Beacon Hill',\n",
       " 'Back Bay',\n",
       " 'South End',\n",
       " 'North End']"
      ]
     },
     "execution_count": 35,
     "metadata": {},
     "output_type": "execute_result"
    }
   ],
   "source": [
    "sorted(nbhds, key = elders_per_sq_mi.get)"
   ]
  },
  {
   "cell_type": "code",
   "execution_count": 36,
   "metadata": {},
   "outputs": [
    {
     "data": {
      "text/plain": [
       "2169.4444444444443"
      ]
     },
     "execution_count": 36,
     "metadata": {},
     "output_type": "execute_result"
    }
   ],
   "source": [
    "elders_per_sq_mi.get('Brighton')"
   ]
  },
  {
   "cell_type": "markdown",
   "metadata": {},
   "source": [
    "Brighton: reasonable number and density\n",
    "highest (?) with no english\n",
    "third with <20k (2010)"
   ]
  }
 ],
 "metadata": {
  "kernelspec": {
   "display_name": "Python 3",
   "language": "python",
   "name": "python3"
  },
  "language_info": {
   "codemirror_mode": {
    "name": "ipython",
    "version": 3
   },
   "file_extension": ".py",
   "mimetype": "text/x-python",
   "name": "python",
   "nbconvert_exporter": "python",
   "pygments_lexer": "ipython3",
   "version": "3.8.2"
  }
 },
 "nbformat": 4,
 "nbformat_minor": 4
}
