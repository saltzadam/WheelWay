{
 "cells": [
  {
   "cell_type": "code",
   "execution_count": 70,
   "metadata": {},
   "outputs": [],
   "source": [
    "import osmnx as ox\n",
    "import geopandas as gp\n",
    "import rasterio as ro\n",
    "from matplotlib import pyplot\n",
    "import seaborn as sea\n",
    "import numpy as np\n",
    "import math"
   ]
  },
  {
   "cell_type": "code",
   "execution_count": 2,
   "metadata": {},
   "outputs": [],
   "source": [
    "G = ox.graph_from_place(\"Washington\", which_result=2)"
   ]
  },
  {
   "cell_type": "code",
   "execution_count": 3,
   "metadata": {},
   "outputs": [],
   "source": [
    "G_proj = ox.project_graph(G)\n",
    "gdf_proj = ox.graph_to_gdfs(G_proj, edges=True)"
   ]
  },
  {
   "cell_type": "code",
   "execution_count": 4,
   "metadata": {},
   "outputs": [],
   "source": [
    "gdf_proj_small = gdf_proj[1].drop(columns=['name','service','access','lanes','ref','maxspeed','tunnel','bridge','junction','width','area'])"
   ]
  },
  {
   "cell_type": "code",
   "execution_count": 5,
   "metadata": {},
   "outputs": [
    {
     "data": {
      "text/html": [
       "<div>\n",
       "<style scoped>\n",
       "    .dataframe tbody tr th:only-of-type {\n",
       "        vertical-align: middle;\n",
       "    }\n",
       "\n",
       "    .dataframe tbody tr th {\n",
       "        vertical-align: top;\n",
       "    }\n",
       "\n",
       "    .dataframe thead th {\n",
       "        text-align: right;\n",
       "    }\n",
       "</style>\n",
       "<table border=\"1\" class=\"dataframe\">\n",
       "  <thead>\n",
       "    <tr style=\"text-align: right;\">\n",
       "      <th></th>\n",
       "      <th>u</th>\n",
       "      <th>v</th>\n",
       "      <th>key</th>\n",
       "      <th>osmid</th>\n",
       "      <th>highway</th>\n",
       "      <th>oneway</th>\n",
       "      <th>length</th>\n",
       "      <th>geometry</th>\n",
       "    </tr>\n",
       "  </thead>\n",
       "  <tbody>\n",
       "    <tr>\n",
       "      <th>0</th>\n",
       "      <td>2039087104</td>\n",
       "      <td>2039087110</td>\n",
       "      <td>0</td>\n",
       "      <td>193399558</td>\n",
       "      <td>footway</td>\n",
       "      <td>False</td>\n",
       "      <td>12.533</td>\n",
       "      <td>LINESTRING (325018.628 4307295.052, 325029.333...</td>\n",
       "    </tr>\n",
       "    <tr>\n",
       "      <th>1</th>\n",
       "      <td>2039087104</td>\n",
       "      <td>2039087094</td>\n",
       "      <td>0</td>\n",
       "      <td>777488803</td>\n",
       "      <td>footway</td>\n",
       "      <td>False</td>\n",
       "      <td>6.807</td>\n",
       "      <td>LINESTRING (325018.628 4307295.052, 325014.293...</td>\n",
       "    </tr>\n",
       "    <tr>\n",
       "      <th>2</th>\n",
       "      <td>2039087104</td>\n",
       "      <td>6312468182</td>\n",
       "      <td>0</td>\n",
       "      <td>193399558</td>\n",
       "      <td>footway</td>\n",
       "      <td>False</td>\n",
       "      <td>16.527</td>\n",
       "      <td>LINESTRING (325018.628 4307295.052, 325016.268...</td>\n",
       "    </tr>\n",
       "    <tr>\n",
       "      <th>3</th>\n",
       "      <td>2039087105</td>\n",
       "      <td>2039087117</td>\n",
       "      <td>0</td>\n",
       "      <td>193399558</td>\n",
       "      <td>footway</td>\n",
       "      <td>False</td>\n",
       "      <td>11.744</td>\n",
       "      <td>LINESTRING (325052.454 4307294.770, 325042.627...</td>\n",
       "    </tr>\n",
       "    <tr>\n",
       "      <th>4</th>\n",
       "      <td>2039087105</td>\n",
       "      <td>2039087050</td>\n",
       "      <td>0</td>\n",
       "      <td>193399562</td>\n",
       "      <td>footway</td>\n",
       "      <td>False</td>\n",
       "      <td>7.305</td>\n",
       "      <td>LINESTRING (325052.454 4307294.770, 325058.085...</td>\n",
       "    </tr>\n",
       "    <tr>\n",
       "      <th>...</th>\n",
       "      <td>...</td>\n",
       "      <td>...</td>\n",
       "      <td>...</td>\n",
       "      <td>...</td>\n",
       "      <td>...</td>\n",
       "      <td>...</td>\n",
       "      <td>...</td>\n",
       "      <td>...</td>\n",
       "    </tr>\n",
       "    <tr>\n",
       "      <th>119517</th>\n",
       "      <td>2039087100</td>\n",
       "      <td>2039087102</td>\n",
       "      <td>0</td>\n",
       "      <td>193399558</td>\n",
       "      <td>footway</td>\n",
       "      <td>False</td>\n",
       "      <td>7.142</td>\n",
       "      <td>LINESTRING (325034.118 4307204.091, 325041.047...</td>\n",
       "    </tr>\n",
       "    <tr>\n",
       "      <th>119518</th>\n",
       "      <td>2039087100</td>\n",
       "      <td>2039087118</td>\n",
       "      <td>0</td>\n",
       "      <td>193399558</td>\n",
       "      <td>footway</td>\n",
       "      <td>False</td>\n",
       "      <td>7.188</td>\n",
       "      <td>LINESTRING (325034.118 4307204.091, 325027.109...</td>\n",
       "    </tr>\n",
       "    <tr>\n",
       "      <th>119519</th>\n",
       "      <td>2039087102</td>\n",
       "      <td>2039087099</td>\n",
       "      <td>0</td>\n",
       "      <td>193399548</td>\n",
       "      <td>footway</td>\n",
       "      <td>False</td>\n",
       "      <td>26.465</td>\n",
       "      <td>LINESTRING (325041.047 4307205.881, 325041.467...</td>\n",
       "    </tr>\n",
       "    <tr>\n",
       "      <th>119520</th>\n",
       "      <td>2039087102</td>\n",
       "      <td>2039087100</td>\n",
       "      <td>0</td>\n",
       "      <td>193399558</td>\n",
       "      <td>footway</td>\n",
       "      <td>False</td>\n",
       "      <td>7.142</td>\n",
       "      <td>LINESTRING (325041.047 4307205.881, 325034.118...</td>\n",
       "    </tr>\n",
       "    <tr>\n",
       "      <th>119521</th>\n",
       "      <td>2039087102</td>\n",
       "      <td>2039087111</td>\n",
       "      <td>0</td>\n",
       "      <td>193399558</td>\n",
       "      <td>footway</td>\n",
       "      <td>False</td>\n",
       "      <td>11.039</td>\n",
       "      <td>LINESTRING (325041.047 4307205.881, 325045.398...</td>\n",
       "    </tr>\n",
       "  </tbody>\n",
       "</table>\n",
       "<p>119522 rows × 8 columns</p>\n",
       "</div>"
      ],
      "text/plain": [
       "                 u           v  key      osmid  highway oneway  length  \\\n",
       "0       2039087104  2039087110    0  193399558  footway  False  12.533   \n",
       "1       2039087104  2039087094    0  777488803  footway  False   6.807   \n",
       "2       2039087104  6312468182    0  193399558  footway  False  16.527   \n",
       "3       2039087105  2039087117    0  193399558  footway  False  11.744   \n",
       "4       2039087105  2039087050    0  193399562  footway  False   7.305   \n",
       "...            ...         ...  ...        ...      ...    ...     ...   \n",
       "119517  2039087100  2039087102    0  193399558  footway  False   7.142   \n",
       "119518  2039087100  2039087118    0  193399558  footway  False   7.188   \n",
       "119519  2039087102  2039087099    0  193399548  footway  False  26.465   \n",
       "119520  2039087102  2039087100    0  193399558  footway  False   7.142   \n",
       "119521  2039087102  2039087111    0  193399558  footway  False  11.039   \n",
       "\n",
       "                                                 geometry  \n",
       "0       LINESTRING (325018.628 4307295.052, 325029.333...  \n",
       "1       LINESTRING (325018.628 4307295.052, 325014.293...  \n",
       "2       LINESTRING (325018.628 4307295.052, 325016.268...  \n",
       "3       LINESTRING (325052.454 4307294.770, 325042.627...  \n",
       "4       LINESTRING (325052.454 4307294.770, 325058.085...  \n",
       "...                                                   ...  \n",
       "119517  LINESTRING (325034.118 4307204.091, 325041.047...  \n",
       "119518  LINESTRING (325034.118 4307204.091, 325027.109...  \n",
       "119519  LINESTRING (325041.047 4307205.881, 325041.467...  \n",
       "119520  LINESTRING (325041.047 4307205.881, 325034.118...  \n",
       "119521  LINESTRING (325041.047 4307205.881, 325045.398...  \n",
       "\n",
       "[119522 rows x 8 columns]"
      ]
     },
     "execution_count": 5,
     "metadata": {},
     "output_type": "execute_result"
    }
   ],
   "source": [
    "gdf_proj_small"
   ]
  },
  {
   "cell_type": "code",
   "execution_count": 6,
   "metadata": {
    "scrolled": true
   },
   "outputs": [
    {
     "data": {
      "text/plain": [
       "service                       37411\n",
       "residential                   30087\n",
       "footway                       26714\n",
       "tertiary                       7485\n",
       "primary                        6097\n",
       "                              ...  \n",
       "[footway, cycleway, path]         1\n",
       "[trunk_link, tertiary]            1\n",
       "[primary, motorway_link]          1\n",
       "[primary, footway]                1\n",
       "[secondary, motorway_link]        1\n",
       "Name: highway, Length: 71, dtype: int64"
      ]
     },
     "execution_count": 6,
     "metadata": {},
     "output_type": "execute_result"
    }
   ],
   "source": [
    "gdf_proj_small['highway'].value_counts()"
   ]
  },
  {
   "cell_type": "code",
   "execution_count": 7,
   "metadata": {},
   "outputs": [],
   "source": [
    "elevation_raster = ro.open(\"BARE_EARTH_2015/BareEarth2015.tif\")"
   ]
  },
  {
   "cell_type": "code",
   "execution_count": 8,
   "metadata": {},
   "outputs": [
    {
     "data": {
      "text/plain": [
       "rasterio.io.DatasetReader"
      ]
     },
     "execution_count": 8,
     "metadata": {},
     "output_type": "execute_result"
    }
   ],
   "source": [
    "type(elevation_raster)"
   ]
  },
  {
   "cell_type": "code",
   "execution_count": 9,
   "metadata": {},
   "outputs": [
    {
     "data": {
      "text/plain": [
       "{'proj': 'lcc',\n",
       " 'lat_0': 37.6666666666667,\n",
       " 'lon_0': -77,\n",
       " 'lat_1': 38.3,\n",
       " 'lat_2': 39.45,\n",
       " 'x_0': 400000,\n",
       " 'y_0': 0,\n",
       " 'datum': 'NAD83',\n",
       " 'units': 'm',\n",
       " 'no_defs': True}"
      ]
     },
     "execution_count": 9,
     "metadata": {},
     "output_type": "execute_result"
    }
   ],
   "source": [
    "elevation_raster.crs.data"
   ]
  },
  {
   "cell_type": "code",
   "execution_count": 10,
   "metadata": {},
   "outputs": [],
   "source": [
    "elevation_data = elevation_raster.read(1)"
   ]
  },
  {
   "cell_type": "code",
   "execution_count": 11,
   "metadata": {},
   "outputs": [
    {
     "data": {
      "text/plain": [
       "(39371, 31497)"
      ]
     },
     "execution_count": 11,
     "metadata": {},
     "output_type": "execute_result"
    }
   ],
   "source": [
    "elevation_data.shape"
   ]
  },
  {
   "cell_type": "code",
   "execution_count": 12,
   "metadata": {},
   "outputs": [
    {
     "data": {
      "text/plain": [
       "29.717"
      ]
     },
     "execution_count": 12,
     "metadata": {},
     "output_type": "execute_result"
    }
   ],
   "source": [
    "elevation_data[10000,20000]"
   ]
  },
  {
   "cell_type": "code",
   "execution_count": 13,
   "metadata": {},
   "outputs": [],
   "source": [
    "gdf_proj_small_crsed = gdf_proj_small.to_crs(elevation_raster.crs.data)"
   ]
  },
  {
   "cell_type": "markdown",
   "metadata": {},
   "source": [
    "TODO: What is a row? Intersection to intersection? node to node?"
   ]
  },
  {
   "cell_type": "code",
   "execution_count": 14,
   "metadata": {},
   "outputs": [
    {
     "data": {
      "text/plain": [
       "[(398459.55829222145, 136585.62935716865),\n",
       " (398470.1167774988, 136592.4098775791)]"
      ]
     },
     "execution_count": 14,
     "metadata": {},
     "output_type": "execute_result"
    }
   ],
   "source": [
    "gdf_proj_small_crsed['geometry'][0].coords[:]"
   ]
  },
  {
   "cell_type": "code",
   "execution_count": 15,
   "metadata": {},
   "outputs": [
    {
     "name": "stdout",
     "output_type": "stream",
     "text": [
      "19052 14917\n",
      "12.706\n",
      "19044 14926\n",
      "12.569\n"
     ]
    }
   ],
   "source": [
    "for (x,y) in gdf_proj_small_crsed['geometry'][4].coords[:]:\n",
    "    i,j = elevation_raster.index(x,y)\n",
    "    print(i,j)\n",
    "    print(elevation_data[i,j])\n",
    "    "
   ]
  },
  {
   "cell_type": "code",
   "execution_count": 16,
   "metadata": {},
   "outputs": [],
   "source": [
    "def get_elevs(linestring):\n",
    "    elevs = []\n",
    "    for (x,y) in linestring.coords[:]:\n",
    "        i,j = elevation_raster.index(x,y)\n",
    "        elev = elevation_data[i,j]\n",
    "        elevs.append(elev)\n",
    "    return elevs"
   ]
  },
  {
   "cell_type": "code",
   "execution_count": 17,
   "metadata": {},
   "outputs": [],
   "source": [
    "gdf_proj_small_crsed['elevs'] = gdf_proj_small_crsed['geometry'].map(get_elevs)"
   ]
  },
  {
   "cell_type": "code",
   "execution_count": 18,
   "metadata": {},
   "outputs": [],
   "source": [
    "all_elevs = gdf_proj_small_crsed['elevs']"
   ]
  },
  {
   "cell_type": "code",
   "execution_count": 20,
   "metadata": {},
   "outputs": [
    {
     "data": {
      "text/plain": [
       "count     4.345640e+05\n",
       "unique    7.656700e+04\n",
       "top      -3.402823e+38\n",
       "freq      7.500000e+03\n",
       "Name: elevs, dtype: float64"
      ]
     },
     "execution_count": 20,
     "metadata": {},
     "output_type": "execute_result"
    }
   ],
   "source": [
    "all_elevs.explode().describe()"
   ]
  },
  {
   "cell_type": "code",
   "execution_count": 29,
   "metadata": {},
   "outputs": [],
   "source": [
    "m = gdf_proj_small_crsed.elevs.map(lambda x : any([y < -30000 for y in x]))"
   ]
  },
  {
   "cell_type": "code",
   "execution_count": 32,
   "metadata": {},
   "outputs": [],
   "source": [
    "off_the_map_check = gdf_proj_small_crsed[m]"
   ]
  },
  {
   "cell_type": "code",
   "execution_count": 33,
   "metadata": {},
   "outputs": [
    {
     "data": {
      "text/html": [
       "<div>\n",
       "<style scoped>\n",
       "    .dataframe tbody tr th:only-of-type {\n",
       "        vertical-align: middle;\n",
       "    }\n",
       "\n",
       "    .dataframe tbody tr th {\n",
       "        vertical-align: top;\n",
       "    }\n",
       "\n",
       "    .dataframe thead th {\n",
       "        text-align: right;\n",
       "    }\n",
       "</style>\n",
       "<table border=\"1\" class=\"dataframe\">\n",
       "  <thead>\n",
       "    <tr style=\"text-align: right;\">\n",
       "      <th></th>\n",
       "      <th>u</th>\n",
       "      <th>v</th>\n",
       "      <th>key</th>\n",
       "      <th>osmid</th>\n",
       "      <th>highway</th>\n",
       "      <th>oneway</th>\n",
       "      <th>length</th>\n",
       "      <th>geometry</th>\n",
       "      <th>elevs</th>\n",
       "    </tr>\n",
       "  </thead>\n",
       "  <tbody>\n",
       "    <tr>\n",
       "      <th>25</th>\n",
       "      <td>5565448195</td>\n",
       "      <td>776362176</td>\n",
       "      <td>0</td>\n",
       "      <td>581729875</td>\n",
       "      <td>path</td>\n",
       "      <td>False</td>\n",
       "      <td>12.413</td>\n",
       "      <td>LINESTRING (403800.466 138356.352, 403808.268 ...</td>\n",
       "      <td>[-3.4028235e+38, 30.57]</td>\n",
       "    </tr>\n",
       "    <tr>\n",
       "      <th>26</th>\n",
       "      <td>5565448195</td>\n",
       "      <td>776362104</td>\n",
       "      <td>0</td>\n",
       "      <td>581729874</td>\n",
       "      <td>path</td>\n",
       "      <td>False</td>\n",
       "      <td>14.714</td>\n",
       "      <td>LINESTRING (403800.466 138356.352, 403797.217 ...</td>\n",
       "      <td>[-3.4028235e+38, 30.991, 30.155]</td>\n",
       "    </tr>\n",
       "    <tr>\n",
       "      <th>27</th>\n",
       "      <td>5565448195</td>\n",
       "      <td>5565448199</td>\n",
       "      <td>0</td>\n",
       "      <td>581729875</td>\n",
       "      <td>path</td>\n",
       "      <td>False</td>\n",
       "      <td>12.970</td>\n",
       "      <td>LINESTRING (403800.466 138356.352, 403795.111 ...</td>\n",
       "      <td>[-3.4028235e+38, 33.931, 34.54]</td>\n",
       "    </tr>\n",
       "    <tr>\n",
       "      <th>45</th>\n",
       "      <td>5565448199</td>\n",
       "      <td>5565448195</td>\n",
       "      <td>0</td>\n",
       "      <td>581729875</td>\n",
       "      <td>path</td>\n",
       "      <td>False</td>\n",
       "      <td>12.970</td>\n",
       "      <td>LINESTRING (403794.884 138367.694, 403795.111 ...</td>\n",
       "      <td>[34.54, 33.931, -3.4028235e+38]</td>\n",
       "    </tr>\n",
       "    <tr>\n",
       "      <th>110</th>\n",
       "      <td>1458176045</td>\n",
       "      <td>6346107644</td>\n",
       "      <td>0</td>\n",
       "      <td>6059746</td>\n",
       "      <td>tertiary</td>\n",
       "      <td>True</td>\n",
       "      <td>228.338</td>\n",
       "      <td>LINESTRING (398697.858 135941.574, 398706.741 ...</td>\n",
       "      <td>[3.027, 2.946, 3.092, 3.108, -3.4028235e+38, -...</td>\n",
       "    </tr>\n",
       "    <tr>\n",
       "      <th>...</th>\n",
       "      <td>...</td>\n",
       "      <td>...</td>\n",
       "      <td>...</td>\n",
       "      <td>...</td>\n",
       "      <td>...</td>\n",
       "      <td>...</td>\n",
       "      <td>...</td>\n",
       "      <td>...</td>\n",
       "      <td>...</td>\n",
       "    </tr>\n",
       "    <tr>\n",
       "      <th>117884</th>\n",
       "      <td>3010721844</td>\n",
       "      <td>2790994853</td>\n",
       "      <td>0</td>\n",
       "      <td>385380676</td>\n",
       "      <td>footway</td>\n",
       "      <td>False</td>\n",
       "      <td>4.115</td>\n",
       "      <td>LINESTRING (398931.619 136076.558, 398931.689 ...</td>\n",
       "      <td>[-3.4028235e+38, -3.4028235e+38]</td>\n",
       "    </tr>\n",
       "    <tr>\n",
       "      <th>117885</th>\n",
       "      <td>3010721844</td>\n",
       "      <td>3010721849</td>\n",
       "      <td>0</td>\n",
       "      <td>385380676</td>\n",
       "      <td>footway</td>\n",
       "      <td>False</td>\n",
       "      <td>28.292</td>\n",
       "      <td>LINESTRING (398931.619 136076.558, 398931.164 ...</td>\n",
       "      <td>[-3.4028235e+38, -3.4028235e+38]</td>\n",
       "    </tr>\n",
       "    <tr>\n",
       "      <th>117889</th>\n",
       "      <td>3010721849</td>\n",
       "      <td>3010721842</td>\n",
       "      <td>0</td>\n",
       "      <td>385380673</td>\n",
       "      <td>footway</td>\n",
       "      <td>False</td>\n",
       "      <td>33.299</td>\n",
       "      <td>LINESTRING (398931.164 136048.317, 398897.816 ...</td>\n",
       "      <td>[-3.4028235e+38, -3.4028235e+38]</td>\n",
       "    </tr>\n",
       "    <tr>\n",
       "      <th>117890</th>\n",
       "      <td>3010721849</td>\n",
       "      <td>3010721844</td>\n",
       "      <td>0</td>\n",
       "      <td>385380676</td>\n",
       "      <td>footway</td>\n",
       "      <td>False</td>\n",
       "      <td>28.292</td>\n",
       "      <td>LINESTRING (398931.164 136048.317, 398931.619 ...</td>\n",
       "      <td>[-3.4028235e+38, -3.4028235e+38]</td>\n",
       "    </tr>\n",
       "    <tr>\n",
       "      <th>117891</th>\n",
       "      <td>3010721849</td>\n",
       "      <td>2790994844</td>\n",
       "      <td>0</td>\n",
       "      <td>385380676</td>\n",
       "      <td>footway</td>\n",
       "      <td>False</td>\n",
       "      <td>7.806</td>\n",
       "      <td>LINESTRING (398931.164 136048.317, 398931.250 ...</td>\n",
       "      <td>[-3.4028235e+38, -3.4028235e+38]</td>\n",
       "    </tr>\n",
       "  </tbody>\n",
       "</table>\n",
       "<p>2407 rows × 9 columns</p>\n",
       "</div>"
      ],
      "text/plain": [
       "                 u           v  key      osmid   highway oneway   length  \\\n",
       "25      5565448195   776362176    0  581729875      path  False   12.413   \n",
       "26      5565448195   776362104    0  581729874      path  False   14.714   \n",
       "27      5565448195  5565448199    0  581729875      path  False   12.970   \n",
       "45      5565448199  5565448195    0  581729875      path  False   12.970   \n",
       "110     1458176045  6346107644    0    6059746  tertiary   True  228.338   \n",
       "...            ...         ...  ...        ...       ...    ...      ...   \n",
       "117884  3010721844  2790994853    0  385380676   footway  False    4.115   \n",
       "117885  3010721844  3010721849    0  385380676   footway  False   28.292   \n",
       "117889  3010721849  3010721842    0  385380673   footway  False   33.299   \n",
       "117890  3010721849  3010721844    0  385380676   footway  False   28.292   \n",
       "117891  3010721849  2790994844    0  385380676   footway  False    7.806   \n",
       "\n",
       "                                                 geometry  \\\n",
       "25      LINESTRING (403800.466 138356.352, 403808.268 ...   \n",
       "26      LINESTRING (403800.466 138356.352, 403797.217 ...   \n",
       "27      LINESTRING (403800.466 138356.352, 403795.111 ...   \n",
       "45      LINESTRING (403794.884 138367.694, 403795.111 ...   \n",
       "110     LINESTRING (398697.858 135941.574, 398706.741 ...   \n",
       "...                                                   ...   \n",
       "117884  LINESTRING (398931.619 136076.558, 398931.689 ...   \n",
       "117885  LINESTRING (398931.619 136076.558, 398931.164 ...   \n",
       "117889  LINESTRING (398931.164 136048.317, 398897.816 ...   \n",
       "117890  LINESTRING (398931.164 136048.317, 398931.619 ...   \n",
       "117891  LINESTRING (398931.164 136048.317, 398931.250 ...   \n",
       "\n",
       "                                                    elevs  \n",
       "25                                [-3.4028235e+38, 30.57]  \n",
       "26                       [-3.4028235e+38, 30.991, 30.155]  \n",
       "27                        [-3.4028235e+38, 33.931, 34.54]  \n",
       "45                        [34.54, 33.931, -3.4028235e+38]  \n",
       "110     [3.027, 2.946, 3.092, 3.108, -3.4028235e+38, -...  \n",
       "...                                                   ...  \n",
       "117884                   [-3.4028235e+38, -3.4028235e+38]  \n",
       "117885                   [-3.4028235e+38, -3.4028235e+38]  \n",
       "117889                   [-3.4028235e+38, -3.4028235e+38]  \n",
       "117890                   [-3.4028235e+38, -3.4028235e+38]  \n",
       "117891                   [-3.4028235e+38, -3.4028235e+38]  \n",
       "\n",
       "[2407 rows x 9 columns]"
      ]
     },
     "execution_count": 33,
     "metadata": {},
     "output_type": "execute_result"
    }
   ],
   "source": [
    "off_the_map_check"
   ]
  },
  {
   "cell_type": "code",
   "execution_count": 51,
   "metadata": {},
   "outputs": [],
   "source": [
    "gdf_clean = gdf_proj_small_crsed[m.map(lambda x : not(x))]"
   ]
  },
  {
   "cell_type": "code",
   "execution_count": 64,
   "metadata": {},
   "outputs": [
    {
     "data": {
      "text/html": [
       "<div>\n",
       "<style scoped>\n",
       "    .dataframe tbody tr th:only-of-type {\n",
       "        vertical-align: middle;\n",
       "    }\n",
       "\n",
       "    .dataframe tbody tr th {\n",
       "        vertical-align: top;\n",
       "    }\n",
       "\n",
       "    .dataframe thead th {\n",
       "        text-align: right;\n",
       "    }\n",
       "</style>\n",
       "<table border=\"1\" class=\"dataframe\">\n",
       "  <thead>\n",
       "    <tr style=\"text-align: right;\">\n",
       "      <th></th>\n",
       "      <th>u</th>\n",
       "      <th>v</th>\n",
       "      <th>key</th>\n",
       "      <th>osmid</th>\n",
       "      <th>highway</th>\n",
       "      <th>oneway</th>\n",
       "      <th>length</th>\n",
       "      <th>geometry</th>\n",
       "      <th>elevs</th>\n",
       "    </tr>\n",
       "  </thead>\n",
       "  <tbody>\n",
       "    <tr>\n",
       "      <th>0</th>\n",
       "      <td>2039087104</td>\n",
       "      <td>2039087110</td>\n",
       "      <td>0</td>\n",
       "      <td>193399558</td>\n",
       "      <td>footway</td>\n",
       "      <td>False</td>\n",
       "      <td>12.533</td>\n",
       "      <td>LINESTRING (398459.558 136585.629, 398470.117 ...</td>\n",
       "      <td>[12.869, 12.774]</td>\n",
       "    </tr>\n",
       "    <tr>\n",
       "      <th>1</th>\n",
       "      <td>2039087104</td>\n",
       "      <td>2039087094</td>\n",
       "      <td>0</td>\n",
       "      <td>777488803</td>\n",
       "      <td>footway</td>\n",
       "      <td>False</td>\n",
       "      <td>6.807</td>\n",
       "      <td>LINESTRING (398459.558 136585.629, 398455.109 ...</td>\n",
       "      <td>[12.869, 12.869]</td>\n",
       "    </tr>\n",
       "    <tr>\n",
       "      <th>2</th>\n",
       "      <td>2039087104</td>\n",
       "      <td>6312468182</td>\n",
       "      <td>0</td>\n",
       "      <td>193399558</td>\n",
       "      <td>footway</td>\n",
       "      <td>False</td>\n",
       "      <td>16.527</td>\n",
       "      <td>LINESTRING (398459.558 136585.629, 398457.268 ...</td>\n",
       "      <td>[12.869, 13.33, 13.264, 13.032]</td>\n",
       "    </tr>\n",
       "    <tr>\n",
       "      <th>3</th>\n",
       "      <td>2039087105</td>\n",
       "      <td>2039087117</td>\n",
       "      <td>0</td>\n",
       "      <td>193399558</td>\n",
       "      <td>footway</td>\n",
       "      <td>False</td>\n",
       "      <td>11.744</td>\n",
       "      <td>LINESTRING (398493.381 136586.089, 398483.415 ...</td>\n",
       "      <td>[12.706, 12.781]</td>\n",
       "    </tr>\n",
       "    <tr>\n",
       "      <th>4</th>\n",
       "      <td>2039087105</td>\n",
       "      <td>2039087050</td>\n",
       "      <td>0</td>\n",
       "      <td>193399562</td>\n",
       "      <td>footway</td>\n",
       "      <td>False</td>\n",
       "      <td>7.305</td>\n",
       "      <td>LINESTRING (398493.381 136586.089, 398498.908 ...</td>\n",
       "      <td>[12.706, 12.569]</td>\n",
       "    </tr>\n",
       "    <tr>\n",
       "      <th>...</th>\n",
       "      <td>...</td>\n",
       "      <td>...</td>\n",
       "      <td>...</td>\n",
       "      <td>...</td>\n",
       "      <td>...</td>\n",
       "      <td>...</td>\n",
       "      <td>...</td>\n",
       "      <td>...</td>\n",
       "      <td>...</td>\n",
       "    </tr>\n",
       "    <tr>\n",
       "      <th>119517</th>\n",
       "      <td>2039087100</td>\n",
       "      <td>2039087102</td>\n",
       "      <td>0</td>\n",
       "      <td>193399558</td>\n",
       "      <td>footway</td>\n",
       "      <td>False</td>\n",
       "      <td>7.142</td>\n",
       "      <td>LINESTRING (398477.038 136495.032, 398483.926 ...</td>\n",
       "      <td>[12.794, 12.685]</td>\n",
       "    </tr>\n",
       "    <tr>\n",
       "      <th>119518</th>\n",
       "      <td>2039087100</td>\n",
       "      <td>2039087118</td>\n",
       "      <td>0</td>\n",
       "      <td>193399558</td>\n",
       "      <td>footway</td>\n",
       "      <td>False</td>\n",
       "      <td>7.188</td>\n",
       "      <td>LINESTRING (398477.038 136495.032, 398469.994 ...</td>\n",
       "      <td>[12.794, 12.819]</td>\n",
       "    </tr>\n",
       "    <tr>\n",
       "      <th>119519</th>\n",
       "      <td>2039087102</td>\n",
       "      <td>2039087099</td>\n",
       "      <td>0</td>\n",
       "      <td>193399548</td>\n",
       "      <td>footway</td>\n",
       "      <td>False</td>\n",
       "      <td>26.465</td>\n",
       "      <td>LINESTRING (398483.926 136496.974, 398483.766 ...</td>\n",
       "      <td>[12.685, 12.73]</td>\n",
       "    </tr>\n",
       "    <tr>\n",
       "      <th>119520</th>\n",
       "      <td>2039087102</td>\n",
       "      <td>2039087100</td>\n",
       "      <td>0</td>\n",
       "      <td>193399558</td>\n",
       "      <td>footway</td>\n",
       "      <td>False</td>\n",
       "      <td>7.142</td>\n",
       "      <td>LINESTRING (398483.926 136496.974, 398477.038 ...</td>\n",
       "      <td>[12.685, 12.794]</td>\n",
       "    </tr>\n",
       "    <tr>\n",
       "      <th>119521</th>\n",
       "      <td>2039087102</td>\n",
       "      <td>2039087111</td>\n",
       "      <td>0</td>\n",
       "      <td>193399558</td>\n",
       "      <td>footway</td>\n",
       "      <td>False</td>\n",
       "      <td>11.039</td>\n",
       "      <td>LINESTRING (398483.926 136496.974, 398488.237 ...</td>\n",
       "      <td>[12.685, 12.764, 12.8]</td>\n",
       "    </tr>\n",
       "  </tbody>\n",
       "</table>\n",
       "<p>117115 rows × 9 columns</p>\n",
       "</div>"
      ],
      "text/plain": [
       "                 u           v  key      osmid  highway oneway  length  \\\n",
       "0       2039087104  2039087110    0  193399558  footway  False  12.533   \n",
       "1       2039087104  2039087094    0  777488803  footway  False   6.807   \n",
       "2       2039087104  6312468182    0  193399558  footway  False  16.527   \n",
       "3       2039087105  2039087117    0  193399558  footway  False  11.744   \n",
       "4       2039087105  2039087050    0  193399562  footway  False   7.305   \n",
       "...            ...         ...  ...        ...      ...    ...     ...   \n",
       "119517  2039087100  2039087102    0  193399558  footway  False   7.142   \n",
       "119518  2039087100  2039087118    0  193399558  footway  False   7.188   \n",
       "119519  2039087102  2039087099    0  193399548  footway  False  26.465   \n",
       "119520  2039087102  2039087100    0  193399558  footway  False   7.142   \n",
       "119521  2039087102  2039087111    0  193399558  footway  False  11.039   \n",
       "\n",
       "                                                 geometry  \\\n",
       "0       LINESTRING (398459.558 136585.629, 398470.117 ...   \n",
       "1       LINESTRING (398459.558 136585.629, 398455.109 ...   \n",
       "2       LINESTRING (398459.558 136585.629, 398457.268 ...   \n",
       "3       LINESTRING (398493.381 136586.089, 398483.415 ...   \n",
       "4       LINESTRING (398493.381 136586.089, 398498.908 ...   \n",
       "...                                                   ...   \n",
       "119517  LINESTRING (398477.038 136495.032, 398483.926 ...   \n",
       "119518  LINESTRING (398477.038 136495.032, 398469.994 ...   \n",
       "119519  LINESTRING (398483.926 136496.974, 398483.766 ...   \n",
       "119520  LINESTRING (398483.926 136496.974, 398477.038 ...   \n",
       "119521  LINESTRING (398483.926 136496.974, 398488.237 ...   \n",
       "\n",
       "                                  elevs  \n",
       "0                      [12.869, 12.774]  \n",
       "1                      [12.869, 12.869]  \n",
       "2       [12.869, 13.33, 13.264, 13.032]  \n",
       "3                      [12.706, 12.781]  \n",
       "4                      [12.706, 12.569]  \n",
       "...                                 ...  \n",
       "119517                 [12.794, 12.685]  \n",
       "119518                 [12.794, 12.819]  \n",
       "119519                  [12.685, 12.73]  \n",
       "119520                 [12.685, 12.794]  \n",
       "119521           [12.685, 12.764, 12.8]  \n",
       "\n",
       "[117115 rows x 9 columns]"
      ]
     },
     "execution_count": 64,
     "metadata": {},
     "output_type": "execute_result"
    }
   ],
   "source": [
    "gdf_clean"
   ]
  },
  {
   "cell_type": "code",
   "execution_count": 81,
   "metadata": {},
   "outputs": [],
   "source": [
    "#TODO: include min!\n",
    "def max_min_grade_est(row):\n",
    "    elev_diffs = [z - y for (y,z) in zip(row['elevs'],row['elevs'][1:])] # difference of successive terms\n",
    "    segment_lens = row['length']/len(elev_diffs)\n",
    "    grades = [math.atan2(diff, segment_lens) for diff in elev_diffs] # TODO: is this the best atan2?\n",
    "    return (max(grades), min(grades))\n",
    "  \n"
   ]
  },
  {
   "cell_type": "code",
   "execution_count": 82,
   "metadata": {},
   "outputs": [
    {
     "name": "stderr",
     "output_type": "stream",
     "text": [
      "<ipython-input-82-09406958a66c>:3: SettingWithCopyWarning: \n",
      "A value is trying to be set on a copy of a slice from a DataFrame.\n",
      "Try using .loc[row_indexer,col_indexer] = value instead\n",
      "\n",
      "See the caveats in the documentation: http://pandas.pydata.org/pandas-docs/stable/user_guide/indexing.html#returning-a-view-versus-a-copy\n",
      "  gdf_clean['max_grade_est'] = gdf_clean.apply(lambda row : max_min_grade_est(row)[0], axis=1)\n",
      "<ipython-input-82-09406958a66c>:4: SettingWithCopyWarning: \n",
      "A value is trying to be set on a copy of a slice from a DataFrame.\n",
      "Try using .loc[row_indexer,col_indexer] = value instead\n",
      "\n",
      "See the caveats in the documentation: http://pandas.pydata.org/pandas-docs/stable/user_guide/indexing.html#returning-a-view-versus-a-copy\n",
      "  gdf_clean['min_grade_est'] = gdf_clean.apply(lambda row : max_min_grade_est(row)[1], axis=1)\n"
     ]
    }
   ],
   "source": [
    "#TODO: Fix SettingWithCopyWarning\n",
    "#TODO: one assignment?\n",
    "gdf_clean['max_grade_est'] = gdf_clean.apply(lambda row : max_min_grade_est(row)[0], axis=1)\n",
    "gdf_clean['min_grade_est'] = gdf_clean.apply(lambda row : max_min_grade_est(row)[1], axis=1)"
   ]
  },
  {
   "cell_type": "code",
   "execution_count": 75,
   "metadata": {},
   "outputs": [],
   "source": [
    "# 5 degrees\n",
    "ADA_MAX_ANGLE = 5 * 2 * math.pi / 360\n",
    "ADA_MIN_ANGLE = -1 * ADA_MAX_ANGLE"
   ]
  },
  {
   "cell_type": "code",
   "execution_count": 76,
   "metadata": {},
   "outputs": [
    {
     "data": {
      "text/plain": [
       "0.08726646259971647"
      ]
     },
     "execution_count": 76,
     "metadata": {},
     "output_type": "execute_result"
    }
   ],
   "source": [
    "ADA_MAX_ANGLE"
   ]
  },
  {
   "cell_type": "code",
   "execution_count": 94,
   "metadata": {},
   "outputs": [
    {
     "data": {
      "text/plain": [
       "0.09985057422191863"
      ]
     },
     "execution_count": 94,
     "metadata": {},
     "output_type": "execute_result"
    }
   ],
   "source": [
    "# Estimate of too steep segments: (see above for warning about segment v row)\n",
    "too_steep_rows =  gdf_clean[(gdf_clean['max_grade_est'] > ADA_MAX_ANGLE) | (gdf_clean['min_grade_est'] < ADA_MIN_ANGLE)]\n",
    "len(too_steep_rows)/len(gdf_clean)"
   ]
  },
  {
   "cell_type": "code",
   "execution_count": 115,
   "metadata": {},
   "outputs": [],
   "source": [
    "too_steep_u_v = list(zip(too_steep_rows['u'],too_steep_rows['v']))\n",
    "too_steep_u_v"
   ]
  },
  {
   "cell_type": "code",
   "execution_count": 100,
   "metadata": {},
   "outputs": [],
   "source": [
    "G_proj_not_too_steep = G_proj.copy()"
   ]
  },
  {
   "cell_type": "code",
   "execution_count": 117,
   "metadata": {},
   "outputs": [],
   "source": [
    "for u, v in too_steep_u_v:\n",
    "    G_proj_not_too_steep.remove_edge(u,v)"
   ]
  },
  {
   "cell_type": "code",
   "execution_count": 119,
   "metadata": {},
   "outputs": [
    {
     "data": {
      "text/plain": [
       "107828"
      ]
     },
     "execution_count": 119,
     "metadata": {},
     "output_type": "execute_result"
    }
   ],
   "source": [
    "len(G_proj_not_too_steep.edges)"
   ]
  },
  {
   "cell_type": "code",
   "execution_count": 121,
   "metadata": {},
   "outputs": [
    {
     "data": {
      "text/plain": [
       "119522"
      ]
     },
     "execution_count": 121,
     "metadata": {},
     "output_type": "execute_result"
    }
   ],
   "source": [
    "len(G_proj.edges)"
   ]
  },
  {
   "cell_type": "code",
   "execution_count": 123,
   "metadata": {},
   "outputs": [
    {
     "data": {
      "text/plain": [
       "107587.659694372"
      ]
     },
     "execution_count": 123,
     "metadata": {},
     "output_type": "execute_result"
    }
   ],
   "source": [
    "(1- .099850574) * 119522"
   ]
  },
  {
   "cell_type": "markdown",
   "metadata": {},
   "source": [
    "Discrepency: off_the_map_check!\n"
   ]
  },
  {
   "cell_type": "code",
   "execution_count": 124,
   "metadata": {},
   "outputs": [
    {
     "data": {
      "image/png": "[encoded data removed]",
      "text/plain": [
       "<Figure size 375.668x432 with 1 Axes>"
      ]
     },
     "metadata": {},
     "output_type": "display_data"
    },
    {
     "data": {
      "text/plain": [
       "(<Figure size 375.668x432 with 1 Axes>,\n",
       " <matplotlib.axes._subplots.AxesSubplot at 0x7f51848c14f0>)"
      ]
     },
     "execution_count": 124,
     "metadata": {},
     "output_type": "execute_result"
    }
   ],
   "source": []
  },
  {
   "cell_type": "code",
   "execution_count": 147,
   "metadata": {},
   "outputs": [
    {
     "ename": "TypeError",
     "evalue": "'list' object is not callable",
     "output_type": "error",
     "traceback": [
      "\u001b[0;31m---------------------------------------------------------------------------\u001b[0m",
      "\u001b[0;31mTypeError\u001b[0m                                 Traceback (most recent call last)",
      "\u001b[0;32m<ipython-input-147-3405da4aab7a>\u001b[0m in \u001b[0;36m<module>\u001b[0;34m\u001b[0m\n\u001b[1;32m     13\u001b[0m \u001b[0mnorm\u001b[0m \u001b[0;34m=\u001b[0m \u001b[0mcolors\u001b[0m\u001b[0;34m.\u001b[0m\u001b[0mNormalize\u001b[0m\u001b[0;34m(\u001b[0m\u001b[0mvmin\u001b[0m\u001b[0;34m=\u001b[0m\u001b[0mmin\u001b[0m\u001b[0;34m(\u001b[0m\u001b[0mmg\u001b[0m\u001b[0;34m)\u001b[0m\u001b[0;34m*\u001b[0m\u001b[0;36m0.8\u001b[0m\u001b[0;34m,\u001b[0m \u001b[0mvmax\u001b[0m\u001b[0;34m=\u001b[0m\u001b[0mmax\u001b[0m\u001b[0;34m(\u001b[0m\u001b[0mmg\u001b[0m\u001b[0;34m)\u001b[0m\u001b[0;34m)\u001b[0m\u001b[0;34m\u001b[0m\u001b[0;34m\u001b[0m\u001b[0m\n\u001b[1;32m     14\u001b[0m \u001b[0mcmap\u001b[0m \u001b[0;34m=\u001b[0m \u001b[0mcm\u001b[0m\u001b[0;34m.\u001b[0m\u001b[0mScalarMappable\u001b[0m\u001b[0;34m(\u001b[0m\u001b[0mnorm\u001b[0m\u001b[0;34m=\u001b[0m\u001b[0mmg\u001b[0m\u001b[0;34m,\u001b[0m \u001b[0mcmap\u001b[0m\u001b[0;34m=\u001b[0m\u001b[0mcm\u001b[0m\u001b[0;34m.\u001b[0m\u001b[0minferno\u001b[0m\u001b[0;34m)\u001b[0m\u001b[0;34m\u001b[0m\u001b[0;34m\u001b[0m\u001b[0m\n\u001b[0;32m---> 15\u001b[0;31m \u001b[0mmg_color\u001b[0m \u001b[0;34m=\u001b[0m \u001b[0;34m[\u001b[0m\u001b[0mcmap\u001b[0m\u001b[0;34m.\u001b[0m\u001b[0mto_rgba\u001b[0m\u001b[0;34m(\u001b[0m\u001b[0mgrade\u001b[0m\u001b[0;34m)\u001b[0m \u001b[0;32mfor\u001b[0m \u001b[0mgrade\u001b[0m \u001b[0;32min\u001b[0m \u001b[0mmg\u001b[0m\u001b[0;34m]\u001b[0m\u001b[0;34m\u001b[0m\u001b[0;34m\u001b[0m\u001b[0m\n\u001b[0m\u001b[1;32m     16\u001b[0m \u001b[0mox\u001b[0m\u001b[0;34m.\u001b[0m\u001b[0mplot\u001b[0m\u001b[0;34m.\u001b[0m\u001b[0mplot_graph\u001b[0m\u001b[0;34m(\u001b[0m\u001b[0mG_proj\u001b[0m\u001b[0;34m,\u001b[0m \u001b[0medge_color\u001b[0m\u001b[0;34m=\u001b[0m\u001b[0mmg_color\u001b[0m\u001b[0;34m)\u001b[0m\u001b[0;34m\u001b[0m\u001b[0;34m\u001b[0m\u001b[0m\n",
      "\u001b[0;32m<ipython-input-147-3405da4aab7a>\u001b[0m in \u001b[0;36m<listcomp>\u001b[0;34m(.0)\u001b[0m\n\u001b[1;32m     13\u001b[0m \u001b[0mnorm\u001b[0m \u001b[0;34m=\u001b[0m \u001b[0mcolors\u001b[0m\u001b[0;34m.\u001b[0m\u001b[0mNormalize\u001b[0m\u001b[0;34m(\u001b[0m\u001b[0mvmin\u001b[0m\u001b[0;34m=\u001b[0m\u001b[0mmin\u001b[0m\u001b[0;34m(\u001b[0m\u001b[0mmg\u001b[0m\u001b[0;34m)\u001b[0m\u001b[0;34m*\u001b[0m\u001b[0;36m0.8\u001b[0m\u001b[0;34m,\u001b[0m \u001b[0mvmax\u001b[0m\u001b[0;34m=\u001b[0m\u001b[0mmax\u001b[0m\u001b[0;34m(\u001b[0m\u001b[0mmg\u001b[0m\u001b[0;34m)\u001b[0m\u001b[0;34m)\u001b[0m\u001b[0;34m\u001b[0m\u001b[0;34m\u001b[0m\u001b[0m\n\u001b[1;32m     14\u001b[0m \u001b[0mcmap\u001b[0m \u001b[0;34m=\u001b[0m \u001b[0mcm\u001b[0m\u001b[0;34m.\u001b[0m\u001b[0mScalarMappable\u001b[0m\u001b[0;34m(\u001b[0m\u001b[0mnorm\u001b[0m\u001b[0;34m=\u001b[0m\u001b[0mmg\u001b[0m\u001b[0;34m,\u001b[0m \u001b[0mcmap\u001b[0m\u001b[0;34m=\u001b[0m\u001b[0mcm\u001b[0m\u001b[0;34m.\u001b[0m\u001b[0minferno\u001b[0m\u001b[0;34m)\u001b[0m\u001b[0;34m\u001b[0m\u001b[0;34m\u001b[0m\u001b[0m\n\u001b[0;32m---> 15\u001b[0;31m \u001b[0mmg_color\u001b[0m \u001b[0;34m=\u001b[0m \u001b[0;34m[\u001b[0m\u001b[0mcmap\u001b[0m\u001b[0;34m.\u001b[0m\u001b[0mto_rgba\u001b[0m\u001b[0;34m(\u001b[0m\u001b[0mgrade\u001b[0m\u001b[0;34m)\u001b[0m \u001b[0;32mfor\u001b[0m \u001b[0mgrade\u001b[0m \u001b[0;32min\u001b[0m \u001b[0mmg\u001b[0m\u001b[0;34m]\u001b[0m\u001b[0;34m\u001b[0m\u001b[0;34m\u001b[0m\u001b[0m\n\u001b[0m\u001b[1;32m     16\u001b[0m \u001b[0mox\u001b[0m\u001b[0;34m.\u001b[0m\u001b[0mplot\u001b[0m\u001b[0;34m.\u001b[0m\u001b[0mplot_graph\u001b[0m\u001b[0;34m(\u001b[0m\u001b[0mG_proj\u001b[0m\u001b[0;34m,\u001b[0m \u001b[0medge_color\u001b[0m\u001b[0;34m=\u001b[0m\u001b[0mmg_color\u001b[0m\u001b[0;34m)\u001b[0m\u001b[0;34m\u001b[0m\u001b[0;34m\u001b[0m\u001b[0m\n",
      "\u001b[0;32m~/anaconda3/envs/insight_project_dc/lib/python3.8/site-packages/matplotlib/cm.py\u001b[0m in \u001b[0;36mto_rgba\u001b[0;34m(self, x, alpha, bytes, norm)\u001b[0m\n\u001b[1;32m    242\u001b[0m         \u001b[0mx\u001b[0m \u001b[0;34m=\u001b[0m \u001b[0mma\u001b[0m\u001b[0;34m.\u001b[0m\u001b[0masarray\u001b[0m\u001b[0;34m(\u001b[0m\u001b[0mx\u001b[0m\u001b[0;34m)\u001b[0m\u001b[0;34m\u001b[0m\u001b[0;34m\u001b[0m\u001b[0m\n\u001b[1;32m    243\u001b[0m         \u001b[0;32mif\u001b[0m \u001b[0mnorm\u001b[0m\u001b[0;34m:\u001b[0m\u001b[0;34m\u001b[0m\u001b[0;34m\u001b[0m\u001b[0m\n\u001b[0;32m--> 244\u001b[0;31m             \u001b[0mx\u001b[0m \u001b[0;34m=\u001b[0m \u001b[0mself\u001b[0m\u001b[0;34m.\u001b[0m\u001b[0mnorm\u001b[0m\u001b[0;34m(\u001b[0m\u001b[0mx\u001b[0m\u001b[0;34m)\u001b[0m\u001b[0;34m\u001b[0m\u001b[0;34m\u001b[0m\u001b[0m\n\u001b[0m\u001b[1;32m    245\u001b[0m         \u001b[0mrgba\u001b[0m \u001b[0;34m=\u001b[0m \u001b[0mself\u001b[0m\u001b[0;34m.\u001b[0m\u001b[0mcmap\u001b[0m\u001b[0;34m(\u001b[0m\u001b[0mx\u001b[0m\u001b[0;34m,\u001b[0m \u001b[0malpha\u001b[0m\u001b[0;34m=\u001b[0m\u001b[0malpha\u001b[0m\u001b[0;34m,\u001b[0m \u001b[0mbytes\u001b[0m\u001b[0;34m=\u001b[0m\u001b[0mbytes\u001b[0m\u001b[0;34m)\u001b[0m\u001b[0;34m\u001b[0m\u001b[0;34m\u001b[0m\u001b[0m\n\u001b[1;32m    246\u001b[0m         \u001b[0;32mreturn\u001b[0m \u001b[0mrgba\u001b[0m\u001b[0;34m\u001b[0m\u001b[0;34m\u001b[0m\u001b[0m\n",
      "\u001b[0;31mTypeError\u001b[0m: 'list' object is not callable"
     ]
    }
   ],
   "source": [
    "def get_edge_grade(edge):\n",
    "    u, v = edge\n",
    "    df = gdf_clean[(gdf_clean['u'] == u) & (gdf_clean['v'] == v)]\n",
    "    if len(df)>0:\n",
    "        max_g = list(df['max_grade_est'])[0]\n",
    "        min_g = list(df['min_grade_est'])[0]\n",
    "        return max(float(max_g),abs(float(min_g)))\n",
    "    else:\n",
    "        return 0\n",
    "import matplotlib.cm as cm\n",
    "import matplotlib.colors as colors\n",
    "mg = [get_edge_grade(edge) for edge in G.edges()]\n",
    "norm = colors.Normalize(vmin=min(mg)*0.8, vmax=max(mg))\n",
    "cmap = cm.ScalarMappable(norm=mg, cmap=cm.inferno)\n",
    "mg_color = [cmap.to_rgba(grade) for grade in mg]\n",
    "ox.plot.plot_graph(G_proj, edge_color=mg_color)"
   ]
  },
  {
   "cell_type": "code",
   "execution_count": 133,
   "metadata": {},
   "outputs": [
    {
     "data": {
      "text/plain": [
       "(2039087104, 2039087110)"
      ]
     },
     "execution_count": 133,
     "metadata": {},
     "output_type": "execute_result"
    }
   ],
   "source": [
    "list(G.edges())[0]"
   ]
  },
  {
   "cell_type": "code",
   "execution_count": null,
   "metadata": {},
   "outputs": [],
   "source": []
  }
 ],
 "metadata": {
  "kernelspec": {
   "display_name": "Python 3",
   "language": "python",
   "name": "python3"
  },
  "language_info": {
   "codemirror_mode": {
    "name": "ipython",
    "version": 3
   },
   "file_extension": ".py",
   "mimetype": "text/x-python",
   "name": "python",
   "nbconvert_exporter": "python",
   "pygments_lexer": "ipython3",
   "version": "3.7.6"
  }
 },
 "nbformat": 4,
 "nbformat_minor": 4
}
