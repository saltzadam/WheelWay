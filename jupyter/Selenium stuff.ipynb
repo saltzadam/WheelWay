{
 "cells": [
  {
   "cell_type": "code",
   "execution_count": 1,
   "metadata": {},
   "outputs": [],
   "source": [
    "from selenium import webdriver\n",
    "import time, re"
   ]
  },
  {
   "cell_type": "code",
   "execution_count": 16,
   "metadata": {},
   "outputs": [],
   "source": [
    "def lat_lon_head_to_url(lat, lon, heading):\n",
    "    return \"https://www.google.com/maps/?q={lat},{lon}&h={head}\".format(lat=lat, lon=lon, head=heading)\n",
    "\n",
    "\n",
    "pattern = r'\\d*\\.\\d*h'\n",
    "reg = re.compile(pattern)\n",
    "# find between @ and first /\n",
    "pattern2 = r'(@.*?/)'\n",
    "reg2 = re.compile(pattern2)\n",
    "def change_url_heading(heading):\n",
    "    time.sleep(1)\n",
    "    url = driver.current_url\n",
    "    splitted = re.split(pattern, url, maxsplit=1)\n",
    "    try:\n",
    "        new_url = splitted[0] + str(heading) + 'h' + splitted[1]\n",
    "    except IndexError:\n",
    "        splitted = re.split(reg2, url, maxsplit=1)\n",
    "        try:\n",
    "            new_url = splitted[0] + splitted[1][:-1] + ',' + str(heading) + 'h/' + splitted[2]\n",
    "        except IndexError:\n",
    "            print(splitted)\n",
    "            \n",
    "    time.sleep(4)\n",
    "    driver.get(new_url)\n",
    "\n",
    "def selenium_to_url_sv(url, driver):\n",
    "    driver.get(url)\n",
    "    try:\n",
    "        driver.find_element_by_css_selector(\n",
    "            \"button.section-hero-header-image-hero.widget-pane-fading.widget-pane-fade-in.section-hero-header-image-hero-clickable\"\n",
    "        ).click()\n",
    "    except NoSuchElement:\n",
    "        raise\n",
    "    \n",
    "def selenium_look_right_snap(heading, driver, path):\n",
    "    right_heading = (heading + 90) % 360\n",
    "    change_url_heading(right_heading)\n",
    "    time.sleep(5)\n",
    "    driver.save_screenshot(path)\n",
    "    \n",
    "\n",
    "def seleneium_look_left_snap(heading, driver, path):\n",
    "    left_heading = (heading - 90) % 360\n",
    "    change_url_heading(left_heading)\n",
    "    time.sleep(5)\n",
    "    driver.save_screenshot(path)\n",
    "    time.sleep(1)\n",
    "    \n",
    "def snap_lat_long(driver, lat, lon, heading, folder):\n",
    "    url = lat_lon_head_to_url(lat, lon, heading)\n",
    "    try: \n",
    "        selenium_to_url_sv(url,  driver)\n",
    "    except:\n",
    "        with open(folder + 'error', 'w') as error_file:\n",
    "            print('error at ', lat, lon)\n",
    "            error_file.write('could not get street view')\n",
    "    selenium_look_right_snap(heading, driver, folder + str(lat) + ',' + str(lon) + '_' + 'right.png')\n",
    " \n",
    "    seleneium_look_left_snap(heading, driver, folder + str(lat) + ',' + str(lon) + '_' + 'left.png')\n",
    " "
   ]
  },
  {
   "cell_type": "code",
   "execution_count": 3,
   "metadata": {},
   "outputs": [],
   "source": [
    "import pickle as pkl\n",
    "with open(\"../brighton_graph.pkl\", 'rb') as graphpkl:\n",
    "    brighton_G = pkl.load(graphpkl)\n"
   ]
  },
  {
   "cell_type": "code",
   "execution_count": 4,
   "metadata": {},
   "outputs": [],
   "source": [
    "import geopandas as gpd\n",
    "streets = gpd.read_file(\"../data/brighton/brighton_streets.shp\")"
   ]
  },
  {
   "cell_type": "code",
   "execution_count": 5,
   "metadata": {},
   "outputs": [],
   "source": [
    "from shapely.geometry import GeometryCollection\n",
    "from copy import deepcopy\n",
    "def list_explode(gdf):\n",
    "    rows = []\n",
    "    old_rows = []\n",
    "    for i, row in gdf.iterrows():\n",
    "        mline = row['cut_geometry']\n",
    "        if type(mline) == GeometryCollection:\n",
    "            mline = mline.geoms\n",
    "        new_rows = [deepcopy(row) for i in range(len(row['cut_geometry']))]\n",
    "        for n, inline in enumerate(mline):\n",
    "            new_rows[n]['geometry'] = inline\n",
    "            old_rows.append(i)\n",
    "        rows.extend(new_rows)\n",
    "    new_gdf = gpd.GeoDataFrame(rows).reset_index(drop=True)\n",
    "    new_gdf.crs = \"EPSG:26919\"\n",
    "    return new_gdf\n"
   ]
  },
  {
   "cell_type": "code",
   "execution_count": 6,
   "metadata": {},
   "outputs": [],
   "source": [
    "# Thank you Sean Gilles https://gist.github.com/sgillies/465156#file_cut.py\n",
    "from shapely.geometry import LineString, Point\n",
    "from copy import deepcopy\n",
    "def cut(line, distance):\n",
    "    # Cuts a line in two at a distance from its starting point\n",
    "    if distance <= 0.0 or distance >= line.length:\n",
    "        return [LineString(line)]\n",
    "    coords = list(line.coords)\n",
    "    for i, p in enumerate(coords):\n",
    "        pd = line.project(Point(p))\n",
    "        if pd == distance:\n",
    "            return [\n",
    "                LineString(coords[:i+1]),\n",
    "                LineString(coords[i:])]\n",
    "        if pd > distance:\n",
    "            cp = line.interpolate(distance)\n",
    "            return [\n",
    "                LineString(coords[:i] + [(cp.x, cp.y)]),\n",
    "                LineString([(cp.x, cp.y)] + coords[i:])]\n",
    "        \n",
    "\n",
    "def recursive_cut(line, distance):\n",
    "    if [line] == cut(line, distance):\n",
    "        return [line]\n",
    "    else:\n",
    "        segment, rest = cut(line, distance)\n",
    "        return [segment] + recursive_cut(rest, distance)\n"
   ]
  },
  {
   "cell_type": "code",
   "execution_count": 7,
   "metadata": {},
   "outputs": [],
   "source": [
    "streets = streets.to_crs(\"EPSG:26919\")"
   ]
  },
  {
   "cell_type": "code",
   "execution_count": 8,
   "metadata": {},
   "outputs": [],
   "source": [
    "def mls_to_list_safe(geom):\n",
    "    if type(geom) == LineString:\n",
    "        return [geom]\n",
    "    elif (type(geom) == list and len(geom) == 1):\n",
    "        return geom\n",
    "    else:\n",
    "        try:\n",
    "            return geom.geoms\n",
    "        except AttributeError:\n",
    "            #list_of_geoms = list(geom)\n",
    "            #[g for geom in list_of_geoms for g in geom]\n",
    "            return list(geom)\n",
    "\n",
    "streets['cut_geometry'] = streets.geometry.map(mls_to_list_safe)\n",
    "streets = list_explode(streets)\n",
    "streets['cut_geometry'] = streets.geometry.map(lambda x : recursive_cut(x,12))\n",
    "streets_split = list_explode(streets)"
   ]
  },
  {
   "cell_type": "code",
   "execution_count": 9,
   "metadata": {},
   "outputs": [],
   "source": [
    "streets_split['length_m'] = streets_split.length\n",
    "streets_split.drop(inplace=True, columns=['length'])\n",
    "\n",
    "streets_split = streets_split.to_crs(\"EPSG:4326\")\n",
    "streets_split.drop(inplace=True, columns=['cut_geometry'])"
   ]
  },
  {
   "cell_type": "code",
   "execution_count": 10,
   "metadata": {},
   "outputs": [],
   "source": [
    "def midpoint(line):\n",
    "    p0 = line.coords[0]\n",
    "    p1 = line.coords[-1]\n",
    "    x0, y0 = p0\n",
    "    x1, y1 = p1\n",
    "    return ((x0 + x1)/2, (y0 + y1)/2)\n",
    "\n",
    "import math\n",
    "def heading(line):\n",
    "    # true north 0, east is 90\n",
    "    # so 90 - arctan\n",
    "    p0 = line.coords[0]\n",
    "    p1 = line.coords[-1]\n",
    "    x0, y0 = p0\n",
    "    x1, y1 = p1\n",
    "    \n",
    "    seg = (x1 - x0, y1 - y0)\n",
    "    angle = math.atan(seg[1]/seg[0]) * 180 / math.pi\n",
    "    return ((90 - angle) % 360)\n",
    "    "
   ]
  },
  {
   "cell_type": "code",
   "execution_count": 11,
   "metadata": {},
   "outputs": [],
   "source": [
    "# beta reduce or whatever\n",
    "streets_split['midpoint'] = streets_split.geometry.map(lambda x : midpoint(x))\n",
    "streets_split['heading'] = streets_split.geometry.map(lambda x : int(heading(x)))"
   ]
  },
  {
   "cell_type": "code",
   "execution_count": 12,
   "metadata": {},
   "outputs": [],
   "source": [
    "# used namedtuple convention\n",
    "def process_row(driver, row):\n",
    "    if row.length_m < 11.9:\n",
    "        pass\n",
    "    lon = row.midpoint[0]\n",
    "    lat = row.midpoint[1]\n",
    "    heading = row.heading\n",
    "    snap_lat_long(driver, lat, lon, heading, \"../data/streetphotos/\")\n",
    "\n",
    "    \n",
    "    "
   ]
  },
  {
   "cell_type": "code",
   "execution_count": 18,
   "metadata": {},
   "outputs": [
    {
     "data": {
      "text/plain": [
       "16042"
      ]
     },
     "execution_count": 18,
     "metadata": {},
     "output_type": "execute_result"
    }
   ],
   "source": [
    "len(streets_split[streets_split['length_m'] > 11.9])"
   ]
  },
  {
   "cell_type": "code",
   "execution_count": 17,
   "metadata": {},
   "outputs": [
    {
     "name": "stderr",
     "output_type": "stream",
     "text": [
      "\n",
      "\n",
      "0it [00:00, ?it/s]\u001b[A\u001b[A\n",
      "\n",
      "1it [00:51, 51.95s/it]\u001b[A\u001b[A\n",
      "\n",
      "2it [01:36, 49.69s/it]\u001b[A\u001b[A"
     ]
    },
    {
     "ename": "KeyboardInterrupt",
     "evalue": "",
     "output_type": "error",
     "traceback": [
      "\u001b[0;31m---------------------------------------------------------------------------\u001b[0m",
      "\u001b[0;31mKeyboardInterrupt\u001b[0m                         Traceback (most recent call last)",
      "\u001b[0;32m<ipython-input-17-71c145ab4b46>\u001b[0m in \u001b[0;36m<module>\u001b[0;34m\u001b[0m\n\u001b[1;32m     19\u001b[0m         \u001b[0;32melse\u001b[0m\u001b[0;34m:\u001b[0m\u001b[0;34m\u001b[0m\u001b[0;34m\u001b[0m\u001b[0m\n\u001b[1;32m     20\u001b[0m             \u001b[0mprocess_row\u001b[0m\u001b[0;34m(\u001b[0m\u001b[0mdriver\u001b[0m\u001b[0;34m,\u001b[0m \u001b[0mrow\u001b[0m\u001b[0;34m)\u001b[0m\u001b[0;34m\u001b[0m\u001b[0;34m\u001b[0m\u001b[0m\n\u001b[0;32m---> 21\u001b[0;31m             \u001b[0mtime\u001b[0m\u001b[0;34m.\u001b[0m\u001b[0msleep\u001b[0m\u001b[0;34m(\u001b[0m\u001b[0;36m15\u001b[0m\u001b[0;34m)\u001b[0m\u001b[0;34m\u001b[0m\u001b[0;34m\u001b[0m\u001b[0m\n\u001b[0m\u001b[1;32m     22\u001b[0m     \u001b[0;32mexcept\u001b[0m\u001b[0;34m:\u001b[0m\u001b[0;34m\u001b[0m\u001b[0;34m\u001b[0m\u001b[0m\n\u001b[1;32m     23\u001b[0m         \u001b[0;32mraise\u001b[0m\u001b[0;34m\u001b[0m\u001b[0;34m\u001b[0m\u001b[0m\n",
      "\u001b[0;31mKeyboardInterrupt\u001b[0m: "
     ]
    }
   ],
   "source": [
    "import os.path\n",
    "\n",
    "driver = webdriver.Firefox()\n",
    "from selenium.webdriver.common.by import By\n",
    "from selenium.webdriver.support.ui import WebDriverWait\n",
    "from selenium.webdriver.support import expected_conditions as EC\n",
    "driver.implicitly_wait(10)\n",
    "\n",
    "from tqdm import tqdm\n",
    "for row in tqdm(streets_split.itertuples()):\n",
    "    lon = row.midpoint[0]\n",
    "    lat = row.midpoint[1]\n",
    "    try:\n",
    "        if (os.path.isfile(\"../data/streetphotos/\" + str(lat) + ',' + str(lon) + '_' + 'right.png' ) \n",
    "            and\n",
    "            os.path.isfile(\"../data/streetphotos/\" + str(lat) + ',' + str(lon) + '_' + 'left.png' )):\n",
    "            print('skipped')\n",
    "            continue\n",
    "        else: \n",
    "            process_row(driver, row)\n",
    "            time.sleep(15)\n",
    "    except:\n",
    "        raise\n",
    "        with open(\"../data/streetphotos/\" + 'error' + str(lat) + ',' + str(lon), 'w') as error_file:\n",
    "            error_file.write('could not get street view')\n",
    "        "
   ]
  },
  {
   "cell_type": "code",
   "execution_count": null,
   "metadata": {},
   "outputs": [],
   "source": []
  }
 ],
 "metadata": {
  "kernelspec": {
   "display_name": "Python 3",
   "language": "python",
   "name": "python3"
  },
  "language_info": {
   "codemirror_mode": {
    "name": "ipython",
    "version": 3
   },
   "file_extension": ".py",
   "mimetype": "text/x-python",
   "name": "python",
   "nbconvert_exporter": "python",
   "pygments_lexer": "ipython3",
   "version": "3.7.6"
  }
 },
 "nbformat": 4,
 "nbformat_minor": 2
}
