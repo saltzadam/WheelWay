{
 "cells": [
  {
   "cell_type": "code",
   "execution_count": 1,
   "metadata": {},
   "outputs": [],
   "source": [
    "import time, re"
   ]
  },
  {
   "cell_type": "code",
   "execution_count": 2,
   "metadata": {},
   "outputs": [],
   "source": [
    "def lat_lon_head_to_url(lat, lon, heading):\n",
    "    return \"https://www.google.com/maps/?q={lat},{lon}&h={head}\".format(lat=lat, lon=lon, head=heading)\n",
    "\n",
    "\n",
    "pattern = r'\\d*\\.\\d*h'\n",
    "reg = re.compile(pattern)\n",
    "# find between @ and first /\n",
    "pattern2 = r'(@.*?/)'\n",
    "reg2 = re.compile(pattern2)\n",
    "def change_url_heading(heading):\n",
    "    time.sleep(1)\n",
    "    url = driver.current_url\n",
    "    splitted = re.split(pattern, url, maxsplit=1)\n",
    "    try:\n",
    "        new_url = splitted[0] + str(heading) + 'h' + splitted[1]\n",
    "    except IndexError:\n",
    "        splitted = re.split(reg2, url, maxsplit=1)\n",
    "        try:\n",
    "            new_url = splitted[0] + splitted[1][:-1] + ',' + str(heading) + 'h/' + splitted[2]\n",
    "        except IndexError:\n",
    "            print(splitted)\n",
    "            \n",
    "    time.sleep(4)\n",
    "    driver.get(new_url)\n",
    "\n",
    "def selenium_to_url_sv(url, driver):\n",
    "    driver.get(url)\n",
    "    try:\n",
    "        driver.find_element_by_css_selector(\n",
    "            \"button.section-hero-header-image-hero.widget-pane-fading.widget-pane-fade-in.section-hero-header-image-hero-clickable\"\n",
    "        ).click()\n",
    "    except NoSuchElement:\n",
    "        raise\n",
    "    \n",
    "def selenium_look_right_snap(heading, driver, path):\n",
    "    right_heading = (heading + 90) % 360\n",
    "    change_url_heading(right_heading)\n",
    "    time.sleep(5)\n",
    "    driver.save_screenshot(path)\n",
    "    \n",
    "\n",
    "def seleneium_look_left_snap(heading, driver, path):\n",
    "    left_heading = (heading - 90) % 360\n",
    "    change_url_heading(left_heading)\n",
    "    time.sleep(5)\n",
    "    driver.save_screenshot(path)\n",
    "    time.sleep(1)\n",
    "    \n",
    "def snap_lat_long(driver, lat, lon, heading, folder):\n",
    "    url = lat_lon_head_to_url(lat, lon, heading)\n",
    "    try: \n",
    "        selenium_to_url_sv(url,  driver)\n",
    "    except:\n",
    "        with open(folder + 'error', 'w') as error_file:\n",
    "            print('error at ', lat, lon)\n",
    "            error_file.write('could not get street view')\n",
    "    selenium_look_right_snap(heading, driver, folder + str(lat) + ',' + str(lon) + '_' + 'right.png')\n",
    " \n",
    "    seleneium_look_left_snap(heading, driver, folder + str(lat) + ',' + str(lon) + '_' + 'left.png')\n",
    " "
   ]
  },
  {
   "cell_type": "code",
   "execution_count": 3,
   "metadata": {},
   "outputs": [],
   "source": [
    "import geopandas as gpd\n",
    "streets = gpd.read_file(\"../data/brighton/brighton_streets.shp\")"
   ]
  },
  {
   "cell_type": "code",
   "execution_count": 4,
   "metadata": {},
   "outputs": [],
   "source": [
    "from shapely.geometry import GeometryCollection\n",
    "from copy import deepcopy\n",
    "def list_explode(gdf):\n",
    "    rows = []\n",
    "    old_rows = []\n",
    "    for i, row in gdf.iterrows():\n",
    "        mline = row['cut_geometry']\n",
    "        if type(mline) == GeometryCollection:\n",
    "            mline = mline.geoms\n",
    "        new_rows = [deepcopy(row) for i in range(len(row['cut_geometry']))]\n",
    "        for n, inline in enumerate(mline):\n",
    "            new_rows[n]['geometry'] = inline\n",
    "            old_rows.append(i)\n",
    "        rows.extend(new_rows)\n",
    "    new_gdf = gpd.GeoDataFrame(rows).reset_index(drop=True)\n",
    "    new_gdf.crs = \"EPSG:26919\"\n",
    "    return new_gdf\n"
   ]
  },
  {
   "cell_type": "code",
   "execution_count": 5,
   "metadata": {},
   "outputs": [],
   "source": [
    "# Thank you Sean Gilles https://gist.github.com/sgillies/465156#file_cut.py\n",
    "from shapely.geometry import LineString, Point\n",
    "from copy import deepcopy\n",
    "def cut(line, distance):\n",
    "    # Cuts a line in two at a distance from its starting point\n",
    "    if distance <= 0.0 or distance >= line.length:\n",
    "        return [LineString(line)]\n",
    "    coords = list(line.coords)\n",
    "    for i, p in enumerate(coords):\n",
    "        pd = line.project(Point(p))\n",
    "        if pd == distance:\n",
    "            return [\n",
    "                LineString(coords[:i+1]),\n",
    "                LineString(coords[i:])]\n",
    "        if pd > distance:\n",
    "            cp = line.interpolate(distance)\n",
    "            return [\n",
    "                LineString(coords[:i] + [(cp.x, cp.y)]),\n",
    "                LineString([(cp.x, cp.y)] + coords[i:])]\n",
    "        \n",
    "\n",
    "def recursive_cut(line, distance):\n",
    "    if [line] == cut(line, distance):\n",
    "        return [line]\n",
    "    else:\n",
    "        segment, rest = cut(line, distance)\n",
    "        return [segment] + recursive_cut(rest, distance)\n"
   ]
  },
  {
   "cell_type": "code",
   "execution_count": 6,
   "metadata": {},
   "outputs": [],
   "source": [
    "streets = streets.to_crs(\"EPSG:26919\")"
   ]
  },
  {
   "cell_type": "code",
   "execution_count": 7,
   "metadata": {},
   "outputs": [],
   "source": [
    "def mls_to_list_safe(geom):\n",
    "    if type(geom) == LineString:\n",
    "        return [geom]\n",
    "    elif (type(geom) == list and len(geom) == 1):\n",
    "        return geom\n",
    "    else:\n",
    "        try:\n",
    "            return geom.geoms\n",
    "        except AttributeError:\n",
    "            #list_of_geoms = list(geom)\n",
    "            #[g for geom in list_of_geoms for g in geom]\n",
    "            return list(geom)\n",
    "\n",
    "streets['cut_geometry'] = streets.geometry.map(mls_to_list_safe)\n",
    "streets = list_explode(streets)\n",
    "streets['cut_geometry'] = streets.geometry.map(lambda x : recursive_cut(x,12))\n",
    "streets_split = list_explode(streets)"
   ]
  },
  {
   "cell_type": "code",
   "execution_count": 8,
   "metadata": {},
   "outputs": [],
   "source": [
    "streets_split['length_m'] = streets_split.length\n",
    "streets_split.drop(inplace=True, columns=['length'])\n",
    "\n",
    "streets_split = streets_split.to_crs(\"EPSG:4326\")\n",
    "streets_split.drop(inplace=True, columns=['cut_geometry'])"
   ]
  },
  {
   "cell_type": "code",
   "execution_count": 9,
   "metadata": {},
   "outputs": [],
   "source": [
    "def midpoint(line):\n",
    "    p0 = line.coords[0]\n",
    "    p1 = line.coords[-1]\n",
    "    x0, y0 = p0\n",
    "    x1, y1 = p1\n",
    "    return ((x0 + x1)/2, (y0 + y1)/2)\n",
    "\n",
    "import math\n",
    "def heading(line):\n",
    "    # true north 0, east is 90\n",
    "    # so 90 - arctan\n",
    "    p0 = line.coords[0]\n",
    "    p1 = line.coords[-1]\n",
    "    x0, y0 = p0\n",
    "    x1, y1 = p1\n",
    "    \n",
    "    seg = (x1 - x0, y1 - y0)\n",
    "    angle = math.atan(seg[1]/seg[0]) * 180 / math.pi\n",
    "    return ((90 - angle) % 360)\n",
    "    "
   ]
  },
  {
   "cell_type": "code",
   "execution_count": 10,
   "metadata": {},
   "outputs": [],
   "source": [
    "# beta reduce or whatever\n",
    "streets_split['midpoint'] = streets_split.geometry.map(lambda x : midpoint(x))\n",
    "streets_split['heading'] = streets_split.geometry.map(lambda x : int(heading(x)))"
   ]
  },
  {
   "cell_type": "code",
   "execution_count": 11,
   "metadata": {},
   "outputs": [
    {
     "data": {
      "text/plain": [
       "16042"
      ]
     },
     "execution_count": 11,
     "metadata": {},
     "output_type": "execute_result"
    }
   ],
   "source": [
    "len(streets_split[streets_split['length_m'] > 11.9])"
   ]
  },
  {
   "cell_type": "code",
   "execution_count": 12,
   "metadata": {},
   "outputs": [],
   "source": [
    "with open(\"/home/adam/gapikey\", 'r') as gfile:\n",
    "    GKEY = gfile.readline().strip()\n",
    "\n",
    "def row_dict(row):\n",
    "    if row.length_m < 11.9:\n",
    "        pass\n",
    "    lon = str(row.midpoint[0])\n",
    "    lat = str(row.midpoint[1])\n",
    "    heading = row.heading\n",
    "    return {\n",
    "        'size': '1800x600',\n",
    "        'heading': heading,\n",
    "        'pitch': '0',\n",
    "        'location': str(lat) + ',' + str(lon),\n",
    "    }\n",
    "\n",
    "def gsv_urls(row):\n",
    "    dic = row_dict(row)\n",
    "    init = \"https://maps.googleapis.com/maps/api/streetview?\"\n",
    "    size = \"size=\" + dic['size']\n",
    "    location = \"&location=\" + dic['location']\n",
    "    heading_left = \"&heading=\" + str((dic['heading'] - 90) % 360)\n",
    "    heading_right = \"&heading=\" + str((dic['heading'] + 90) % 360)\n",
    "    pitch = \"&pitch=\" + dic['pitch']\n",
    "    key = \"&key=\" + GKEY\n",
    "    \n",
    "    url_left =''.join([init,size,location,heading_left,pitch,key])\n",
    "    url_right =''.join([init,size,location,heading_right,pitch,key])\n",
    "    \n",
    "    return (url_left, url_right)"
   ]
  },
  {
   "cell_type": "code",
   "execution_count": 13,
   "metadata": {},
   "outputs": [
    {
     "name": "stderr",
     "output_type": "stream",
     "text": [
      "/home/adam/.local/lib/python3.7/site-packages/tqdm/autonotebook/__init__.py:14: TqdmExperimentalWarning: Using `tqdm.autonotebook.tqdm` in notebook mode. Use `tqdm.tqdm` instead to force console mode (e.g. in jupyter console)\n",
      "  \" (e.g. in jupyter console)\", TqdmExperimentalWarning)\n"
     ]
    },
    {
     "data": {
      "application/vnd.jupyter.widget-view+json": {
       "model_id": "c5b3d097afa04f4a954de93f4bd80381",
       "version_major": 2,
       "version_minor": 0
      },
      "text/plain": [
       "HBox(children=(IntProgress(value=0, max=17096), HTML(value='')))"
      ]
     },
     "metadata": {},
     "output_type": "display_data"
    },
    {
     "name": "stdout",
     "output_type": "stream",
     "text": [
      "\n"
     ]
    }
   ],
   "source": [
    "import os.path\n",
    "import requests as req\n",
    "#https://maps.googleapis.com/maps/api/streetview?\n",
    "#size=600x300&location=46.414382,10.013988&heading=151.78&pitch=-0.76&key=YOUR_API_KEY&signature=YOUR_SIGNATURE\n",
    "from tqdm.autonotebook import tqdm\n",
    "\n",
    "for _, row in tqdm(list(streets_split.iterrows())[1000:]):\n",
    "    url_left = gsv_urls(row)[0]\n",
    "    url_right = gsv_urls(row)[1]\n",
    "    dic = row_dict(row)\n",
    "    path_left = \"../data/streetphotos/\" + dic['location'] + '_' + 'left.jpg'\n",
    "    path_right = \"../data/streetphotos/\" + dic['location'] + '_' + 'right.jpg'\n",
    "    \n",
    "    if os.path.isfile(path_left) and os.path.isfile(path_right):\n",
    "        continue\n",
    "        \n",
    "#    print('requesting')\n",
    "    pic_left = req.get(url_left).content\n",
    "    pic_right = req.get(url_right).content\n",
    "    \n",
    "    with open(path_left, 'wb') as file_left:\n",
    "        #pic_left.raw.decode_content = True\n",
    "        file_left.write(pic_left) \n",
    "    with open(path_right, 'wb') as file_right:\n",
    "        #pic_right.raw.decode_content = True\n",
    "        file_right.write(pic_right) \n",
    "#    print('saved')"
   ]
  },
  {
   "cell_type": "code",
   "execution_count": null,
   "metadata": {},
   "outputs": [],
   "source": [
    "len(streets_split)"
   ]
  },
  {
   "cell_type": "code",
   "execution_count": null,
   "metadata": {},
   "outputs": [],
   "source": []
  }
 ],
 "metadata": {
  "kernelspec": {
   "display_name": "Python 3",
   "language": "python",
   "name": "python3"
  },
  "language_info": {
   "codemirror_mode": {
    "name": "ipython",
    "version": 3
   },
   "file_extension": ".py",
   "mimetype": "text/x-python",
   "name": "python",
   "nbconvert_exporter": "python",
   "pygments_lexer": "ipython3",
   "version": "3.7.6"
  }
 },
 "nbformat": 4,
 "nbformat_minor": 2
}
